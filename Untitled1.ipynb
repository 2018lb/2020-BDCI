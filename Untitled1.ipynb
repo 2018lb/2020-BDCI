{
 "cells": [
  {
   "cell_type": "code",
   "execution_count": 1,
   "metadata": {},
   "outputs": [],
   "source": [
    "import pandas as pd\n",
    "import numpy as np\n",
    "from tqdm import tqdm\n",
    "from sklearn.model_selection import KFold\n",
    "from sklearn.metrics import classification_report, f1_score\n",
    "import lightgbm as lgb\n",
    "from collections import Counter\n",
    "import warnings\n",
    "import pickle\n",
    "from catboost import CatBoostClassifier\n",
    "warnings.filterwarnings(\"ignore\")\n",
    "from sklearn.model_selection import train_test_split\n",
    "import lightgbm as lgb\n",
    "import random\n",
    "from sklearn.ensemble import AdaBoostClassifier\n",
    "from sklearn.tree import DecisionTreeClassifier"
   ]
  },
  {
   "cell_type": "code",
   "execution_count": 2,
   "metadata": {},
   "outputs": [],
   "source": [
    "pro = pd.read_csv('per_road_pro.txt')\n",
    "attr = pd.read_table('attr.txt')"
   ]
  },
  {
   "cell_type": "markdown",
   "metadata": {},
   "source": [
    "### 读入数据"
   ]
  },
  {
   "cell_type": "code",
   "execution_count": 3,
   "metadata": {},
   "outputs": [],
   "source": [
    "train = pd.read_csv('train/is_train_20190702.txt')\n",
    "train = train.join(attr.set_index('linkid'), on='link')\n",
    "train = pd.merge(train, pro, how='left')\n",
    "y = train.label\n",
    "train = train.drop('label',1)\n",
    "y = np.where(y == 2, 1, -1)"
   ]
  },
  {
   "cell_type": "markdown",
   "metadata": {},
   "source": [
    "### 读入验证机集"
   ]
  },
  {
   "cell_type": "code",
   "execution_count": 4,
   "metadata": {},
   "outputs": [],
   "source": [
    "train_1 = pd.read_csv('train//is_train_20190730.txt')\n",
    "train_1 = train_1.join(attr.set_index('linkid'), on='link')\n",
    "y_5 = train_1.label\n",
    "train_1 = pd.merge(train_1, pro, how='left')\n",
    "train_1 = train_1.drop('label',1)\n",
    "y_5 = np.where(y_5 == 2, 1, 0)"
   ]
  },
  {
   "cell_type": "markdown",
   "metadata": {},
   "source": [
    "### 待预测数据"
   ]
  },
  {
   "cell_type": "code",
   "execution_count": 5,
   "metadata": {},
   "outputs": [],
   "source": [
    "T = pd.read_csv('one_day_speed.txt')\n",
    "T = T.join(attr.set_index('linkid'), on='link')\n",
    "T = pd.merge(T, pro, how='left')\n",
    "y_1 = T.label\n",
    "T = T.drop('label',1)"
   ]
  },
  {
   "cell_type": "code",
   "execution_count": 6,
   "metadata": {},
   "outputs": [],
   "source": [
    "kkk1 = y_1\n",
    "kkk1 = np.where(kkk1 <500, 0, 0)"
   ]
  },
  {
   "cell_type": "markdown",
   "metadata": {},
   "source": [
    "### catboost模型融合"
   ]
  },
  {
   "cell_type": "code",
   "execution_count": 44,
   "metadata": {
    "scrolled": true
   },
   "outputs": [
    {
     "name": "stderr",
     "output_type": "stream",
     "text": [
      " 12%|██████████▌                                                                         | 1/8 [00:14<01:42, 14.66s/it]"
     ]
    },
    {
     "name": "stdout",
     "output_type": "stream",
     "text": [
      "              precision    recall  f1-score   support\n",
      "\n",
      "           0     0.9934    0.9995    0.9964    174610\n",
      "           1     0.7684    0.1949    0.3109      1447\n",
      "\n",
      "    accuracy                         0.9929    176057\n",
      "   macro avg     0.8809    0.5972    0.6537    176057\n",
      "weighted avg     0.9915    0.9929    0.9908    176057\n",
      "\n"
     ]
    },
    {
     "name": "stderr",
     "output_type": "stream",
     "text": [
      "\r",
      " 25%|█████████████████████                                                               | 2/8 [00:27<01:24, 14.00s/it]"
     ]
    },
    {
     "name": "stdout",
     "output_type": "stream",
     "text": [
      "              precision    recall  f1-score   support\n",
      "\n",
      "           0     0.9934    0.9994    0.9964    174610\n",
      "           1     0.7456    0.2046    0.3210      1447\n",
      "\n",
      "    accuracy                         0.9929    176057\n",
      "   macro avg     0.8695    0.6020    0.6587    176057\n",
      "weighted avg     0.9914    0.9929    0.9909    176057\n",
      "\n"
     ]
    },
    {
     "name": "stderr",
     "output_type": "stream",
     "text": [
      "\r",
      " 38%|███████████████████████████████▌                                                    | 3/8 [00:38<01:06, 13.33s/it]"
     ]
    },
    {
     "name": "stdout",
     "output_type": "stream",
     "text": [
      "              precision    recall  f1-score   support\n",
      "\n",
      "           0     0.9934    0.9996    0.9965    174610\n",
      "           1     0.7944    0.1949    0.3130      1447\n",
      "\n",
      "    accuracy                         0.9930    176057\n",
      "   macro avg     0.8939    0.5972    0.6547    176057\n",
      "weighted avg     0.9917    0.9930    0.9908    176057\n",
      "\n"
     ]
    },
    {
     "name": "stderr",
     "output_type": "stream",
     "text": [
      "\r",
      " 50%|██████████████████████████████████████████                                          | 4/8 [00:56<00:57, 14.49s/it]"
     ]
    },
    {
     "name": "stdout",
     "output_type": "stream",
     "text": [
      "              precision    recall  f1-score   support\n",
      "\n",
      "           0     0.9934    0.9995    0.9965    174610\n",
      "           1     0.7682    0.2039    0.3222      1447\n",
      "\n",
      "    accuracy                         0.9930    176057\n",
      "   macro avg     0.8808    0.6017    0.6593    176057\n",
      "weighted avg     0.9916    0.9930    0.9909    176057\n",
      "\n"
     ]
    },
    {
     "name": "stderr",
     "output_type": "stream",
     "text": [
      "\r",
      " 62%|████████████████████████████████████████████████████▌                               | 5/8 [01:10<00:43, 14.37s/it]"
     ]
    },
    {
     "name": "stdout",
     "output_type": "stream",
     "text": [
      "              precision    recall  f1-score   support\n",
      "\n",
      "           0     0.9933    0.9994    0.9964    174610\n",
      "           1     0.7302    0.1907    0.3025      1447\n",
      "\n",
      "    accuracy                         0.9928    176057\n",
      "   macro avg     0.8617    0.5951    0.6494    176057\n",
      "weighted avg     0.9912    0.9928    0.9907    176057\n",
      "\n"
     ]
    },
    {
     "name": "stderr",
     "output_type": "stream",
     "text": [
      "\r",
      " 75%|███████████████████████████████████████████████████████████████                     | 6/8 [01:25<00:29, 14.80s/it]"
     ]
    },
    {
     "name": "stdout",
     "output_type": "stream",
     "text": [
      "              precision    recall  f1-score   support\n",
      "\n",
      "           0     0.9932    0.9994    0.9963    174610\n",
      "           1     0.6923    0.1742    0.2783      1447\n",
      "\n",
      "    accuracy                         0.9926    176057\n",
      "   macro avg     0.8428    0.5868    0.6373    176057\n",
      "weighted avg     0.9907    0.9926    0.9904    176057\n",
      "\n"
     ]
    },
    {
     "name": "stderr",
     "output_type": "stream",
     "text": [
      "\r",
      " 88%|█████████████████████████████████████████████████████████████████████████▌          | 7/8 [01:39<00:14, 14.30s/it]"
     ]
    },
    {
     "name": "stdout",
     "output_type": "stream",
     "text": [
      "              precision    recall  f1-score   support\n",
      "\n",
      "           0     0.9936    0.9994    0.9965    174610\n",
      "           1     0.7524    0.2205    0.3410      1447\n",
      "\n",
      "    accuracy                         0.9930    176057\n",
      "   macro avg     0.8730    0.6099    0.6687    176057\n",
      "weighted avg     0.9916    0.9930    0.9911    176057\n",
      "\n"
     ]
    },
    {
     "name": "stderr",
     "output_type": "stream",
     "text": [
      "100%|████████████████████████████████████████████████████████████████████████████████████| 8/8 [01:51<00:00, 13.90s/it]"
     ]
    },
    {
     "name": "stdout",
     "output_type": "stream",
     "text": [
      "              precision    recall  f1-score   support\n",
      "\n",
      "           0     0.9935    0.9994    0.9965    174610\n",
      "           1     0.7566    0.2170    0.3373      1447\n",
      "\n",
      "    accuracy                         0.9930    176057\n",
      "   macro avg     0.8751    0.6082    0.6669    176057\n",
      "weighted avg     0.9916    0.9930    0.9911    176057\n",
      "\n"
     ]
    },
    {
     "name": "stderr",
     "output_type": "stream",
     "text": [
      "\n"
     ]
    }
   ],
   "source": [
    "kkk1 = kkk1.reshape(-1,1)\n",
    "cnt_y = np.where(y_1 == 2, 1, 0)\n",
    "for i in tqdm(range(2,10)):\n",
    "    path = 'train/is_train_2019070'+str(i)+'.txt'\n",
    "    train = pd.read_csv(path)\n",
    "    train = train.join(attr.set_index('linkid'), on='link')\n",
    "    train = pd.merge(train, pro, how='left')\n",
    "    y = train.label\n",
    "    train = train.drop('label',1)\n",
    "    y = np.where(y == 2, 1, 0)\n",
    "    # class_weight={0:0.6,1:0.2}\n",
    "    w = np.array(1/(y+1.2))\n",
    "    model_cat = CatBoostClassifier(iterations=200,depth=6,l2_leaf_reg=50,learning_rate=0.8,random_strength=1,\n",
    "                                      loss_function='MultiClassOneVsAll',verbose=False)\n",
    "\n",
    "    model_cat.fit(train,y,eval_set=(train_1,y_5),early_stopping_rounds=20,sample_weight = w)\n",
    "    kkk = model_cat.predict(T)\n",
    "    kkk1 = np.where((kkk == 1),kkk1+1,kkk1)\n",
    "    print(classification_report(cnt_y, kkk, digits=4))"
   ]
  },
  {
   "cell_type": "code",
   "execution_count": 45,
   "metadata": {
    "scrolled": true
   },
   "outputs": [
    {
     "name": "stderr",
     "output_type": "stream",
     "text": [
      "100%|██████████████████████████████████████████████████████████████████████████████████| 20/20 [05:02<00:00, 15.10s/it]\n"
     ]
    }
   ],
   "source": [
    "for i in tqdm(range(10,30)):\n",
    "    path = 'train/is_train_201907'+str(i)+'.txt'\n",
    "    train = pd.read_csv(path)\n",
    "    train = train.join(attr.set_index('linkid'), on='link')\n",
    "    train = pd.merge(train, pro, how='left')\n",
    "    y = train.label\n",
    "    train = train.drop('label',1)\n",
    "    y = np.where(y == 2, 1, 0)\n",
    "    # class_weight={0:0.6,1:0.2}\n",
    "    w = np.array(1/(y+1.2))\n",
    "    model_cat = CatBoostClassifier(iterations=200,depth=6,l2_leaf_reg=50,learning_rate=0.8,random_strength=1,\n",
    "                                      loss_function='MultiClassOneVsAll',verbose=False)\n",
    "\n",
    "    model_cat.fit(train,y,eval_set=(train_1,y_5),early_stopping_rounds=20,sample_weight = w)\n",
    "    kkk = model_cat.predict(T)\n",
    "    #kkk1 = np.where((kkk1 == 1)|(kkk == 1),1,0)\n",
    "    kkk1 = np.where((kkk == 1),kkk1+1,kkk1)"
   ]
  },
  {
   "cell_type": "code",
   "execution_count": 43,
   "metadata": {},
   "outputs": [
    {
     "name": "stdout",
     "output_type": "stream",
     "text": [
      "              precision    recall  f1-score   support\n",
      "\n",
      "           0     0.9799    0.9891    0.9845    169841\n",
      "           1     0.4711    0.4039    0.4349      4769\n",
      "           2     0.6912    0.2598    0.3777      1447\n",
      "\n",
      "    accuracy                         0.9672    176057\n",
      "   macro avg     0.7141    0.5509    0.5990    176057\n",
      "weighted avg     0.9638    0.9672    0.9646    176057\n",
      "\n",
      "Score:  0.5104945835689589\n"
     ]
    }
   ],
   "source": [
    "kkk1 = kkk1.reshape(-1,1)\n",
    "cnt = model.predict(T)\n",
    "cnt = np.where(kkk1 > 0, 2, cnt)\n",
    "cnt = np.where((kkk1 <= 0)&(cnt == 2), 1, cnt)\n",
    "report = f1_score(y_validation, cnt, average=None)\n",
    "print(classification_report(y_validation, cnt, digits=4))\n",
    "Score = report[0] * 0.2 + report[1] * 0.2 + report[2] * 0.6\n",
    "print('Score: ', report[0] * 0.2 + report[1] * 0.2 + report[2] * 0.6)"
   ]
  },
  {
   "cell_type": "code",
   "execution_count": 51,
   "metadata": {},
   "outputs": [],
   "source": [
    "qqq = kkk1"
   ]
  },
  {
   "cell_type": "markdown",
   "metadata": {},
   "source": [
    "### 测试"
   ]
  },
  {
   "cell_type": "code",
   "execution_count": null,
   "metadata": {},
   "outputs": [],
   "source": [
    "train = pd.read_csv('train/is_train_20190710.txt')\n",
    "train = pd.merge(train, pro, how='left')\n",
    "y = train.label\n",
    "train = train.drop('label',1)"
   ]
  },
  {
   "cell_type": "code",
   "execution_count": 101,
   "metadata": {},
   "outputs": [],
   "source": [
    "train_1 = pd.read_csv('train//is_train_20190730.txt')\n",
    "y_5 = train_1.label\n",
    "train_1 = pd.merge(train_1, pro, how='left')\n",
    "train_1 = train_1.drop('label',1)"
   ]
  },
  {
   "cell_type": "code",
   "execution_count": 80,
   "metadata": {
    "collapsed": true
   },
   "outputs": [
    {
     "ename": "KeyboardInterrupt",
     "evalue": "",
     "output_type": "error",
     "traceback": [
      "\u001b[1;31m---------------------------------------------------------------------------\u001b[0m",
      "\u001b[1;31mKeyboardInterrupt\u001b[0m                         Traceback (most recent call last)",
      "\u001b[1;32m<ipython-input-80-e4bd244402ad>\u001b[0m in \u001b[0;36m<module>\u001b[1;34m\u001b[0m\n\u001b[0;32m      4\u001b[0m \u001b[0mtrain\u001b[0m \u001b[1;33m=\u001b[0m \u001b[0mtrain\u001b[0m\u001b[1;33m.\u001b[0m\u001b[0mdrop\u001b[0m\u001b[1;33m(\u001b[0m\u001b[1;34m'label'\u001b[0m\u001b[1;33m,\u001b[0m\u001b[1;36m1\u001b[0m\u001b[1;33m)\u001b[0m\u001b[1;33m\u001b[0m\u001b[1;33m\u001b[0m\u001b[0m\n\u001b[0;32m      5\u001b[0m \u001b[1;33m\u001b[0m\u001b[0m\n\u001b[1;32m----> 6\u001b[1;33m \u001b[0mtrain_1\u001b[0m \u001b[1;33m=\u001b[0m \u001b[0mpd\u001b[0m\u001b[1;33m.\u001b[0m\u001b[0mread_csv\u001b[0m\u001b[1;33m(\u001b[0m\u001b[1;34m'train//is_train_20190730.txt'\u001b[0m\u001b[1;33m)\u001b[0m\u001b[1;33m\u001b[0m\u001b[1;33m\u001b[0m\u001b[0m\n\u001b[0m\u001b[0;32m      7\u001b[0m \u001b[0my_5\u001b[0m \u001b[1;33m=\u001b[0m \u001b[0mtrain_1\u001b[0m\u001b[1;33m.\u001b[0m\u001b[0mlabel\u001b[0m\u001b[1;33m\u001b[0m\u001b[1;33m\u001b[0m\u001b[0m\n\u001b[0;32m      8\u001b[0m \u001b[0mtrain_1\u001b[0m \u001b[1;33m=\u001b[0m \u001b[0mpd\u001b[0m\u001b[1;33m.\u001b[0m\u001b[0mmerge\u001b[0m\u001b[1;33m(\u001b[0m\u001b[0mtrain_1\u001b[0m\u001b[1;33m,\u001b[0m \u001b[0mpro\u001b[0m\u001b[1;33m,\u001b[0m \u001b[0mhow\u001b[0m\u001b[1;33m=\u001b[0m\u001b[1;34m'left'\u001b[0m\u001b[1;33m)\u001b[0m\u001b[1;33m\u001b[0m\u001b[1;33m\u001b[0m\u001b[0m\n",
      "\u001b[1;32mD:\\Anaconda3\\lib\\site-packages\\pandas\\io\\parsers.py\u001b[0m in \u001b[0;36mparser_f\u001b[1;34m(filepath_or_buffer, sep, delimiter, header, names, index_col, usecols, squeeze, prefix, mangle_dupe_cols, dtype, engine, converters, true_values, false_values, skipinitialspace, skiprows, skipfooter, nrows, na_values, keep_default_na, na_filter, verbose, skip_blank_lines, parse_dates, infer_datetime_format, keep_date_col, date_parser, dayfirst, cache_dates, iterator, chunksize, compression, thousands, decimal, lineterminator, quotechar, quoting, doublequote, escapechar, comment, encoding, dialect, error_bad_lines, warn_bad_lines, delim_whitespace, low_memory, memory_map, float_precision)\u001b[0m\n\u001b[0;32m    674\u001b[0m         )\n\u001b[0;32m    675\u001b[0m \u001b[1;33m\u001b[0m\u001b[0m\n\u001b[1;32m--> 676\u001b[1;33m         \u001b[1;32mreturn\u001b[0m \u001b[0m_read\u001b[0m\u001b[1;33m(\u001b[0m\u001b[0mfilepath_or_buffer\u001b[0m\u001b[1;33m,\u001b[0m \u001b[0mkwds\u001b[0m\u001b[1;33m)\u001b[0m\u001b[1;33m\u001b[0m\u001b[1;33m\u001b[0m\u001b[0m\n\u001b[0m\u001b[0;32m    677\u001b[0m \u001b[1;33m\u001b[0m\u001b[0m\n\u001b[0;32m    678\u001b[0m     \u001b[0mparser_f\u001b[0m\u001b[1;33m.\u001b[0m\u001b[0m__name__\u001b[0m \u001b[1;33m=\u001b[0m \u001b[0mname\u001b[0m\u001b[1;33m\u001b[0m\u001b[1;33m\u001b[0m\u001b[0m\n",
      "\u001b[1;32mD:\\Anaconda3\\lib\\site-packages\\pandas\\io\\parsers.py\u001b[0m in \u001b[0;36m_read\u001b[1;34m(filepath_or_buffer, kwds)\u001b[0m\n\u001b[0;32m    452\u001b[0m \u001b[1;33m\u001b[0m\u001b[0m\n\u001b[0;32m    453\u001b[0m     \u001b[1;32mtry\u001b[0m\u001b[1;33m:\u001b[0m\u001b[1;33m\u001b[0m\u001b[1;33m\u001b[0m\u001b[0m\n\u001b[1;32m--> 454\u001b[1;33m         \u001b[0mdata\u001b[0m \u001b[1;33m=\u001b[0m \u001b[0mparser\u001b[0m\u001b[1;33m.\u001b[0m\u001b[0mread\u001b[0m\u001b[1;33m(\u001b[0m\u001b[0mnrows\u001b[0m\u001b[1;33m)\u001b[0m\u001b[1;33m\u001b[0m\u001b[1;33m\u001b[0m\u001b[0m\n\u001b[0m\u001b[0;32m    455\u001b[0m     \u001b[1;32mfinally\u001b[0m\u001b[1;33m:\u001b[0m\u001b[1;33m\u001b[0m\u001b[1;33m\u001b[0m\u001b[0m\n\u001b[0;32m    456\u001b[0m         \u001b[0mparser\u001b[0m\u001b[1;33m.\u001b[0m\u001b[0mclose\u001b[0m\u001b[1;33m(\u001b[0m\u001b[1;33m)\u001b[0m\u001b[1;33m\u001b[0m\u001b[1;33m\u001b[0m\u001b[0m\n",
      "\u001b[1;32mD:\\Anaconda3\\lib\\site-packages\\pandas\\io\\parsers.py\u001b[0m in \u001b[0;36mread\u001b[1;34m(self, nrows)\u001b[0m\n\u001b[0;32m   1131\u001b[0m     \u001b[1;32mdef\u001b[0m \u001b[0mread\u001b[0m\u001b[1;33m(\u001b[0m\u001b[0mself\u001b[0m\u001b[1;33m,\u001b[0m \u001b[0mnrows\u001b[0m\u001b[1;33m=\u001b[0m\u001b[1;32mNone\u001b[0m\u001b[1;33m)\u001b[0m\u001b[1;33m:\u001b[0m\u001b[1;33m\u001b[0m\u001b[1;33m\u001b[0m\u001b[0m\n\u001b[0;32m   1132\u001b[0m         \u001b[0mnrows\u001b[0m \u001b[1;33m=\u001b[0m \u001b[0m_validate_integer\u001b[0m\u001b[1;33m(\u001b[0m\u001b[1;34m\"nrows\"\u001b[0m\u001b[1;33m,\u001b[0m \u001b[0mnrows\u001b[0m\u001b[1;33m)\u001b[0m\u001b[1;33m\u001b[0m\u001b[1;33m\u001b[0m\u001b[0m\n\u001b[1;32m-> 1133\u001b[1;33m         \u001b[0mret\u001b[0m \u001b[1;33m=\u001b[0m \u001b[0mself\u001b[0m\u001b[1;33m.\u001b[0m\u001b[0m_engine\u001b[0m\u001b[1;33m.\u001b[0m\u001b[0mread\u001b[0m\u001b[1;33m(\u001b[0m\u001b[0mnrows\u001b[0m\u001b[1;33m)\u001b[0m\u001b[1;33m\u001b[0m\u001b[1;33m\u001b[0m\u001b[0m\n\u001b[0m\u001b[0;32m   1134\u001b[0m \u001b[1;33m\u001b[0m\u001b[0m\n\u001b[0;32m   1135\u001b[0m         \u001b[1;31m# May alter columns / col_dict\u001b[0m\u001b[1;33m\u001b[0m\u001b[1;33m\u001b[0m\u001b[1;33m\u001b[0m\u001b[0m\n",
      "\u001b[1;32mD:\\Anaconda3\\lib\\site-packages\\pandas\\io\\parsers.py\u001b[0m in \u001b[0;36mread\u001b[1;34m(self, nrows)\u001b[0m\n\u001b[0;32m   2035\u001b[0m     \u001b[1;32mdef\u001b[0m \u001b[0mread\u001b[0m\u001b[1;33m(\u001b[0m\u001b[0mself\u001b[0m\u001b[1;33m,\u001b[0m \u001b[0mnrows\u001b[0m\u001b[1;33m=\u001b[0m\u001b[1;32mNone\u001b[0m\u001b[1;33m)\u001b[0m\u001b[1;33m:\u001b[0m\u001b[1;33m\u001b[0m\u001b[1;33m\u001b[0m\u001b[0m\n\u001b[0;32m   2036\u001b[0m         \u001b[1;32mtry\u001b[0m\u001b[1;33m:\u001b[0m\u001b[1;33m\u001b[0m\u001b[1;33m\u001b[0m\u001b[0m\n\u001b[1;32m-> 2037\u001b[1;33m             \u001b[0mdata\u001b[0m \u001b[1;33m=\u001b[0m \u001b[0mself\u001b[0m\u001b[1;33m.\u001b[0m\u001b[0m_reader\u001b[0m\u001b[1;33m.\u001b[0m\u001b[0mread\u001b[0m\u001b[1;33m(\u001b[0m\u001b[0mnrows\u001b[0m\u001b[1;33m)\u001b[0m\u001b[1;33m\u001b[0m\u001b[1;33m\u001b[0m\u001b[0m\n\u001b[0m\u001b[0;32m   2038\u001b[0m         \u001b[1;32mexcept\u001b[0m \u001b[0mStopIteration\u001b[0m\u001b[1;33m:\u001b[0m\u001b[1;33m\u001b[0m\u001b[1;33m\u001b[0m\u001b[0m\n\u001b[0;32m   2039\u001b[0m             \u001b[1;32mif\u001b[0m \u001b[0mself\u001b[0m\u001b[1;33m.\u001b[0m\u001b[0m_first_chunk\u001b[0m\u001b[1;33m:\u001b[0m\u001b[1;33m\u001b[0m\u001b[1;33m\u001b[0m\u001b[0m\n",
      "\u001b[1;32mpandas\\_libs\\parsers.pyx\u001b[0m in \u001b[0;36mpandas._libs.parsers.TextReader.read\u001b[1;34m()\u001b[0m\n",
      "\u001b[1;32mpandas\\_libs\\parsers.pyx\u001b[0m in \u001b[0;36mpandas._libs.parsers.TextReader._read_low_memory\u001b[1;34m()\u001b[0m\n",
      "\u001b[1;32mpandas\\_libs\\parsers.pyx\u001b[0m in \u001b[0;36mpandas._libs.parsers.TextReader._read_rows\u001b[1;34m()\u001b[0m\n",
      "\u001b[1;32mpandas\\_libs\\parsers.pyx\u001b[0m in \u001b[0;36mpandas._libs.parsers.TextReader._convert_column_data\u001b[1;34m()\u001b[0m\n",
      "\u001b[1;32mpandas\\_libs\\parsers.pyx\u001b[0m in \u001b[0;36mpandas._libs.parsers.TextReader._convert_tokens\u001b[1;34m()\u001b[0m\n",
      "\u001b[1;32mpandas\\_libs\\parsers.pyx\u001b[0m in \u001b[0;36mpandas._libs.parsers.TextReader._convert_with_dtype\u001b[1;34m()\u001b[0m\n",
      "\u001b[1;32mD:\\Anaconda3\\lib\\site-packages\\pandas\\core\\dtypes\\common.py\u001b[0m in \u001b[0;36mis_categorical_dtype\u001b[1;34m(arr_or_dtype)\u001b[0m\n\u001b[0;32m    540\u001b[0m \u001b[1;33m\u001b[0m\u001b[0m\n\u001b[0;32m    541\u001b[0m \u001b[1;33m\u001b[0m\u001b[0m\n\u001b[1;32m--> 542\u001b[1;33m \u001b[1;32mdef\u001b[0m \u001b[0mis_categorical_dtype\u001b[0m\u001b[1;33m(\u001b[0m\u001b[0marr_or_dtype\u001b[0m\u001b[1;33m)\u001b[0m \u001b[1;33m->\u001b[0m \u001b[0mbool\u001b[0m\u001b[1;33m:\u001b[0m\u001b[1;33m\u001b[0m\u001b[1;33m\u001b[0m\u001b[0m\n\u001b[0m\u001b[0;32m    543\u001b[0m     \"\"\"\n\u001b[0;32m    544\u001b[0m     \u001b[0mCheck\u001b[0m \u001b[0mwhether\u001b[0m \u001b[0man\u001b[0m \u001b[0marray\u001b[0m\u001b[1;33m-\u001b[0m\u001b[0mlike\u001b[0m \u001b[1;32mor\u001b[0m \u001b[0mdtype\u001b[0m \u001b[1;32mis\u001b[0m \u001b[0mof\u001b[0m \u001b[0mthe\u001b[0m \u001b[0mCategorical\u001b[0m \u001b[0mdtype\u001b[0m\u001b[1;33m.\u001b[0m\u001b[1;33m\u001b[0m\u001b[1;33m\u001b[0m\u001b[0m\n",
      "\u001b[1;31mKeyboardInterrupt\u001b[0m: "
     ]
    }
   ],
   "source": [
    "\n",
    "X_train = train\n",
    "X_validation = train_1\n",
    "y_train = y\n",
    "y_validation = y_5\n",
    "w = np.array((y_train+1))\n",
    "modelk = CatBoostClassifier(iterations=200,depth=6,l2_leaf_reg=8,learning_rate=0.5,random_strength=1,\n",
    "                                      loss_function='MultiClassOneVsAll',logging_level='Verbose')\n",
    "\n",
    "modelk.fit(X_train,y_train,eval_set=(X_validation,y_validation),sample_weight=w,early_stopping_rounds=20,verbose=False)\n"
   ]
  },
  {
   "cell_type": "code",
   "execution_count": 102,
   "metadata": {},
   "outputs": [
    {
     "name": "stdout",
     "output_type": "stream",
     "text": [
      "              precision    recall  f1-score   support\n",
      "\n",
      "           0     0.9423    0.9064    0.9240    420969\n",
      "           1     0.5305    0.6199    0.5717     70524\n",
      "           2     0.4548    0.5538    0.4995     18921\n",
      "\n",
      "    accuracy                         0.8538    510414\n",
      "   macro avg     0.6425    0.6934    0.6651    510414\n",
      "weighted avg     0.8673    0.8538    0.8596    510414\n",
      "\n",
      "              precision    recall  f1-score   support\n",
      "\n",
      "           0     0.9422    0.9066    0.9240    420969\n",
      "           1     0.5299    0.6232    0.5728     70524\n",
      "           2     0.4578    0.5425    0.4966     18921\n",
      "\n",
      "    accuracy                         0.8539    510414\n",
      "   macro avg     0.6433    0.6907    0.6645    510414\n",
      "weighted avg     0.8673    0.8539    0.8597    510414\n",
      "\n",
      "Score:  0.5988234451078297\n"
     ]
    }
   ],
   "source": [
    "ans = modelk.predict(X_validation)\n",
    "ans = np.where((kkk1 == 1),2, ans)\n",
    "print(classification_report(y_5, ans, digits=4))\n",
    "print(classification_report(y_5, modelk.predict(X_validation), digits=4))\n",
    "report = f1_score(y_5, ans, average=None)\n",
    "\n",
    "Score = report[0] * 0.2 + report[1] * 0.2 + report[2] * 0.6\n",
    "print('Score: ', report[0] * 0.2 + report[1] * 0.2 + report[2] * 0.6)"
   ]
  },
  {
   "cell_type": "code",
   "execution_count": 70,
   "metadata": {},
   "outputs": [
    {
     "name": "stdout",
     "output_type": "stream",
     "text": [
      "              precision    recall  f1-score   support\n",
      "\n",
      "          -1     0.9704    0.9973    0.9837    491493\n",
      "           1     0.7510    0.2089    0.3268     18921\n",
      "\n",
      "    accuracy                         0.9681    510414\n",
      "   macro avg     0.8607    0.6031    0.6553    510414\n",
      "weighted avg     0.9622    0.9681    0.9593    510414\n",
      "\n"
     ]
    }
   ],
   "source": [
    "kkk = model.predict(train_1)\n",
    "print(classification_report(y_5, kkk, digits=4))"
   ]
  },
  {
   "cell_type": "code",
   "execution_count": 61,
   "metadata": {},
   "outputs": [
    {
     "name": "stdout",
     "output_type": "stream",
     "text": [
      "              precision    recall  f1-score   support\n",
      "\n",
      "          -1     0.9700    0.9976    0.9836    491493\n",
      "           1     0.7625    0.1987    0.3153     18921\n",
      "\n",
      "    accuracy                         0.9680    510414\n",
      "   macro avg     0.8663    0.5982    0.6494    510414\n",
      "weighted avg     0.9623    0.9680    0.9588    510414\n",
      "\n"
     ]
    }
   ],
   "source": [
    "kkk = model.predict(train_1)\n",
    "print(classification_report(y_5, kkk, digits=4))"
   ]
  },
  {
   "cell_type": "markdown",
   "metadata": {},
   "source": [
    "### 模型结果测试"
   ]
  },
  {
   "cell_type": "code",
   "execution_count": 93,
   "metadata": {},
   "outputs": [
    {
     "data": {
      "text/plain": [
       "11459"
      ]
     },
     "execution_count": 93,
     "metadata": {},
     "output_type": "execute_result"
    }
   ],
   "source": [
    "np.sum(np.where(kkk1 == 1,1,0))"
   ]
  },
  {
   "cell_type": "code",
   "execution_count": 41,
   "metadata": {},
   "outputs": [],
   "source": [
    "train = pd.read_csv('train/is_train_20190704.txt')\n",
    "train = pd.merge(train, pro, how='left')\n",
    "y = train.label\n",
    "train = train.drop('label',1)\n",
    "y = np.where(y == 2, 1, -1)"
   ]
  },
  {
   "cell_type": "code",
   "execution_count": 39,
   "metadata": {
    "scrolled": true
   },
   "outputs": [
    {
     "name": "stdout",
     "output_type": "stream",
     "text": [
      "0:\tlearn: 0.3480904\ttest: 0.3512252\tbest: 0.3512252 (0)\ttotal: 142ms\tremaining: 28.2s\n",
      "1:\tlearn: 0.2190074\ttest: 0.2247808\tbest: 0.2247808 (1)\ttotal: 275ms\tremaining: 27.2s\n",
      "2:\tlearn: 0.1552830\ttest: 0.1631771\tbest: 0.1631771 (2)\ttotal: 423ms\tremaining: 27.8s\n",
      "3:\tlearn: 0.1212077\ttest: 0.1311370\tbest: 0.1311370 (3)\ttotal: 557ms\tremaining: 27.3s\n",
      "4:\tlearn: 0.1027331\ttest: 0.1144914\tbest: 0.1144914 (4)\ttotal: 710ms\tremaining: 27.7s\n",
      "5:\tlearn: 0.0920691\ttest: 0.1048430\tbest: 0.1048430 (5)\ttotal: 852ms\tremaining: 27.6s\n",
      "6:\tlearn: 0.0862589\ttest: 0.1000412\tbest: 0.1000412 (6)\ttotal: 996ms\tremaining: 27.5s\n",
      "7:\tlearn: 0.0827356\ttest: 0.0969857\tbest: 0.0969857 (7)\ttotal: 1.17s\tremaining: 28s\n",
      "8:\tlearn: 0.0812336\ttest: 0.0962381\tbest: 0.0962381 (8)\ttotal: 1.3s\tremaining: 27.6s\n",
      "9:\tlearn: 0.0799472\ttest: 0.0951678\tbest: 0.0951678 (9)\ttotal: 1.44s\tremaining: 27.3s\n",
      "10:\tlearn: 0.0790683\ttest: 0.0943361\tbest: 0.0943361 (10)\ttotal: 1.58s\tremaining: 27.1s\n",
      "11:\tlearn: 0.0780077\ttest: 0.0932962\tbest: 0.0932962 (11)\ttotal: 1.76s\tremaining: 27.6s\n",
      "12:\tlearn: 0.0778400\ttest: 0.0933209\tbest: 0.0932962 (11)\ttotal: 1.89s\tremaining: 27.2s\n",
      "13:\tlearn: 0.0776437\ttest: 0.0932406\tbest: 0.0932406 (13)\ttotal: 2.03s\tremaining: 27s\n",
      "14:\tlearn: 0.0772105\ttest: 0.0928723\tbest: 0.0928723 (14)\ttotal: 2.2s\tremaining: 27.1s\n",
      "15:\tlearn: 0.0770465\ttest: 0.0927598\tbest: 0.0927598 (15)\ttotal: 2.34s\tremaining: 26.9s\n",
      "16:\tlearn: 0.0769206\ttest: 0.0927170\tbest: 0.0927170 (16)\ttotal: 2.5s\tremaining: 26.9s\n",
      "17:\tlearn: 0.0767285\ttest: 0.0925744\tbest: 0.0925744 (17)\ttotal: 2.66s\tremaining: 26.9s\n",
      "18:\tlearn: 0.0766124\ttest: 0.0925452\tbest: 0.0925452 (18)\ttotal: 2.79s\tremaining: 26.6s\n",
      "19:\tlearn: 0.0764662\ttest: 0.0923768\tbest: 0.0923768 (19)\ttotal: 2.94s\tremaining: 26.5s\n",
      "20:\tlearn: 0.0763174\ttest: 0.0923184\tbest: 0.0923184 (20)\ttotal: 3.09s\tremaining: 26.3s\n",
      "21:\tlearn: 0.0761709\ttest: 0.0923131\tbest: 0.0923131 (21)\ttotal: 3.23s\tremaining: 26.1s\n",
      "22:\tlearn: 0.0759433\ttest: 0.0921111\tbest: 0.0921111 (22)\ttotal: 3.37s\tremaining: 25.9s\n",
      "23:\tlearn: 0.0757885\ttest: 0.0919948\tbest: 0.0919948 (23)\ttotal: 3.5s\tremaining: 25.7s\n",
      "24:\tlearn: 0.0756107\ttest: 0.0918516\tbest: 0.0918516 (24)\ttotal: 3.63s\tremaining: 25.4s\n",
      "25:\tlearn: 0.0755585\ttest: 0.0918175\tbest: 0.0918175 (25)\ttotal: 3.76s\tremaining: 25.2s\n",
      "26:\tlearn: 0.0753860\ttest: 0.0918528\tbest: 0.0918175 (25)\ttotal: 3.89s\tremaining: 24.9s\n",
      "27:\tlearn: 0.0753019\ttest: 0.0918040\tbest: 0.0918040 (27)\ttotal: 4.07s\tremaining: 25s\n",
      "28:\tlearn: 0.0751656\ttest: 0.0918158\tbest: 0.0918040 (27)\ttotal: 4.2s\tremaining: 24.8s\n",
      "29:\tlearn: 0.0749791\ttest: 0.0918009\tbest: 0.0918009 (29)\ttotal: 4.34s\tremaining: 24.6s\n",
      "30:\tlearn: 0.0748835\ttest: 0.0918418\tbest: 0.0918009 (29)\ttotal: 4.46s\tremaining: 24.3s\n",
      "31:\tlearn: 0.0747145\ttest: 0.0917353\tbest: 0.0917353 (31)\ttotal: 4.63s\tremaining: 24.3s\n",
      "32:\tlearn: 0.0746103\ttest: 0.0917209\tbest: 0.0917209 (32)\ttotal: 4.77s\tremaining: 24.2s\n",
      "33:\tlearn: 0.0743854\ttest: 0.0915755\tbest: 0.0915755 (33)\ttotal: 4.94s\tremaining: 24.1s\n",
      "34:\tlearn: 0.0742978\ttest: 0.0914902\tbest: 0.0914902 (34)\ttotal: 5.08s\tremaining: 23.9s\n",
      "35:\tlearn: 0.0742154\ttest: 0.0914946\tbest: 0.0914902 (34)\ttotal: 5.23s\tremaining: 23.8s\n",
      "36:\tlearn: 0.0740692\ttest: 0.0914547\tbest: 0.0914547 (36)\ttotal: 5.36s\tremaining: 23.6s\n",
      "37:\tlearn: 0.0739656\ttest: 0.0914364\tbest: 0.0914364 (37)\ttotal: 5.51s\tremaining: 23.5s\n",
      "38:\tlearn: 0.0738919\ttest: 0.0914560\tbest: 0.0914364 (37)\ttotal: 5.66s\tremaining: 23.3s\n",
      "39:\tlearn: 0.0737649\ttest: 0.0914470\tbest: 0.0914364 (37)\ttotal: 5.79s\tremaining: 23.2s\n",
      "40:\tlearn: 0.0736599\ttest: 0.0914616\tbest: 0.0914364 (37)\ttotal: 5.92s\tremaining: 23s\n",
      "41:\tlearn: 0.0735525\ttest: 0.0914554\tbest: 0.0914364 (37)\ttotal: 6.08s\tremaining: 22.9s\n",
      "42:\tlearn: 0.0734526\ttest: 0.0914406\tbest: 0.0914364 (37)\ttotal: 6.23s\tremaining: 22.7s\n",
      "43:\tlearn: 0.0733910\ttest: 0.0914206\tbest: 0.0914206 (43)\ttotal: 6.36s\tremaining: 22.5s\n",
      "44:\tlearn: 0.0732624\ttest: 0.0913898\tbest: 0.0913898 (44)\ttotal: 6.49s\tremaining: 22.3s\n",
      "45:\tlearn: 0.0731943\ttest: 0.0914123\tbest: 0.0913898 (44)\ttotal: 6.63s\tremaining: 22.2s\n",
      "46:\tlearn: 0.0731218\ttest: 0.0914204\tbest: 0.0913898 (44)\ttotal: 6.77s\tremaining: 22s\n",
      "47:\tlearn: 0.0729987\ttest: 0.0913494\tbest: 0.0913494 (47)\ttotal: 6.92s\tremaining: 21.9s\n",
      "48:\tlearn: 0.0728890\ttest: 0.0913322\tbest: 0.0913322 (48)\ttotal: 7.07s\tremaining: 21.8s\n",
      "49:\tlearn: 0.0728058\ttest: 0.0913299\tbest: 0.0913299 (49)\ttotal: 7.21s\tremaining: 21.6s\n",
      "50:\tlearn: 0.0726794\ttest: 0.0912569\tbest: 0.0912569 (50)\ttotal: 7.36s\tremaining: 21.5s\n",
      "51:\tlearn: 0.0726170\ttest: 0.0912042\tbest: 0.0912042 (51)\ttotal: 7.49s\tremaining: 21.3s\n",
      "52:\tlearn: 0.0725248\ttest: 0.0912020\tbest: 0.0912020 (52)\ttotal: 7.63s\tremaining: 21.2s\n",
      "53:\tlearn: 0.0724704\ttest: 0.0911512\tbest: 0.0911512 (53)\ttotal: 7.77s\tremaining: 21s\n",
      "54:\tlearn: 0.0723851\ttest: 0.0911415\tbest: 0.0911415 (54)\ttotal: 7.9s\tremaining: 20.8s\n",
      "55:\tlearn: 0.0723030\ttest: 0.0911587\tbest: 0.0911415 (54)\ttotal: 8.06s\tremaining: 20.7s\n",
      "56:\tlearn: 0.0722107\ttest: 0.0911417\tbest: 0.0911415 (54)\ttotal: 8.2s\tremaining: 20.6s\n",
      "57:\tlearn: 0.0720854\ttest: 0.0911459\tbest: 0.0911415 (54)\ttotal: 8.34s\tremaining: 20.4s\n",
      "58:\tlearn: 0.0720081\ttest: 0.0911402\tbest: 0.0911402 (58)\ttotal: 8.5s\tremaining: 20.3s\n",
      "59:\tlearn: 0.0719578\ttest: 0.0911263\tbest: 0.0911263 (59)\ttotal: 8.63s\tremaining: 20.1s\n",
      "60:\tlearn: 0.0719023\ttest: 0.0911282\tbest: 0.0911263 (59)\ttotal: 8.77s\tremaining: 20s\n",
      "61:\tlearn: 0.0717531\ttest: 0.0910392\tbest: 0.0910392 (61)\ttotal: 8.93s\tremaining: 19.9s\n",
      "62:\tlearn: 0.0716767\ttest: 0.0910055\tbest: 0.0910055 (62)\ttotal: 9.09s\tremaining: 19.8s\n",
      "63:\tlearn: 0.0715586\ttest: 0.0910432\tbest: 0.0910055 (62)\ttotal: 9.24s\tremaining: 19.6s\n",
      "64:\tlearn: 0.0714254\ttest: 0.0909707\tbest: 0.0909707 (64)\ttotal: 9.42s\tremaining: 19.6s\n",
      "65:\tlearn: 0.0713524\ttest: 0.0909797\tbest: 0.0909707 (64)\ttotal: 9.59s\tremaining: 19.5s\n",
      "66:\tlearn: 0.0712900\ttest: 0.0910031\tbest: 0.0909707 (64)\ttotal: 9.74s\tremaining: 19.3s\n",
      "67:\tlearn: 0.0712461\ttest: 0.0909892\tbest: 0.0909707 (64)\ttotal: 9.88s\tremaining: 19.2s\n",
      "68:\tlearn: 0.0711896\ttest: 0.0910234\tbest: 0.0909707 (64)\ttotal: 10s\tremaining: 19.1s\n",
      "69:\tlearn: 0.0711060\ttest: 0.0910326\tbest: 0.0909707 (64)\ttotal: 10.2s\tremaining: 19s\n",
      "70:\tlearn: 0.0710067\ttest: 0.0910275\tbest: 0.0909707 (64)\ttotal: 10.4s\tremaining: 18.8s\n",
      "71:\tlearn: 0.0709125\ttest: 0.0910328\tbest: 0.0909707 (64)\ttotal: 10.5s\tremaining: 18.7s\n",
      "72:\tlearn: 0.0707866\ttest: 0.0910029\tbest: 0.0909707 (64)\ttotal: 10.7s\tremaining: 18.6s\n",
      "73:\tlearn: 0.0707302\ttest: 0.0909748\tbest: 0.0909707 (64)\ttotal: 10.9s\tremaining: 18.5s\n",
      "74:\tlearn: 0.0706527\ttest: 0.0910466\tbest: 0.0909707 (64)\ttotal: 11s\tremaining: 18.3s\n",
      "75:\tlearn: 0.0705201\ttest: 0.0910027\tbest: 0.0909707 (64)\ttotal: 11.2s\tremaining: 18.2s\n",
      "76:\tlearn: 0.0704223\ttest: 0.0910226\tbest: 0.0909707 (64)\ttotal: 11.3s\tremaining: 18.1s\n",
      "77:\tlearn: 0.0703825\ttest: 0.0910285\tbest: 0.0909707 (64)\ttotal: 11.5s\tremaining: 17.9s\n",
      "78:\tlearn: 0.0703131\ttest: 0.0910437\tbest: 0.0909707 (64)\ttotal: 11.6s\tremaining: 17.8s\n",
      "79:\tlearn: 0.0702372\ttest: 0.0910663\tbest: 0.0909707 (64)\ttotal: 11.7s\tremaining: 17.6s\n",
      "80:\tlearn: 0.0701614\ttest: 0.0910224\tbest: 0.0909707 (64)\ttotal: 11.9s\tremaining: 17.5s\n",
      "81:\tlearn: 0.0700633\ttest: 0.0910620\tbest: 0.0909707 (64)\ttotal: 12.1s\tremaining: 17.4s\n",
      "82:\tlearn: 0.0699831\ttest: 0.0910769\tbest: 0.0909707 (64)\ttotal: 12.2s\tremaining: 17.2s\n",
      "83:\tlearn: 0.0697828\ttest: 0.0908945\tbest: 0.0908945 (83)\ttotal: 12.4s\tremaining: 17.1s\n",
      "84:\tlearn: 0.0696794\ttest: 0.0909382\tbest: 0.0908945 (83)\ttotal: 12.5s\tremaining: 16.9s\n",
      "85:\tlearn: 0.0696293\ttest: 0.0909462\tbest: 0.0908945 (83)\ttotal: 12.7s\tremaining: 16.8s\n",
      "86:\tlearn: 0.0695373\ttest: 0.0909185\tbest: 0.0908945 (83)\ttotal: 12.8s\tremaining: 16.6s\n",
      "87:\tlearn: 0.0694992\ttest: 0.0909180\tbest: 0.0908945 (83)\ttotal: 13s\tremaining: 16.5s\n",
      "88:\tlearn: 0.0694357\ttest: 0.0909638\tbest: 0.0908945 (83)\ttotal: 13.1s\tremaining: 16.4s\n",
      "89:\tlearn: 0.0693673\ttest: 0.0909233\tbest: 0.0908945 (83)\ttotal: 13.3s\tremaining: 16.3s\n",
      "90:\tlearn: 0.0692653\ttest: 0.0909492\tbest: 0.0908945 (83)\ttotal: 13.5s\tremaining: 16.1s\n",
      "91:\tlearn: 0.0692262\ttest: 0.0909594\tbest: 0.0908945 (83)\ttotal: 13.6s\tremaining: 16s\n",
      "92:\tlearn: 0.0691595\ttest: 0.0909711\tbest: 0.0908945 (83)\ttotal: 13.8s\tremaining: 15.8s\n",
      "93:\tlearn: 0.0690712\ttest: 0.0910451\tbest: 0.0908945 (83)\ttotal: 13.9s\tremaining: 15.7s\n",
      "94:\tlearn: 0.0689562\ttest: 0.0910378\tbest: 0.0908945 (83)\ttotal: 14.1s\tremaining: 15.6s\n"
     ]
    },
    {
     "name": "stdout",
     "output_type": "stream",
     "text": [
      "95:\tlearn: 0.0688982\ttest: 0.0910223\tbest: 0.0908945 (83)\ttotal: 14.2s\tremaining: 15.4s\n",
      "96:\tlearn: 0.0688207\ttest: 0.0910718\tbest: 0.0908945 (83)\ttotal: 14.4s\tremaining: 15.3s\n",
      "97:\tlearn: 0.0687553\ttest: 0.0910956\tbest: 0.0908945 (83)\ttotal: 14.5s\tremaining: 15.1s\n",
      "98:\tlearn: 0.0687090\ttest: 0.0911066\tbest: 0.0908945 (83)\ttotal: 14.7s\tremaining: 14.9s\n",
      "99:\tlearn: 0.0686008\ttest: 0.0911450\tbest: 0.0908945 (83)\ttotal: 14.8s\tremaining: 14.8s\n",
      "100:\tlearn: 0.0685429\ttest: 0.0911627\tbest: 0.0908945 (83)\ttotal: 15s\tremaining: 14.7s\n",
      "101:\tlearn: 0.0684675\ttest: 0.0912106\tbest: 0.0908945 (83)\ttotal: 15.2s\tremaining: 14.6s\n",
      "102:\tlearn: 0.0684203\ttest: 0.0912232\tbest: 0.0908945 (83)\ttotal: 15.3s\tremaining: 14.4s\n",
      "103:\tlearn: 0.0683390\ttest: 0.0912599\tbest: 0.0908945 (83)\ttotal: 15.4s\tremaining: 14.3s\n",
      "Stopped by overfitting detector  (20 iterations wait)\n",
      "\n",
      "bestTest = 0.09089451013\n",
      "bestIteration = 83\n",
      "\n",
      "Shrink model to first 84 iterations.\n"
     ]
    },
    {
     "data": {
      "text/plain": [
       "<catboost.core.CatBoostClassifier at 0x2a6025b28e0>"
      ]
     },
     "execution_count": 39,
     "metadata": {},
     "output_type": "execute_result"
    }
   ],
   "source": [
    "w = np.array(1/(y+4))\n",
    "model_1 = CatBoostClassifier(iterations=200,depth=6,l2_leaf_reg=8,learning_rate=0.5,random_strength=1,\n",
    "                                      loss_function='MultiClassOneVsAll',logging_level='Verbose', fold_len_multiplier  = 1.1)\n",
    "\n",
    "model_1.fit(train,y,eval_set=(train_1,y_5),sample_weight=w,early_stopping_rounds=20)"
   ]
  },
  {
   "cell_type": "code",
   "execution_count": 171,
   "metadata": {},
   "outputs": [
    {
     "name": "stdout",
     "output_type": "stream",
     "text": [
      "              precision    recall  f1-score   support\n",
      "\n",
      "           0     0.9809    0.9816    0.9812    491493\n",
      "           1     0.5127    0.5028    0.5077     18921\n",
      "\n",
      "    accuracy                         0.9639    510414\n",
      "   macro avg     0.7468    0.7422    0.7445    510414\n",
      "weighted avg     0.9635    0.9639    0.9637    510414\n",
      "\n"
     ]
    }
   ],
   "source": [
    "# kkk1 = model_1.predict(train_1)\n",
    "print(classification_report(y_5, kkk1, digits=4))"
   ]
  },
  {
   "cell_type": "code",
   "execution_count": 99,
   "metadata": {},
   "outputs": [
    {
     "data": {
      "text/plain": [
       "13472"
      ]
     },
     "execution_count": 99,
     "metadata": {},
     "output_type": "execute_result"
    }
   ],
   "source": [
    "np.sum(np.where((kkk1 == 1),1,0))"
   ]
  },
  {
   "cell_type": "code",
   "execution_count": 50,
   "metadata": {},
   "outputs": [
    {
     "data": {
      "text/plain": [
       "7494"
      ]
     },
     "execution_count": 50,
     "metadata": {},
     "output_type": "execute_result"
    }
   ],
   "source": [
    "np.sum(np.where((kkk1 == 1)|(kkk == 1),1,0))"
   ]
  },
  {
   "cell_type": "markdown",
   "metadata": {},
   "source": [
    "### adaboost"
   ]
  },
  {
   "cell_type": "code",
   "execution_count": 2,
   "metadata": {},
   "outputs": [
    {
     "ename": "NameError",
     "evalue": "name 'pro' is not defined",
     "output_type": "error",
     "traceback": [
      "\u001b[1;31m---------------------------------------------------------------------------\u001b[0m",
      "\u001b[1;31mNameError\u001b[0m                                 Traceback (most recent call last)",
      "\u001b[1;32m<ipython-input-2-21fec05c183e>\u001b[0m in \u001b[0;36m<module>\u001b[1;34m\u001b[0m\n\u001b[0;32m      1\u001b[0m \u001b[0mtrain\u001b[0m \u001b[1;33m=\u001b[0m \u001b[0mpd\u001b[0m\u001b[1;33m.\u001b[0m\u001b[0mread_csv\u001b[0m\u001b[1;33m(\u001b[0m\u001b[1;34m'train/is_train_20190702.txt'\u001b[0m\u001b[1;33m)\u001b[0m\u001b[1;33m\u001b[0m\u001b[1;33m\u001b[0m\u001b[0m\n\u001b[1;32m----> 2\u001b[1;33m \u001b[0mtrain\u001b[0m \u001b[1;33m=\u001b[0m \u001b[0mpd\u001b[0m\u001b[1;33m.\u001b[0m\u001b[0mmerge\u001b[0m\u001b[1;33m(\u001b[0m\u001b[0mtrain\u001b[0m\u001b[1;33m,\u001b[0m \u001b[0mpro\u001b[0m\u001b[1;33m,\u001b[0m \u001b[0mhow\u001b[0m\u001b[1;33m=\u001b[0m\u001b[1;34m'left'\u001b[0m\u001b[1;33m)\u001b[0m\u001b[1;33m\u001b[0m\u001b[1;33m\u001b[0m\u001b[0m\n\u001b[0m\u001b[0;32m      3\u001b[0m \u001b[0my\u001b[0m \u001b[1;33m=\u001b[0m \u001b[0mtrain\u001b[0m\u001b[1;33m.\u001b[0m\u001b[0mlabel\u001b[0m\u001b[1;33m\u001b[0m\u001b[1;33m\u001b[0m\u001b[0m\n\u001b[0;32m      4\u001b[0m \u001b[0mtrain\u001b[0m \u001b[1;33m=\u001b[0m \u001b[0mtrain\u001b[0m\u001b[1;33m.\u001b[0m\u001b[0mdrop\u001b[0m\u001b[1;33m(\u001b[0m\u001b[1;34m'label'\u001b[0m\u001b[1;33m,\u001b[0m\u001b[1;36m1\u001b[0m\u001b[1;33m)\u001b[0m\u001b[1;33m\u001b[0m\u001b[1;33m\u001b[0m\u001b[0m\n\u001b[0;32m      5\u001b[0m \u001b[0my\u001b[0m \u001b[1;33m=\u001b[0m \u001b[0mnp\u001b[0m\u001b[1;33m.\u001b[0m\u001b[0mwhere\u001b[0m\u001b[1;33m(\u001b[0m\u001b[0my\u001b[0m \u001b[1;33m==\u001b[0m \u001b[1;36m2\u001b[0m\u001b[1;33m,\u001b[0m \u001b[1;36m1\u001b[0m\u001b[1;33m,\u001b[0m \u001b[1;33m-\u001b[0m\u001b[1;36m1\u001b[0m\u001b[1;33m)\u001b[0m\u001b[1;33m\u001b[0m\u001b[1;33m\u001b[0m\u001b[0m\n",
      "\u001b[1;31mNameError\u001b[0m: name 'pro' is not defined"
     ]
    }
   ],
   "source": [
    "train = pd.read_csv('train/is_train_20190702.txt')\n",
    "train = pd.merge(train, pro, how='left')\n",
    "y = train.label\n",
    "train = train.drop('label',1)\n",
    "y = np.where(y == 2, 1, -1)"
   ]
  },
  {
   "cell_type": "code",
   "execution_count": null,
   "metadata": {},
   "outputs": [],
   "source": [
    "train_1 = pd.read_csv('train//is_train_20190730.txt')\n",
    "y_5 = train_1.label\n",
    "train_1 = pd.merge(train_1, pro, how='left')\n",
    "train_1 = train_1.drop('label',1)\n",
    "y_5 = np.where(y_5 == 2, 1, -1)"
   ]
  },
  {
   "cell_type": "code",
   "execution_count": 118,
   "metadata": {},
   "outputs": [],
   "source": [
    "bdt = AdaBoostClassifier(DecisionTreeClassifier(max_depth=2, min_samples_split=20, min_samples_leaf=5),\n",
    "                         algorithm=\"SAMME\",n_estimators=50, learning_rate=0.8)"
   ]
  },
  {
   "cell_type": "code",
   "execution_count": 119,
   "metadata": {},
   "outputs": [
    {
     "data": {
      "text/plain": [
       "AdaBoostClassifier(algorithm='SAMME',\n",
       "                   base_estimator=DecisionTreeClassifier(max_depth=2,\n",
       "                                                         min_samples_leaf=5,\n",
       "                                                         min_samples_split=20),\n",
       "                   learning_rate=0.8)"
      ]
     },
     "execution_count": 119,
     "metadata": {},
     "output_type": "execute_result"
    }
   ],
   "source": [
    "bdt.fit(train,y)"
   ]
  },
  {
   "cell_type": "code",
   "execution_count": 120,
   "metadata": {},
   "outputs": [
    {
     "name": "stdout",
     "output_type": "stream",
     "text": [
      "              precision    recall  f1-score   support\n",
      "\n",
      "          -1     0.9711    0.9949    0.9829    491493\n",
      "           1     0.6358    0.2302    0.3380     18921\n",
      "\n",
      "    accuracy                         0.9666    510414\n",
      "   macro avg     0.8034    0.6125    0.6604    510414\n",
      "weighted avg     0.9586    0.9666    0.9589    510414\n",
      "\n"
     ]
    }
   ],
   "source": [
    "ada = bdt.predict(train_1)\n",
    "print(classification_report(y_5, ada, digits=4))"
   ]
  },
  {
   "cell_type": "code",
   "execution_count": 113,
   "metadata": {},
   "outputs": [
    {
     "data": {
      "text/plain": [
       "array([[-1],\n",
       "       [-1],\n",
       "       [-1],\n",
       "       ...,\n",
       "       [-1],\n",
       "       [-1],\n",
       "       [-1]])"
      ]
     },
     "execution_count": 113,
     "metadata": {},
     "output_type": "execute_result"
    }
   ],
   "source": [
    "ada"
   ]
  },
  {
   "cell_type": "code",
   "execution_count": 115,
   "metadata": {},
   "outputs": [],
   "source": [
    "op = np.where(kkk1 == 1, 1, ada.reshape(-1,1))"
   ]
  },
  {
   "cell_type": "code",
   "execution_count": 116,
   "metadata": {},
   "outputs": [
    {
     "name": "stdout",
     "output_type": "stream",
     "text": [
      "              precision    recall  f1-score   support\n",
      "\n",
      "          -1     0.9791    0.9849    0.9820    491493\n",
      "           1     0.5365    0.4548    0.4923     18921\n",
      "\n",
      "    accuracy                         0.9652    510414\n",
      "   macro avg     0.7578    0.7198    0.7371    510414\n",
      "weighted avg     0.9627    0.9652    0.9638    510414\n",
      "\n"
     ]
    }
   ],
   "source": [
    "print(classification_report(y_5, op, digits=4))"
   ]
  },
  {
   "cell_type": "markdown",
   "metadata": {},
   "source": [
    "### lightgbm"
   ]
  },
  {
   "cell_type": "code",
   "execution_count": 37,
   "metadata": {},
   "outputs": [],
   "source": [
    "kkk2 = y_1\n",
    "kkk2 = np.where(kkk1 <500, 0, 0)\n",
    "kkk2 = kkk1.reshape(1,-1)\n",
    "cnt_y = np.where(y_1 == 2, 1, 0)"
   ]
  },
  {
   "cell_type": "code",
   "execution_count": 38,
   "metadata": {
    "scrolled": true
   },
   "outputs": [
    {
     "name": "stderr",
     "output_type": "stream",
     "text": [
      "\r",
      "  0%|                                                                                            | 0/8 [00:00<?, ?it/s]"
     ]
    },
    {
     "name": "stdout",
     "output_type": "stream",
     "text": [
      "Training until validation scores don't improve for 20 rounds\n",
      "[10]\ttraining's auc: 0.956402\tvalid_1's auc: 0.928951\n",
      "[20]\ttraining's auc: 0.973115\tvalid_1's auc: 0.929759\n",
      "[30]\ttraining's auc: 0.983612\tvalid_1's auc: 0.929455\n",
      "Early stopping, best iteration is:\n",
      "[19]\ttraining's auc: 0.972298\tvalid_1's auc: 0.92983\n"
     ]
    },
    {
     "name": "stderr",
     "output_type": "stream",
     "text": [
      "\r",
      " 12%|██████████▌                                                                         | 1/8 [00:11<01:19, 11.41s/it]"
     ]
    },
    {
     "name": "stdout",
     "output_type": "stream",
     "text": [
      "              precision    recall  f1-score   support\n",
      "\n",
      "           0     0.9923    0.9999    0.9961    174610\n",
      "           1     0.8426    0.0629    0.1170      1447\n",
      "\n",
      "    accuracy                         0.9922    176057\n",
      "   macro avg     0.9174    0.5314    0.5566    176057\n",
      "weighted avg     0.9911    0.9922    0.9889    176057\n",
      "\n",
      "Training until validation scores don't improve for 20 rounds\n",
      "[10]\ttraining's auc: 0.9493\tvalid_1's auc: 0.929694\n",
      "[20]\ttraining's auc: 0.96771\tvalid_1's auc: 0.930364\n",
      "[30]\ttraining's auc: 0.980173\tvalid_1's auc: 0.929133\n",
      "Early stopping, best iteration is:\n",
      "[17]\ttraining's auc: 0.962805\tvalid_1's auc: 0.930715\n"
     ]
    },
    {
     "name": "stderr",
     "output_type": "stream",
     "text": [
      "\r",
      " 25%|█████████████████████                                                               | 2/8 [00:22<01:07, 11.30s/it]"
     ]
    },
    {
     "name": "stdout",
     "output_type": "stream",
     "text": [
      "              precision    recall  f1-score   support\n",
      "\n",
      "           0     0.9923    0.9999    0.9961    174610\n",
      "           1     0.8115    0.0684    0.1262      1447\n",
      "\n",
      "    accuracy                         0.9922    176057\n",
      "   macro avg     0.9019    0.5341    0.5611    176057\n",
      "weighted avg     0.9909    0.9922    0.9889    176057\n",
      "\n",
      "Training until validation scores don't improve for 20 rounds\n",
      "[10]\ttraining's auc: 0.952176\tvalid_1's auc: 0.931322\n",
      "[20]\ttraining's auc: 0.966727\tvalid_1's auc: 0.93251\n",
      "[30]\ttraining's auc: 0.978389\tvalid_1's auc: 0.931745\n",
      "[40]\ttraining's auc: 0.984053\tvalid_1's auc: 0.931074\n",
      "Early stopping, best iteration is:\n",
      "[20]\ttraining's auc: 0.966727\tvalid_1's auc: 0.93251\n"
     ]
    },
    {
     "name": "stderr",
     "output_type": "stream",
     "text": [
      "\r",
      " 38%|███████████████████████████████▌                                                    | 3/8 [00:34<00:57, 11.42s/it]"
     ]
    },
    {
     "name": "stdout",
     "output_type": "stream",
     "text": [
      "              precision    recall  f1-score   support\n",
      "\n",
      "           0     0.9922    1.0000    0.9961    174610\n",
      "           1     0.9259    0.0518    0.0982      1447\n",
      "\n",
      "    accuracy                         0.9922    176057\n",
      "   macro avg     0.9591    0.5259    0.5471    176057\n",
      "weighted avg     0.9917    0.9922    0.9887    176057\n",
      "\n",
      "Training until validation scores don't improve for 20 rounds\n",
      "[10]\ttraining's auc: 0.948654\tvalid_1's auc: 0.930891\n",
      "[20]\ttraining's auc: 0.96546\tvalid_1's auc: 0.931542\n",
      "[30]\ttraining's auc: 0.976158\tvalid_1's auc: 0.931357\n",
      "Early stopping, best iteration is:\n",
      "[15]\ttraining's auc: 0.956875\tvalid_1's auc: 0.932051\n"
     ]
    },
    {
     "name": "stderr",
     "output_type": "stream",
     "text": [
      "\r",
      " 50%|██████████████████████████████████████████                                          | 4/8 [00:45<00:45, 11.34s/it]"
     ]
    },
    {
     "name": "stdout",
     "output_type": "stream",
     "text": [
      "              precision    recall  f1-score   support\n",
      "\n",
      "           0     0.9920    1.0000    0.9960    174610\n",
      "           1     0.9149    0.0297    0.0576      1447\n",
      "\n",
      "    accuracy                         0.9920    176057\n",
      "   macro avg     0.9535    0.5148    0.5268    176057\n",
      "weighted avg     0.9914    0.9920    0.9883    176057\n",
      "\n",
      "Training until validation scores don't improve for 20 rounds\n",
      "[10]\ttraining's auc: 0.951145\tvalid_1's auc: 0.93014\n",
      "[20]\ttraining's auc: 0.965221\tvalid_1's auc: 0.931265\n",
      "[30]\ttraining's auc: 0.976319\tvalid_1's auc: 0.930407\n",
      "Early stopping, best iteration is:\n",
      "[19]\ttraining's auc: 0.963604\tvalid_1's auc: 0.93132\n"
     ]
    },
    {
     "name": "stderr",
     "output_type": "stream",
     "text": [
      "\r",
      " 62%|████████████████████████████████████████████████████▌                               | 5/8 [00:56<00:34, 11.38s/it]"
     ]
    },
    {
     "name": "stdout",
     "output_type": "stream",
     "text": [
      "              precision    recall  f1-score   support\n",
      "\n",
      "           0     0.9922    0.9999    0.9960    174610\n",
      "           1     0.8280    0.0532    0.1000      1447\n",
      "\n",
      "    accuracy                         0.9921    176057\n",
      "   macro avg     0.9101    0.5266    0.5480    176057\n",
      "weighted avg     0.9909    0.9921    0.9887    176057\n",
      "\n",
      "Training until validation scores don't improve for 20 rounds\n",
      "[10]\ttraining's auc: 0.950674\tvalid_1's auc: 0.928957\n",
      "[20]\ttraining's auc: 0.970262\tvalid_1's auc: 0.9298\n",
      "[30]\ttraining's auc: 0.981388\tvalid_1's auc: 0.929193\n",
      "Early stopping, best iteration is:\n",
      "[15]\ttraining's auc: 0.960526\tvalid_1's auc: 0.930175\n"
     ]
    },
    {
     "name": "stderr",
     "output_type": "stream",
     "text": [
      "\r",
      " 75%|███████████████████████████████████████████████████████████████                     | 6/8 [01:07<00:22, 11.19s/it]"
     ]
    },
    {
     "name": "stdout",
     "output_type": "stream",
     "text": [
      "              precision    recall  f1-score   support\n",
      "\n",
      "           0     0.9923    0.9999    0.9961    174610\n",
      "           1     0.8586    0.0587    0.1100      1447\n",
      "\n",
      "    accuracy                         0.9922    176057\n",
      "   macro avg     0.9254    0.5293    0.5530    176057\n",
      "weighted avg     0.9912    0.9922    0.9888    176057\n",
      "\n",
      "Training until validation scores don't improve for 20 rounds\n",
      "[10]\ttraining's auc: 0.951623\tvalid_1's auc: 0.931171\n",
      "[20]\ttraining's auc: 0.965854\tvalid_1's auc: 0.93092\n",
      "[30]\ttraining's auc: 0.974678\tvalid_1's auc: 0.930361\n",
      "Early stopping, best iteration is:\n",
      "[12]\ttraining's auc: 0.954956\tvalid_1's auc: 0.931457\n"
     ]
    },
    {
     "name": "stderr",
     "output_type": "stream",
     "text": [
      "\r",
      " 88%|█████████████████████████████████████████████████████████████████████████▌          | 7/8 [01:18<00:11, 11.17s/it]"
     ]
    },
    {
     "name": "stdout",
     "output_type": "stream",
     "text": [
      "              precision    recall  f1-score   support\n",
      "\n",
      "           0     0.9922    0.9999    0.9960    174610\n",
      "           1     0.7935    0.0504    0.0949      1447\n",
      "\n",
      "    accuracy                         0.9921    176057\n",
      "   macro avg     0.8928    0.5252    0.5454    176057\n",
      "weighted avg     0.9906    0.9921    0.9886    176057\n",
      "\n",
      "Training until validation scores don't improve for 20 rounds\n",
      "[10]\ttraining's auc: 0.950131\tvalid_1's auc: 0.93039\n",
      "[20]\ttraining's auc: 0.967938\tvalid_1's auc: 0.931004\n",
      "[30]\ttraining's auc: 0.978064\tvalid_1's auc: 0.931026\n",
      "Early stopping, best iteration is:\n",
      "[17]\ttraining's auc: 0.962815\tvalid_1's auc: 0.931389\n"
     ]
    },
    {
     "name": "stderr",
     "output_type": "stream",
     "text": [
      "100%|████████████████████████████████████████████████████████████████████████████████████| 8/8 [01:30<00:00, 11.26s/it]"
     ]
    },
    {
     "name": "stdout",
     "output_type": "stream",
     "text": [
      "              precision    recall  f1-score   support\n",
      "\n",
      "           0     0.9923    0.9999    0.9961    174610\n",
      "           1     0.8279    0.0698    0.1287      1447\n",
      "\n",
      "    accuracy                         0.9922    176057\n",
      "   macro avg     0.9101    0.5348    0.5624    176057\n",
      "weighted avg     0.9910    0.9922    0.9890    176057\n",
      "\n"
     ]
    },
    {
     "name": "stderr",
     "output_type": "stream",
     "text": [
      "\n"
     ]
    }
   ],
   "source": [
    "for i in tqdm(range(2,10)):\n",
    "    a = random.randint(0,2000)\n",
    "    path = 'train/is_train_2019070'+str(i)+'.txt'\n",
    "    train = pd.read_csv(path)\n",
    "    train = train.join(attr.set_index('linkid'), on='link')\n",
    "    train = pd.merge(train, pro, how='left')\n",
    "    y = train.label\n",
    "    train = train.drop('label',1)\n",
    "    y = np.where(y == 2, 1, 0)\n",
    "    \n",
    "    lgb_train =  lgb.Dataset(train, label=y)\n",
    "    lgb_eval = lgb.Dataset(train_1, label=y_5, reference=lgb_train) \n",
    "\n",
    "\n",
    "    parameters = {\n",
    "                      'task': 'train',\n",
    "                      'max_depth': 15,\n",
    "                      'boosting_type': 'gbdt',\n",
    "                      'num_leaves': 100,        # 叶子节点数\n",
    "                      'n_estimators': 50,\n",
    "                      'objective': 'binary',\n",
    "                      'metric': 'auc',\n",
    "                      'learning_rate': 0.2,\n",
    "                      'feature_fraction': 0.7, #小于 1.0, LightGBM 将会在每次迭代中随机选择部分特征.\n",
    "                      'bagging_fraction': 1,   #类似于 feature_fraction, 但是它将在不进行重采样的情况下随机选择部分数据\n",
    "                      'bagging_freq': 1,       #bagging 的频率, 0 意味着禁用 bagging. k 意味着每 k 次迭代执行bagging        \n",
    "                      'lambda_l1': 0.38,\n",
    "                      \"nthread\": -1,\n",
    "                      'lambda_l2': 0.31,\n",
    "                      'cat_smooth': 10,        #用于分类特征,这可以降低噪声在分类特征中的影响, 尤其是对数据很少的类别\n",
    "                      'is_unbalance': False,   #适合二分类。这里如果设置为True，评估结果降低3个点\n",
    "                      'verbose': 0\n",
    "                      }\n",
    "\n",
    "\n",
    "    evals_result = {}  #记录训练结果所用\n",
    "    gbm_model = lgb.train(parameters,\n",
    "                        lgb_train,\n",
    "                        valid_sets=[lgb_train,lgb_eval],\n",
    "                        num_boost_round=2000,          #提升迭代的次数\n",
    "                        early_stopping_rounds=20,\n",
    "                        evals_result=evals_result,\n",
    "                        verbose_eval=10\n",
    "                        )\n",
    "\n",
    "\n",
    "    prediction = gbm_model.predict(T,num_iteration=gbm_model.best_iteration)\n",
    "    ppp = np.where(prediction>0.88,1,0)\n",
    "    kkk2 = np.where((kkk2 == 1)|(ppp == 1),1,0)\n",
    "    print(classification_report(cnt_y, ppp, digits=4))"
   ]
  },
  {
   "cell_type": "code",
   "execution_count": 39,
   "metadata": {
    "scrolled": true
   },
   "outputs": [
    {
     "name": "stderr",
     "output_type": "stream",
     "text": [
      "\r",
      "  0%|                                                                                           | 0/20 [00:00<?, ?it/s]"
     ]
    },
    {
     "name": "stdout",
     "output_type": "stream",
     "text": [
      "Training until validation scores don't improve for 5 rounds\n",
      "[10]\ttraining's auc: 0.950671\tvalid_1's auc: 0.931423\n",
      "Early stopping, best iteration is:\n",
      "[14]\ttraining's auc: 0.956889\tvalid_1's auc: 0.932099\n"
     ]
    },
    {
     "name": "stderr",
     "output_type": "stream",
     "text": [
      "\r",
      "  5%|████▏                                                                              | 1/20 [00:09<02:57,  9.34s/it]"
     ]
    },
    {
     "name": "stdout",
     "output_type": "stream",
     "text": [
      "              precision    recall  f1-score   support\n",
      "\n",
      "           0     0.9923    0.9999    0.9961    174610\n",
      "           1     0.8750    0.0677    0.1257      1447\n",
      "\n",
      "    accuracy                         0.9923    176057\n",
      "   macro avg     0.9337    0.5338    0.5609    176057\n",
      "weighted avg     0.9914    0.9923    0.9890    176057\n",
      "\n",
      "Training until validation scores don't improve for 5 rounds\n",
      "[10]\ttraining's auc: 0.950996\tvalid_1's auc: 0.932397\n",
      "[20]\ttraining's auc: 0.966098\tvalid_1's auc: 0.933254\n",
      "Early stopping, best iteration is:\n",
      "[19]\ttraining's auc: 0.964557\tvalid_1's auc: 0.933411\n"
     ]
    },
    {
     "name": "stderr",
     "output_type": "stream",
     "text": [
      "\r",
      " 10%|████████▎                                                                          | 2/20 [00:19<02:52,  9.58s/it]"
     ]
    },
    {
     "name": "stdout",
     "output_type": "stream",
     "text": [
      "              precision    recall  f1-score   support\n",
      "\n",
      "           0     0.9922    0.9999    0.9961    174610\n",
      "           1     0.8977    0.0546    0.1029      1447\n",
      "\n",
      "    accuracy                         0.9922    176057\n",
      "   macro avg     0.9450    0.5273    0.5495    176057\n",
      "weighted avg     0.9914    0.9922    0.9887    176057\n",
      "\n",
      "Training until validation scores don't improve for 5 rounds\n",
      "[10]\ttraining's auc: 0.953206\tvalid_1's auc: 0.931732\n",
      "[20]\ttraining's auc: 0.968343\tvalid_1's auc: 0.933251\n",
      "Early stopping, best iteration is:\n",
      "[19]\ttraining's auc: 0.965906\tvalid_1's auc: 0.933442\n"
     ]
    },
    {
     "name": "stderr",
     "output_type": "stream",
     "text": [
      "\r",
      " 15%|████████████▍                                                                      | 3/20 [00:29<02:45,  9.71s/it]"
     ]
    },
    {
     "name": "stdout",
     "output_type": "stream",
     "text": [
      "              precision    recall  f1-score   support\n",
      "\n",
      "           0     0.9920    1.0000    0.9960    174610\n",
      "           1     0.8519    0.0318    0.0613      1447\n",
      "\n",
      "    accuracy                         0.9920    176057\n",
      "   macro avg     0.9219    0.5159    0.5286    176057\n",
      "weighted avg     0.9909    0.9920    0.9883    176057\n",
      "\n",
      "Training until validation scores don't improve for 5 rounds\n",
      "[10]\ttraining's auc: 0.952612\tvalid_1's auc: 0.930004\n",
      "[20]\ttraining's auc: 0.967319\tvalid_1's auc: 0.931237\n",
      "Early stopping, best iteration is:\n",
      "[17]\ttraining's auc: 0.963034\tvalid_1's auc: 0.931372\n"
     ]
    },
    {
     "name": "stderr",
     "output_type": "stream",
     "text": [
      "\r",
      " 20%|████████████████▌                                                                  | 4/20 [00:38<02:33,  9.61s/it]"
     ]
    },
    {
     "name": "stdout",
     "output_type": "stream",
     "text": [
      "              precision    recall  f1-score   support\n",
      "\n",
      "           0     0.9920    0.9999    0.9960    174610\n",
      "           1     0.8269    0.0297    0.0574      1447\n",
      "\n",
      "    accuracy                         0.9920    176057\n",
      "   macro avg     0.9095    0.5148    0.5267    176057\n",
      "weighted avg     0.9907    0.9920    0.9883    176057\n",
      "\n",
      "Training until validation scores don't improve for 5 rounds\n",
      "[10]\ttraining's auc: 0.953707\tvalid_1's auc: 0.930328\n",
      "[20]\ttraining's auc: 0.97111\tvalid_1's auc: 0.931108\n",
      "Early stopping, best iteration is:\n",
      "[17]\ttraining's auc: 0.965691\tvalid_1's auc: 0.931189\n"
     ]
    },
    {
     "name": "stderr",
     "output_type": "stream",
     "text": [
      "\r",
      " 25%|████████████████████▊                                                              | 5/20 [00:47<02:21,  9.41s/it]"
     ]
    },
    {
     "name": "stdout",
     "output_type": "stream",
     "text": [
      "              precision    recall  f1-score   support\n",
      "\n",
      "           0     0.9920    1.0000    0.9960    174610\n",
      "           1     0.8491    0.0311    0.0600      1447\n",
      "\n",
      "    accuracy                         0.9920    176057\n",
      "   macro avg     0.9205    0.5155    0.5280    176057\n",
      "weighted avg     0.9909    0.9920    0.9883    176057\n",
      "\n",
      "Training until validation scores don't improve for 5 rounds\n",
      "[10]\ttraining's auc: 0.953583\tvalid_1's auc: 0.931512\n",
      "[20]\ttraining's auc: 0.970213\tvalid_1's auc: 0.933094\n",
      "Early stopping, best iteration is:\n",
      "[24]\ttraining's auc: 0.97418\tvalid_1's auc: 0.933281\n"
     ]
    },
    {
     "name": "stderr",
     "output_type": "stream",
     "text": [
      "\r",
      " 30%|████████████████████████▉                                                          | 6/20 [00:58<02:16,  9.74s/it]"
     ]
    },
    {
     "name": "stdout",
     "output_type": "stream",
     "text": [
      "              precision    recall  f1-score   support\n",
      "\n",
      "           0     0.9924    0.9999    0.9961    174610\n",
      "           1     0.8667    0.0719    0.1327      1447\n",
      "\n",
      "    accuracy                         0.9923    176057\n",
      "   macro avg     0.9295    0.5359    0.5644    176057\n",
      "weighted avg     0.9913    0.9923    0.9890    176057\n",
      "\n",
      "Training until validation scores don't improve for 5 rounds\n",
      "[10]\ttraining's auc: 0.953222\tvalid_1's auc: 0.932037\n",
      "[20]\ttraining's auc: 0.968442\tvalid_1's auc: 0.932837\n",
      "Early stopping, best iteration is:\n",
      "[21]\ttraining's auc: 0.969432\tvalid_1's auc: 0.932967\n"
     ]
    },
    {
     "name": "stderr",
     "output_type": "stream",
     "text": [
      "\r",
      " 35%|█████████████████████████████                                                      | 7/20 [01:08<02:08,  9.88s/it]"
     ]
    },
    {
     "name": "stdout",
     "output_type": "stream",
     "text": [
      "              precision    recall  f1-score   support\n",
      "\n",
      "           0     0.9923    0.9999    0.9961    174610\n",
      "           1     0.8053    0.0629    0.1167      1447\n",
      "\n",
      "    accuracy                         0.9922    176057\n",
      "   macro avg     0.8988    0.5314    0.5564    176057\n",
      "weighted avg     0.9908    0.9922    0.9888    176057\n",
      "\n",
      "Training until validation scores don't improve for 5 rounds\n",
      "[10]\ttraining's auc: 0.951863\tvalid_1's auc: 0.931777\n",
      "[20]\ttraining's auc: 0.967991\tvalid_1's auc: 0.93213\n",
      "Early stopping, best iteration is:\n",
      "[17]\ttraining's auc: 0.963619\tvalid_1's auc: 0.932352\n"
     ]
    },
    {
     "name": "stderr",
     "output_type": "stream",
     "text": [
      "\r",
      " 40%|█████████████████████████████████▏                                                 | 8/20 [01:18<01:58,  9.88s/it]"
     ]
    },
    {
     "name": "stdout",
     "output_type": "stream",
     "text": [
      "              precision    recall  f1-score   support\n",
      "\n",
      "           0     0.9921    0.9999    0.9960    174610\n",
      "           1     0.7875    0.0435    0.0825      1447\n",
      "\n",
      "    accuracy                         0.9920    176057\n",
      "   macro avg     0.8898    0.5217    0.5393    176057\n",
      "weighted avg     0.9905    0.9920    0.9885    176057\n",
      "\n",
      "Training until validation scores don't improve for 5 rounds\n",
      "[10]\ttraining's auc: 0.952397\tvalid_1's auc: 0.930834\n",
      "[20]\ttraining's auc: 0.96696\tvalid_1's auc: 0.931289\n",
      "Early stopping, best iteration is:\n",
      "[17]\ttraining's auc: 0.962893\tvalid_1's auc: 0.931657\n"
     ]
    },
    {
     "name": "stderr",
     "output_type": "stream",
     "text": [
      "\r",
      " 45%|█████████████████████████████████████▎                                             | 9/20 [01:28<01:49,  9.91s/it]"
     ]
    },
    {
     "name": "stdout",
     "output_type": "stream",
     "text": [
      "              precision    recall  f1-score   support\n",
      "\n",
      "           0     0.9921    1.0000    0.9960    174610\n",
      "           1     0.8833    0.0366    0.0703      1447\n",
      "\n",
      "    accuracy                         0.9920    176057\n",
      "   macro avg     0.9377    0.5183    0.5332    176057\n",
      "weighted avg     0.9912    0.9920    0.9884    176057\n",
      "\n",
      "Training until validation scores don't improve for 5 rounds\n",
      "[10]\ttraining's auc: 0.952579\tvalid_1's auc: 0.932747\n",
      "[20]\ttraining's auc: 0.967457\tvalid_1's auc: 0.932613\n",
      "Early stopping, best iteration is:\n",
      "[15]\ttraining's auc: 0.960152\tvalid_1's auc: 0.933501\n"
     ]
    },
    {
     "name": "stderr",
     "output_type": "stream",
     "text": [
      "\r",
      " 50%|█████████████████████████████████████████                                         | 10/20 [01:37<01:37,  9.70s/it]"
     ]
    },
    {
     "name": "stdout",
     "output_type": "stream",
     "text": [
      "              precision    recall  f1-score   support\n",
      "\n",
      "           0     0.9922    0.9999    0.9960    174610\n",
      "           1     0.8500    0.0470    0.0891      1447\n",
      "\n",
      "    accuracy                         0.9921    176057\n",
      "   macro avg     0.9211    0.5235    0.5425    176057\n",
      "weighted avg     0.9910    0.9921    0.9886    176057\n",
      "\n",
      "Training until validation scores don't improve for 5 rounds\n",
      "[10]\ttraining's auc: 0.954626\tvalid_1's auc: 0.930884\n",
      "[20]\ttraining's auc: 0.967606\tvalid_1's auc: 0.931514\n",
      "Early stopping, best iteration is:\n",
      "[15]\ttraining's auc: 0.961109\tvalid_1's auc: 0.932266\n"
     ]
    },
    {
     "name": "stderr",
     "output_type": "stream",
     "text": [
      "\r",
      " 55%|█████████████████████████████████████████████                                     | 11/20 [01:46<01:26,  9.56s/it]"
     ]
    },
    {
     "name": "stdout",
     "output_type": "stream",
     "text": [
      "              precision    recall  f1-score   support\n",
      "\n",
      "           0     0.9921    1.0000    0.9960    174610\n",
      "           1     0.9483    0.0380    0.0731      1447\n",
      "\n",
      "    accuracy                         0.9921    176057\n",
      "   macro avg     0.9702    0.5190    0.5346    176057\n",
      "weighted avg     0.9917    0.9921    0.9884    176057\n",
      "\n",
      "Training until validation scores don't improve for 5 rounds\n",
      "[10]\ttraining's auc: 0.954935\tvalid_1's auc: 0.929298\n",
      "[20]\ttraining's auc: 0.972101\tvalid_1's auc: 0.929653\n",
      "Early stopping, best iteration is:\n",
      "[19]\ttraining's auc: 0.971021\tvalid_1's auc: 0.929694\n"
     ]
    },
    {
     "name": "stderr",
     "output_type": "stream",
     "text": [
      "\r",
      " 60%|█████████████████████████████████████████████████▏                                | 12/20 [01:56<01:15,  9.46s/it]"
     ]
    },
    {
     "name": "stdout",
     "output_type": "stream",
     "text": [
      "              precision    recall  f1-score   support\n",
      "\n",
      "           0     0.9923    0.9999    0.9961    174610\n",
      "           1     0.8750    0.0677    0.1257      1447\n",
      "\n",
      "    accuracy                         0.9923    176057\n",
      "   macro avg     0.9337    0.5338    0.5609    176057\n",
      "weighted avg     0.9914    0.9923    0.9890    176057\n",
      "\n",
      "Training until validation scores don't improve for 5 rounds\n",
      "[10]\ttraining's auc: 0.956561\tvalid_1's auc: 0.931037\n",
      "[20]\ttraining's auc: 0.969896\tvalid_1's auc: 0.931912\n",
      "Early stopping, best iteration is:\n",
      "[17]\ttraining's auc: 0.966273\tvalid_1's auc: 0.9322\n"
     ]
    },
    {
     "name": "stderr",
     "output_type": "stream",
     "text": [
      "\r",
      " 65%|█████████████████████████████████████████████████████▎                            | 13/20 [02:05<01:06,  9.50s/it]"
     ]
    },
    {
     "name": "stdout",
     "output_type": "stream",
     "text": [
      "              precision    recall  f1-score   support\n",
      "\n",
      "           0     0.9922    0.9999    0.9961    174610\n",
      "           1     0.8469    0.0574    0.1074      1447\n",
      "\n",
      "    accuracy                         0.9922    176057\n",
      "   macro avg     0.9196    0.5286    0.5518    176057\n",
      "weighted avg     0.9911    0.9922    0.9888    176057\n",
      "\n",
      "Training until validation scores don't improve for 5 rounds\n",
      "[10]\ttraining's auc: 0.955673\tvalid_1's auc: 0.931357\n",
      "Early stopping, best iteration is:\n",
      "[12]\ttraining's auc: 0.958758\tvalid_1's auc: 0.932036\n"
     ]
    },
    {
     "name": "stderr",
     "output_type": "stream",
     "text": [
      "\r",
      " 70%|█████████████████████████████████████████████████████████▍                        | 14/20 [02:14<00:56,  9.39s/it]"
     ]
    },
    {
     "name": "stdout",
     "output_type": "stream",
     "text": [
      "              precision    recall  f1-score   support\n",
      "\n",
      "           0     0.9920    0.9999    0.9960    174610\n",
      "           1     0.8269    0.0297    0.0574      1447\n",
      "\n",
      "    accuracy                         0.9920    176057\n",
      "   macro avg     0.9095    0.5148    0.5267    176057\n",
      "weighted avg     0.9907    0.9920    0.9883    176057\n",
      "\n",
      "Training until validation scores don't improve for 5 rounds\n",
      "[10]\ttraining's auc: 0.954\tvalid_1's auc: 0.929575\n",
      "Early stopping, best iteration is:\n",
      "[14]\ttraining's auc: 0.961995\tvalid_1's auc: 0.93026\n"
     ]
    },
    {
     "name": "stderr",
     "output_type": "stream",
     "text": [
      "\r",
      " 75%|█████████████████████████████████████████████████████████████▌                    | 15/20 [02:24<00:46,  9.36s/it]"
     ]
    },
    {
     "name": "stdout",
     "output_type": "stream",
     "text": [
      "              precision    recall  f1-score   support\n",
      "\n",
      "           0     0.9923    0.9999    0.9961    174610\n",
      "           1     0.8515    0.0594    0.1111      1447\n",
      "\n",
      "    accuracy                         0.9922    176057\n",
      "   macro avg     0.9219    0.5297    0.5536    176057\n",
      "weighted avg     0.9911    0.9922    0.9888    176057\n",
      "\n",
      "Training until validation scores don't improve for 5 rounds\n",
      "[10]\ttraining's auc: 0.953161\tvalid_1's auc: 0.932911\n",
      "[20]\ttraining's auc: 0.969921\tvalid_1's auc: 0.933286\n",
      "Early stopping, best iteration is:\n",
      "[15]\ttraining's auc: 0.961422\tvalid_1's auc: 0.933729\n"
     ]
    },
    {
     "name": "stderr",
     "output_type": "stream",
     "text": [
      "\r",
      " 80%|█████████████████████████████████████████████████████████████████▌                | 16/20 [02:33<00:37,  9.34s/it]"
     ]
    },
    {
     "name": "stdout",
     "output_type": "stream",
     "text": [
      "              precision    recall  f1-score   support\n",
      "\n",
      "           0     0.9922    1.0000    0.9961    174610\n",
      "           1     0.9012    0.0504    0.0955      1447\n",
      "\n",
      "    accuracy                         0.9922    176057\n",
      "   macro avg     0.9467    0.5252    0.5458    176057\n",
      "weighted avg     0.9914    0.9922    0.9887    176057\n",
      "\n",
      "Training until validation scores don't improve for 5 rounds\n",
      "[10]\ttraining's auc: 0.957052\tvalid_1's auc: 0.93261\n",
      "[20]\ttraining's auc: 0.97136\tvalid_1's auc: 0.933418\n",
      "[30]\ttraining's auc: 0.979272\tvalid_1's auc: 0.933567\n",
      "Early stopping, best iteration is:\n",
      "[26]\ttraining's auc: 0.975483\tvalid_1's auc: 0.933716\n"
     ]
    },
    {
     "name": "stderr",
     "output_type": "stream",
     "text": [
      "\r",
      " 85%|█████████████████████████████████████████████████████████████████████▋            | 17/20 [02:44<00:29,  9.85s/it]"
     ]
    },
    {
     "name": "stdout",
     "output_type": "stream",
     "text": [
      "              precision    recall  f1-score   support\n",
      "\n",
      "           0     0.9923    0.9999    0.9961    174610\n",
      "           1     0.8621    0.0691    0.1280      1447\n",
      "\n",
      "    accuracy                         0.9923    176057\n",
      "   macro avg     0.9272    0.5345    0.5620    176057\n",
      "weighted avg     0.9913    0.9923    0.9890    176057\n",
      "\n",
      "Training until validation scores don't improve for 5 rounds\n",
      "[10]\ttraining's auc: 0.953608\tvalid_1's auc: 0.930014\n",
      "[20]\ttraining's auc: 0.969659\tvalid_1's auc: 0.931403\n",
      "Early stopping, best iteration is:\n",
      "[19]\ttraining's auc: 0.968715\tvalid_1's auc: 0.931461\n"
     ]
    },
    {
     "name": "stderr",
     "output_type": "stream",
     "text": [
      "\r",
      " 90%|█████████████████████████████████████████████████████████████████████████▊        | 18/20 [02:53<00:19,  9.66s/it]"
     ]
    },
    {
     "name": "stdout",
     "output_type": "stream",
     "text": [
      "              precision    recall  f1-score   support\n",
      "\n",
      "           0     0.9923    0.9999    0.9961    174610\n",
      "           1     0.8700    0.0601    0.1125      1447\n",
      "\n",
      "    accuracy                         0.9922    176057\n",
      "   macro avg     0.9311    0.5300    0.5543    176057\n",
      "weighted avg     0.9913    0.9922    0.9888    176057\n",
      "\n",
      "Training until validation scores don't improve for 5 rounds\n",
      "[10]\ttraining's auc: 0.954243\tvalid_1's auc: 0.928935\n",
      "[20]\ttraining's auc: 0.973654\tvalid_1's auc: 0.929478\n",
      "Early stopping, best iteration is:\n",
      "[17]\ttraining's auc: 0.967117\tvalid_1's auc: 0.930179\n"
     ]
    },
    {
     "name": "stderr",
     "output_type": "stream",
     "text": [
      "\r",
      " 95%|█████████████████████████████████████████████████████████████████████████████▉    | 19/20 [03:02<00:09,  9.39s/it]"
     ]
    },
    {
     "name": "stdout",
     "output_type": "stream",
     "text": [
      "              precision    recall  f1-score   support\n",
      "\n",
      "           0     0.9922    0.9999    0.9961    174610\n",
      "           1     0.8300    0.0574    0.1073      1447\n",
      "\n",
      "    accuracy                         0.9922    176057\n",
      "   macro avg     0.9111    0.5286    0.5517    176057\n",
      "weighted avg     0.9909    0.9922    0.9888    176057\n",
      "\n",
      "Training until validation scores don't improve for 5 rounds\n",
      "[10]\ttraining's auc: 0.955608\tvalid_1's auc: 0.930088\n",
      "[20]\ttraining's auc: 0.971467\tvalid_1's auc: 0.931508\n",
      "Early stopping, best iteration is:\n",
      "[18]\ttraining's auc: 0.967624\tvalid_1's auc: 0.931948\n"
     ]
    },
    {
     "name": "stderr",
     "output_type": "stream",
     "text": [
      "100%|██████████████████████████████████████████████████████████████████████████████████| 20/20 [03:11<00:00,  9.60s/it]"
     ]
    },
    {
     "name": "stdout",
     "output_type": "stream",
     "text": [
      "              precision    recall  f1-score   support\n",
      "\n",
      "           0     0.9924    0.9999    0.9961    174610\n",
      "           1     0.8898    0.0726    0.1342      1447\n",
      "\n",
      "    accuracy                         0.9923    176057\n",
      "   macro avg     0.9411    0.5362    0.5652    176057\n",
      "weighted avg     0.9915    0.9923    0.9891    176057\n",
      "\n"
     ]
    },
    {
     "name": "stderr",
     "output_type": "stream",
     "text": [
      "\n"
     ]
    }
   ],
   "source": [
    "for i in tqdm(range(10,30)):\n",
    "    a = random.randint(0,2000)\n",
    "    path = 'train/is_train_201907'+str(i)+'.txt'\n",
    "    train = pd.read_csv(path)\n",
    "    train = train.join(attr.set_index('linkid'), on='link')\n",
    "    train = pd.merge(train, pro, how='left')\n",
    "    y = train.label\n",
    "    train = train.drop('label',1)\n",
    "    y = np.where(y == 2, 1, -1)\n",
    "    \n",
    "    lgb_train =  lgb.Dataset(train, label=y)\n",
    "    lgb_eval = lgb.Dataset(train_1, label=y_5, reference=lgb_train) \n",
    "\n",
    "\n",
    "    parameters = {\n",
    "                      'task': 'train',\n",
    "                      'max_depth': 15,\n",
    "                      'boosting_type': 'gbdt',\n",
    "                      'num_leaves': 100,        # 叶子节点数\n",
    "                      'n_estimators': 50,\n",
    "                      'objective': 'binary',\n",
    "                      'metric': 'auc',\n",
    "                      'learning_rate': 0.2,\n",
    "                      'feature_fraction': 0.7, #小于 1.0, LightGBM 将会在每次迭代中随机选择部分特征.\n",
    "                      'bagging_fraction': 1,   #类似于 feature_fraction, 但是它将在不进行重采样的情况下随机选择部分数据\n",
    "                      'bagging_freq': 1,       #bagging 的频率, 0 意味着禁用 bagging. k 意味着每 k 次迭代执行bagging        \n",
    "                      'lambda_l1': 0.38,\n",
    "                      \"nthread\": -1,\n",
    "                      'lambda_l2': 0.31,\n",
    "                      'cat_smooth': 10,        #用于分类特征,这可以降低噪声在分类特征中的影响, 尤其是对数据很少的类别\n",
    "                      'is_unbalance': False,   #适合二分类。这里如果设置为True，评估结果降低3个点\n",
    "                      'verbose': 0\n",
    "                      }\n",
    "\n",
    "\n",
    "    evals_result = {}  #记录训练结果所用\n",
    "    gbm_model = lgb.train(parameters,\n",
    "                        lgb_train,\n",
    "                        valid_sets=[lgb_train,lgb_eval],\n",
    "                        num_boost_round=200,          #提升迭代的次数\n",
    "                        early_stopping_rounds=5,\n",
    "                        evals_result=evals_result,\n",
    "                        verbose_eval=10\n",
    "                        )\n",
    "\n",
    "\n",
    "    prediction = gbm_model.predict(T,num_iteration=gbm_model.best_iteration)\n",
    "    ppp = np.where(prediction>0.88,1,0)\n",
    "    kkk2 = np.where((kkk2 == 1)|(ppp == 1),1,0)\n",
    "    print(classification_report(cnt_y, ppp, digits=4))"
   ]
  },
  {
   "cell_type": "code",
   "execution_count": 40,
   "metadata": {},
   "outputs": [
    {
     "name": "stdout",
     "output_type": "stream",
     "text": [
      "              precision    recall  f1-score   support\n",
      "\n",
      "           0     0.9936    0.9992    0.9964    174610\n",
      "           1     0.7047    0.2177    0.3326      1447\n",
      "\n",
      "    accuracy                         0.9928    176057\n",
      "   macro avg     0.8491    0.6085    0.6645    176057\n",
      "weighted avg     0.9912    0.9928    0.9909    176057\n",
      "\n"
     ]
    }
   ],
   "source": [
    "print(classification_report(cnt_y, kkk2.reshape(-1,1), digits=4))"
   ]
  },
  {
   "cell_type": "code",
   "execution_count": 125,
   "metadata": {},
   "outputs": [],
   "source": [
    "kkk1 = np.where((kkk1 == 1)|(ada == 1),1,-1)"
   ]
  },
  {
   "cell_type": "code",
   "execution_count": 10,
   "metadata": {},
   "outputs": [],
   "source": [
    "X_train = pd.read_csv('train/is_train_20190702.txt')\n",
    "X_train = X_train.join(attr.set_index('linkid'), on='link')\n",
    "X_train = pd.merge(X_train, pro, how='left')\n",
    "y_train = X_train.label\n",
    "X_train = X_train.drop('label',1)\n",
    "\n",
    "X_validation = pd.read_csv('one_day_speed.txt')\n",
    "X_validation = X_validation.join(attr.set_index('linkid'), on='link')\n",
    "X_validation = pd.merge(X_validation, pro, how='left')\n",
    "y_validation = X_validation.label\n",
    "X_validation = X_validation.drop('label',1)"
   ]
  },
  {
   "cell_type": "code",
   "execution_count": 11,
   "metadata": {},
   "outputs": [
    {
     "name": "stdout",
     "output_type": "stream",
     "text": [
      "Stopped by overfitting detector  (20 iterations wait)\n",
      "\n",
      "bestTest = 0.06919677888\n",
      "bestIteration = 43\n",
      "\n",
      "Shrink model to first 44 iterations.\n",
      "              precision    recall  f1-score   support\n",
      "\n",
      "           0     0.9796    0.9893    0.9845    169841\n",
      "           1     0.4996    0.3716    0.4262      4769\n",
      "           2     0.5157    0.3518    0.4182      1447\n",
      "\n",
      "    accuracy                         0.9674    176057\n",
      "   macro avg     0.6650    0.5709    0.6096    176057\n",
      "weighted avg     0.9628    0.9674    0.9647    176057\n",
      "\n",
      "Score:  0.5330706985157062\n"
     ]
    }
   ],
   "source": [
    "w = np.array((y_train+1))\n",
    "model = CatBoostClassifier(iterations=200,depth=6,l2_leaf_reg=8,learning_rate=0.5,random_strength=1,\n",
    "                                      loss_function='MultiClassOneVsAll',logging_level='Verbose')\n",
    "\n",
    "model.fit(X_train,y_train,eval_set=(X_validation,y_validation),sample_weight=w,early_stopping_rounds=20,verbose=False)\n",
    "\n",
    "report = f1_score(y_validation, model.predict(X_validation), average=None)\n",
    "print(classification_report(y_validation, model.predict(X_validation), digits=4))\n",
    "Score = report[0] * 0.2 + report[1] * 0.2 + report[2] * 0.6\n",
    "print('Score: ', report[0] * 0.2 + report[1] * 0.2 + report[2] * 0.6)"
   ]
  },
  {
   "cell_type": "code",
   "execution_count": 34,
   "metadata": {
    "scrolled": true
   },
   "outputs": [
    {
     "name": "stdout",
     "output_type": "stream",
     "text": [
      "              precision    recall  f1-score   support\n",
      "\n",
      "           0     0.9799    0.9891    0.9844    169841\n",
      "           1     0.4981    0.3659    0.4219      4769\n",
      "           2     0.4942    0.3808    0.4301      1447\n",
      "\n",
      "    accuracy                         0.9672    176057\n",
      "   macro avg     0.6574    0.5786    0.6122    176057\n",
      "weighted avg     0.9628    0.9672    0.9646    176057\n",
      "\n",
      "Score:  0.5393488554341759\n"
     ]
    }
   ],
   "source": [
    "kkk1 = kkk1.reshape(-1,1)\n",
    "cnt = model.predict(T)\n",
    "cnt = np.where(kkk1 > 0, 2, cnt)\n",
    "#cnt = np.where((kkk1 <= 1)&(cnt == 2), 1, cnt)\n",
    "report = f1_score(y_validation, cnt, average=None)\n",
    "print(classification_report(y_validation, cnt, digits=4))\n",
    "Score = report[0] * 0.2 + report[1] * 0.2 + report[2] * 0.6\n",
    "print('Score: ', report[0] * 0.2 + report[1] * 0.2 + report[2] * 0.6)"
   ]
  },
  {
   "cell_type": "code",
   "execution_count": 168,
   "metadata": {},
   "outputs": [],
   "source": [
    "asdasd = model"
   ]
  },
  {
   "cell_type": "code",
   "execution_count": 216,
   "metadata": {},
   "outputs": [],
   "source": [
    "T['label'] = cnt"
   ]
  },
  {
   "cell_type": "code",
   "execution_count": 217,
   "metadata": {},
   "outputs": [],
   "source": [
    "anss = T[['link', 'current_slice_id', 'future_slice_id', 'label']]"
   ]
  },
  {
   "cell_type": "code",
   "execution_count": 218,
   "metadata": {},
   "outputs": [
    {
     "data": {
      "text/html": [
       "<div>\n",
       "<style scoped>\n",
       "    .dataframe tbody tr th:only-of-type {\n",
       "        vertical-align: middle;\n",
       "    }\n",
       "\n",
       "    .dataframe tbody tr th {\n",
       "        vertical-align: top;\n",
       "    }\n",
       "\n",
       "    .dataframe thead th {\n",
       "        text-align: right;\n",
       "    }\n",
       "</style>\n",
       "<table border=\"1\" class=\"dataframe\">\n",
       "  <thead>\n",
       "    <tr style=\"text-align: right;\">\n",
       "      <th></th>\n",
       "      <th>link</th>\n",
       "      <th>current_slice_id</th>\n",
       "      <th>future_slice_id</th>\n",
       "      <th>label</th>\n",
       "    </tr>\n",
       "  </thead>\n",
       "  <tbody>\n",
       "    <tr>\n",
       "      <th>0</th>\n",
       "      <td>423051</td>\n",
       "      <td>698</td>\n",
       "      <td>716</td>\n",
       "      <td>0</td>\n",
       "    </tr>\n",
       "    <tr>\n",
       "      <th>1</th>\n",
       "      <td>29916</td>\n",
       "      <td>686</td>\n",
       "      <td>699</td>\n",
       "      <td>0</td>\n",
       "    </tr>\n",
       "    <tr>\n",
       "      <th>2</th>\n",
       "      <td>157521</td>\n",
       "      <td>9</td>\n",
       "      <td>35</td>\n",
       "      <td>0</td>\n",
       "    </tr>\n",
       "    <tr>\n",
       "      <th>3</th>\n",
       "      <td>177229</td>\n",
       "      <td>3</td>\n",
       "      <td>26</td>\n",
       "      <td>0</td>\n",
       "    </tr>\n",
       "    <tr>\n",
       "      <th>4</th>\n",
       "      <td>267221</td>\n",
       "      <td>0</td>\n",
       "      <td>16</td>\n",
       "      <td>0</td>\n",
       "    </tr>\n",
       "    <tr>\n",
       "      <th>...</th>\n",
       "      <td>...</td>\n",
       "      <td>...</td>\n",
       "      <td>...</td>\n",
       "      <td>...</td>\n",
       "    </tr>\n",
       "    <tr>\n",
       "      <th>176052</th>\n",
       "      <td>36958</td>\n",
       "      <td>9</td>\n",
       "      <td>12</td>\n",
       "      <td>0</td>\n",
       "    </tr>\n",
       "    <tr>\n",
       "      <th>176053</th>\n",
       "      <td>139296</td>\n",
       "      <td>189</td>\n",
       "      <td>202</td>\n",
       "      <td>0</td>\n",
       "    </tr>\n",
       "    <tr>\n",
       "      <th>176054</th>\n",
       "      <td>57538</td>\n",
       "      <td>7</td>\n",
       "      <td>14</td>\n",
       "      <td>0</td>\n",
       "    </tr>\n",
       "    <tr>\n",
       "      <th>176055</th>\n",
       "      <td>543483</td>\n",
       "      <td>4</td>\n",
       "      <td>15</td>\n",
       "      <td>0</td>\n",
       "    </tr>\n",
       "    <tr>\n",
       "      <th>176056</th>\n",
       "      <td>35173</td>\n",
       "      <td>1</td>\n",
       "      <td>25</td>\n",
       "      <td>0</td>\n",
       "    </tr>\n",
       "  </tbody>\n",
       "</table>\n",
       "<p>176057 rows × 4 columns</p>\n",
       "</div>"
      ],
      "text/plain": [
       "          link  current_slice_id  future_slice_id  label\n",
       "0       423051               698              716      0\n",
       "1        29916               686              699      0\n",
       "2       157521                 9               35      0\n",
       "3       177229                 3               26      0\n",
       "4       267221                 0               16      0\n",
       "...        ...               ...              ...    ...\n",
       "176052   36958                 9               12      0\n",
       "176053  139296               189              202      0\n",
       "176054   57538                 7               14      0\n",
       "176055  543483                 4               15      0\n",
       "176056   35173                 1               25      0\n",
       "\n",
       "[176057 rows x 4 columns]"
      ]
     },
     "execution_count": 218,
     "metadata": {},
     "output_type": "execute_result"
    }
   ],
   "source": [
    "anss"
   ]
  },
  {
   "cell_type": "code",
   "execution_count": 219,
   "metadata": {},
   "outputs": [],
   "source": [
    "anss.to_csv('2020_11_29.csv', index=False, encoding='utf8')"
   ]
  },
  {
   "cell_type": "code",
   "execution_count": 25,
   "metadata": {},
   "outputs": [],
   "source": [
    "qwe = pd.read_csv('2020_11_29.csv')\n",
    "qwe['label'] = qwe['label'] + 1\n"
   ]
  },
  {
   "cell_type": "code",
   "execution_count": 27,
   "metadata": {},
   "outputs": [],
   "source": [
    "qwe.to_csv('2020_11_29_lb.csv', index=False, encoding='utf8')"
   ]
  },
  {
   "cell_type": "code",
   "execution_count": 61,
   "metadata": {},
   "outputs": [
    {
     "data": {
      "text/plain": [
       "15672"
      ]
     },
     "execution_count": 61,
     "metadata": {},
     "output_type": "execute_result"
    }
   ],
   "source": [
    "np.sum(np.where(kkk1 != 0, 1,0))"
   ]
  },
  {
   "cell_type": "code",
   "execution_count": null,
   "metadata": {},
   "outputs": [],
   "source": []
  }
 ],
 "metadata": {
  "kernelspec": {
   "display_name": "Python 3",
   "language": "python",
   "name": "python3"
  },
  "language_info": {
   "codemirror_mode": {
    "name": "ipython",
    "version": 3
   },
   "file_extension": ".py",
   "mimetype": "text/x-python",
   "name": "python",
   "nbconvert_exporter": "python",
   "pygments_lexer": "ipython3",
   "version": "3.8.3"
  }
 },
 "nbformat": 4,
 "nbformat_minor": 4
}

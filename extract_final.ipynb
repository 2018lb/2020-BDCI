{
 "cells": [
  {
   "cell_type": "code",
   "execution_count": null,
   "metadata": {
    "ExecuteTime": {
     "end_time": "2020-11-10T05:09:55.863204Z",
     "start_time": "2020-11-10T05:09:40.605078Z"
    }
   },
   "outputs": [],
   "source": [
    "import pandas as pd\n",
    "import numpy as np\n",
    "from tqdm import tqdm\n",
    "from sklearn.model_selection import KFold\n",
    "from sklearn.metrics import classification_report, f1_score\n",
    "import lightgbm as lgb\n",
    "from collections import Counter\n",
    "import warnings\n",
    "warnings.filterwarnings(\"ignore\")\n",
    "import gc\n",
    "from scipy import stats"
   ]
  },
  {
   "cell_type": "code",
   "execution_count": null,
   "metadata": {
    "ExecuteTime": {
     "end_time": "2020-11-10T05:16:20.458774Z",
     "start_time": "2020-11-10T05:16:20.432451Z"
    }
   },
   "outputs": [],
   "source": [
    "gc.collect()"
   ]
  },
  {
   "cell_type": "code",
   "execution_count": null,
   "metadata": {
    "ExecuteTime": {
     "end_time": "2020-11-10T01:51:01.768460Z",
     "start_time": "2020-11-10T01:50:50.419366Z"
    }
   },
   "outputs": [],
   "source": [
    "df = pd.read_csv('./traffic/20190701.txt', sep=';', header=None)\n",
    "df"
   ]
  },
  {
   "cell_type": "code",
   "execution_count": null,
   "metadata": {
    "ExecuteTime": {
     "end_time": "2020-11-10T01:52:02.748510Z",
     "start_time": "2020-11-10T01:51:55.013811Z"
    }
   },
   "outputs": [],
   "source": [
    "df['label'] = df[0].apply(lambda x: int(x.split(' ')[1]))\n",
    "df['label'] = df['label'].apply(lambda x: 3 if x > 3 else x)\n",
    "df['label'] -= 1\n",
    "df['current_slice_id'] = df[0].apply(lambda x: int(x.split(' ')[2]))\n",
    "df['future_slice_id'] = df[0].apply(lambda x: int(x.split(' ')[3]))\n",
    "for i in tqdm(range(1, 6)):\n",
    "    df['his_info'] = df[i].apply(get_base_info)\n",
    "    if i == 1:\n",
    "            flg = 'current'\n",
    "    else:\n",
    "            flg = f'his_{(6 - i) * 7}' \n",
    "    df['his_state'] = df['his_info'].apply(get_state)\n",
    "    df[f'{flg}_state_zhong'] = df['his_state'].apply(lambda x:fuck(x))\n",
    "    df[f'{flg}_state_max'] = df['his_state'].apply(lambda x:x.max())\n",
    "    df[f'{flg}_state_min'] = df['his_state'].apply(lambda x:mini(x))\n",
    "    df.drop([i, 'his_info','his_state'], axis=1, inplace=True)"
   ]
  },
  {
   "cell_type": "code",
   "execution_count": null,
   "metadata": {
    "ExecuteTime": {
     "end_time": "2020-11-09T05:36:54.335235Z",
     "start_time": "2020-11-09T05:36:53.815773Z"
    }
   },
   "outputs": [],
   "source": [
    "pd.set_option('max_rows',500)\n",
    "aaa=df.loc[(df['current_state_zhong']==0)&(df['his_28_state_zhong']==0)&(df['his_21_state_zhong']==0)&(df['his_14_state_zhong']==0)&(df['his_7_state_zhong']==0)]\n",
    "aaa"
   ]
  },
  {
   "cell_type": "code",
   "execution_count": null,
   "metadata": {
    "ExecuteTime": {
     "end_time": "2020-11-09T05:47:50.303772Z",
     "start_time": "2020-11-09T05:47:49.925567Z"
    }
   },
   "outputs": [],
   "source": [
    "aaa.reset_index()"
   ]
  },
  {
   "cell_type": "code",
   "execution_count": null,
   "metadata": {
    "ExecuteTime": {
     "end_time": "2020-11-10T02:07:19.978691Z",
     "start_time": "2020-11-10T02:07:19.962804Z"
    },
    "scrolled": true
   },
   "outputs": [],
   "source": [
    "def fuck(xx):\n",
    "    counts = np.bincount(xx)\n",
    "    temp=np.argmax(counts)\n",
    "    if temp ==0 :\n",
    "        counts[temp]=0\n",
    "        temp=np.argmax(counts)\n",
    "    return temp\n",
    "def mini(xx):\n",
    "    t=np.argmin(xx)\n",
    "    tt=xx[t]\n",
    "    while tt==0:\n",
    "        xx[t]=9\n",
    "        t=np.argmin(xx)\n",
    "        tt=xx[t]\n",
    "    return tt"
   ]
  },
  {
   "cell_type": "code",
   "execution_count": null,
   "metadata": {
    "ExecuteTime": {
     "end_time": "2020-11-09T04:19:52.837004Z",
     "start_time": "2020-11-09T04:19:52.474924Z"
    }
   },
   "outputs": [],
   "source": [
    "df['his_state'].apply(lambda x:x.max())"
   ]
  },
  {
   "cell_type": "code",
   "execution_count": null,
   "metadata": {
    "ExecuteTime": {
     "end_time": "2020-11-09T04:29:10.801082Z",
     "start_time": "2020-11-09T04:29:10.713309Z"
    }
   },
   "outputs": [],
   "source": [
    "df.loc[df['ceshi']==0]"
   ]
  },
  {
   "cell_type": "code",
   "execution_count": null,
   "metadata": {
    "ExecuteTime": {
     "end_time": "2020-11-09T04:34:42.523928Z",
     "start_time": "2020-11-09T04:34:42.509006Z"
    },
    "scrolled": true
   },
   "outputs": [],
   "source": [
    "df[3][503377]"
   ]
  },
  {
   "cell_type": "code",
   "execution_count": null,
   "metadata": {
    "ExecuteTime": {
     "end_time": "2020-11-10T02:07:24.831846Z",
     "start_time": "2020-11-10T02:07:24.815808Z"
    }
   },
   "outputs": [],
   "source": [
    "def get_base_info(x):\n",
    "    return [i.split(':')[-1] for i in x.split(' ')]\n",
    "\n",
    "def get_speed(x):\n",
    "    return np.array([i.split(',')[0] for i in x], dtype='float16')\n",
    "\n",
    "def get_eta(x):\n",
    "    return np.array([i.split(',')[1] for i in x], dtype='float16')\n",
    "\n",
    "def get_state(x):\n",
    "    return np.array([int(i.split(',')[2]) for i in x])\n",
    "\n",
    "def get_cnt(x):\n",
    "    return np.array([i.split(',')[3] for i in x], dtype='int16')"
   ]
  },
  {
   "cell_type": "code",
   "execution_count": null,
   "metadata": {
    "ExecuteTime": {
     "end_time": "2020-11-10T02:07:26.546918Z",
     "start_time": "2020-11-10T02:07:26.495096Z"
    }
   },
   "outputs": [],
   "source": [
    "def gen_feats(path, mode='is_train'):\n",
    "    df = pd.read_csv(path, sep=';', header=None)\n",
    "    df['link'] = df[0].apply(lambda x: x.split(' ')[0])\n",
    "    if mode == 'is_train':\n",
    "        df['label'] = df[0].apply(lambda x: int(x.split(' ')[1]))\n",
    "        df['label'] = df['label'].apply(lambda x: 3 if x > 3 else x)\n",
    "        df['label'] -= 1\n",
    "        df['current_slice_id'] = df[0].apply(lambda x: int(x.split(' ')[2]))\n",
    "        df['future_slice_id'] = df[0].apply(lambda x: int(x.split(' ')[3]))\n",
    "    else:\n",
    "        df['label'] = -1\n",
    "        df['current_slice_id'] = df[0].apply(lambda x: int(x.split(' ')[2]))\n",
    "        df['future_slice_id'] = df[0].apply(lambda x: int(x.split(' ')[3]))\n",
    "\n",
    "    df['time_diff'] = df['future_slice_id'] - df['current_slice_id']\n",
    "\n",
    "    df['curr_state'] = df[1].apply(lambda x: x.split(' ')[-1].split(':')[-1])\n",
    "    df['now_speed'] = df['curr_state'].apply(lambda x: x.split(',')[0])\n",
    "    df['now_eta'] = df['curr_state'].apply(lambda x: x.split(',')[1])\n",
    "    df['now_cnt'] = df['curr_state'].apply(lambda x: x.split(',')[3])\n",
    "    df['now_state'] = df['curr_state'].apply(lambda x: x.split(',')[2])\n",
    "    del df[0]\n",
    "\n",
    "    for i in tqdm(range(1, 6)):\n",
    "        df['his_info'] = df[i].apply(get_base_info)\n",
    "        if i == 1:\n",
    "            flg = 'current'\n",
    "        else:\n",
    "            flg = f'his_{(6 - i) * 7}'\n",
    "        df['his_speed'] = df['his_info'].apply(get_speed)\n",
    "        df[f'{flg}_speed_min'] = df['his_speed'].apply(lambda x: x.min())\n",
    "        df[f'{flg}_speed_max'] = df['his_speed'].apply(lambda x: x.max())\n",
    "        df[f'{flg}_speed_mean'] = df['his_speed'].apply(lambda x: x.mean())\n",
    "        df[f'{flg}_speed_std'] = df['his_speed'].apply(lambda x: x.std())\n",
    "\n",
    "        df['his_eta'] = df['his_info'].apply(get_eta)\n",
    "        df[f'{flg}_eta_min'] = df['his_eta'].apply(lambda x: x.min())\n",
    "        df[f'{flg}_eta_max'] = df['his_eta'].apply(lambda x: x.max())\n",
    "        df[f'{flg}_eta_mean'] = df['his_eta'].apply(lambda x: x.mean())\n",
    "        df[f'{flg}_eta_std'] = df['his_eta'].apply(lambda x: x.std())\n",
    "\n",
    "        df['his_cnt'] = df['his_info'].apply(get_cnt)\n",
    "        df[f'{flg}_cnt_min'] = df['his_cnt'].apply(lambda x: x.min())\n",
    "        df[f'{flg}_cnt_max'] = df['his_cnt'].apply(lambda x: x.max())\n",
    "        df[f'{flg}_cnt_mean'] = df['his_cnt'].apply(lambda x: x.mean())\n",
    "        df[f'{flg}_cnt_std'] = df['his_cnt'].apply(lambda x: x.std())\n",
    "\n",
    "        df['his_state'] = df['his_info'].apply(get_state)\n",
    "        df[f'{flg}_state_zhong'] = df['his_state'].apply(lambda x:fuck(x))\n",
    "        df[f'{flg}_state_max'] = df['his_state'].apply(lambda x:x.max())\n",
    "        df[f'{flg}_state_min'] = df['his_state'].apply(lambda x:mini(x))\n",
    "        #df[f'{flg}_state'] = df['his_state'].apply(lambda x: Counter(x).most_common()[0][0])\n",
    "        df.drop([i, 'his_info', 'his_speed', 'his_eta', 'his_cnt', 'his_state'], axis=1, inplace=True)\n",
    "    if mode == 'is_train':\n",
    "        df.to_csv(f\"{mode}_{path.split('/')[-1]}\", index=False)\n",
    "    else:\n",
    "        df.to_csv(f\"is_test.csv\", index=False)"
   ]
  },
  {
   "cell_type": "code",
   "execution_count": null,
   "metadata": {
    "ExecuteTime": {
     "end_time": "2020-11-10T02:07:28.943539Z",
     "start_time": "2020-11-10T02:07:28.930227Z"
    }
   },
   "outputs": [],
   "source": [
    "def f1_score_eval(preds, valid_df):\n",
    "    labels = valid_df.get_label()\n",
    "    preds = np.argmax(preds.reshape(3, -1), axis=0)\n",
    "    scores = f1_score(y_true=labels, y_pred=preds, average=None)\n",
    "    scores = scores[0]*0.2+scores[1]*0.2+scores[2]*0.8\n",
    "    return 'f1_score', scores, True"
   ]
  },
  {
   "cell_type": "code",
   "execution_count": null,
   "metadata": {
    "ExecuteTime": {
     "end_time": "2020-11-10T02:07:30.432060Z",
     "start_time": "2020-11-10T02:07:30.407304Z"
    }
   },
   "outputs": [],
   "source": [
    "def lgb_train(train_: pd.DataFrame, test_: pd.DataFrame, use_train_feats: list, id_col: str, label: str,\n",
    "              n_splits: int, split_rs: int, is_shuffle=True, use_cart=False, cate_cols=None) -> pd.DataFrame:\n",
    "    if not cate_cols:\n",
    "        cate_cols = []\n",
    "    print('data shape:\\ntrain--{}\\ntest--{}'.format(train_.shape, test_.shape))\n",
    "    print('Use {} features ...'.format(len(use_train_feats)))\n",
    "    print('Use lightgbm to train ...')\n",
    "    n_class = train_[label].nunique()\n",
    "    train_[f'{label}_pred'] = 0\n",
    "    test_pred = np.zeros((test_.shape[0], n_class))\n",
    "    fold_importance_df = pd.DataFrame()\n",
    "    fold_importance_df[\"Feature\"] = use_train_feats\n",
    "\n",
    "    folds = KFold(n_splits=n_splits, shuffle=is_shuffle, random_state=split_rs)\n",
    "    train_user_id = train_[id_col].unique()\n",
    "\n",
    "    params = {\n",
    "        'learning_rate': 0.05,\n",
    "        'boosting_type': 'gbdt',\n",
    "        'objective': 'multiclass',\n",
    "        'metric': 'None',\n",
    "        'num_leaves': 31,\n",
    "        'num_class': n_class,\n",
    "        'feature_fraction': 0.8,\n",
    "        'bagging_fraction': 0.8,\n",
    "        'bagging_freq': 5,\n",
    "        'seed': 1,\n",
    "        'bagging_seed': 1,\n",
    "        'feature_fraction_seed': 7,\n",
    "        'min_data_in_leaf': 20,\n",
    "        'nthread': -1,\n",
    "        'verbose': -1\n",
    "    }\n",
    "\n",
    "    for n_fold, (train_idx, valid_idx) in enumerate(folds.split(train_user_id), start=1):\n",
    "        print('the {} training start ...'.format(n_fold))\n",
    "        train_x, train_y = train_.loc[train_[id_col].isin(train_user_id[train_idx]), use_train_feats], train_.loc[\n",
    "            train_[id_col].isin(train_user_id[train_idx]), label]\n",
    "        valid_x, valid_y = train_.loc[train_[id_col].isin(train_user_id[valid_idx]), use_train_feats], train_.loc[\n",
    "            train_[id_col].isin(train_user_id[valid_idx]), label]\n",
    "        print(f'for train user:{len(train_idx)}\\nfor valid user:{len(valid_idx)}')\n",
    "\n",
    "        if use_cart:\n",
    "            dtrain = lgb.Dataset(train_x, label=train_y, categorical_feature=cate_cols)\n",
    "            dvalid = lgb.Dataset(valid_x, label=valid_y, categorical_feature=cate_cols)\n",
    "        else:\n",
    "            dtrain = lgb.Dataset(train_x, label=train_y)\n",
    "            dvalid = lgb.Dataset(valid_x, label=valid_y)\n",
    "\n",
    "        clf = lgb.train(\n",
    "            params=params,\n",
    "            train_set=dtrain,\n",
    "            num_boost_round=5000,\n",
    "            valid_sets=[dvalid],\n",
    "            early_stopping_rounds=100,\n",
    "            verbose_eval=100,\n",
    "            feval=f1_score_eval\n",
    "        )\n",
    "        fold_importance_df[f'fold_{n_fold}_imp'] = clf.feature_importance(importance_type='gain')\n",
    "        train_.loc[train_[id_col].isin(train_user_id[valid_idx]), f'{label}_pred'] = np.argmax(\n",
    "            clf.predict(valid_x, num_iteration=clf.best_iteration), axis=1)\n",
    "        test_pred += clf.predict(test_[use_train_feats], num_iteration=clf.best_iteration) / folds.n_splits\n",
    "\n",
    "    report = f1_score(train_[label], train_[f'{label}_pred'], average=None)\n",
    "    print(classification_report(train_[label], train_[f'{label}_pred'], digits=4))\n",
    "    print('Score: ', report[0] * 0.2 + report[1] * 0.2 + report[2] * 0.6)\n",
    "    test_[f'{label}_pred'] = np.argmax(test_pred, axis=1)\n",
    "    test_[label] = np.argmax(test_pred, axis=1)+1\n",
    "    five_folds = [f'fold_{f}_imp' for f in range(1, n_splits + 1)]\n",
    "    fold_importance_df['avg_imp'] = fold_importance_df[five_folds].mean(axis=1)\n",
    "    fold_importance_df.sort_values(by='avg_imp', ascending=False, inplace=True)\n",
    "    print(fold_importance_df[['Feature', 'avg_imp']].head(20))\n",
    "    return test_[[id_col, 'current_slice_id', 'future_slice_id', label]]"
   ]
  },
  {
   "cell_type": "code",
   "execution_count": null,
   "metadata": {
    "ExecuteTime": {
     "end_time": "2020-11-10T04:15:10.921001Z",
     "start_time": "2020-11-10T03:44:17.604552Z"
    }
   },
   "outputs": [],
   "source": [
    "if __name__ == \"__main__\":\n",
    "    train_path = './traffic/20190706.txt'\n",
    "    test_path = 'test.txt'\n",
    "    gen_feats(train_path, mode='is_train')\n",
    "    gen_feats(test_path, mode='is_test')\n",
    "    attr = pd.read_csv('attr.txt', sep='\\t',\n",
    "                       names=['link', 'length', 'direction', 'path_class', 'speed_class', 'LaneNum', 'speed_limit',\n",
    "                              'level', 'width'], header=None)\n",
    "\n",
    "    train = pd.read_csv('is_train_20190706.txt')\n",
    "    test = pd.read_csv('is_test.csv')\n",
    "    train = train.merge(attr, on='link', how='left')\n",
    "    test = test.merge(attr, on='link', how='left')\n",
    "\n",
    "    use_cols = [i for i in train.columns if i not in ['link', 'label', 'current_slice_id', 'future_slice_id', 'label_pred']]\n",
    "\n",
    "    sub = lgb_train(train, test, use_cols, 'link', 'label', 5, 2020)\n",
    "\n",
    "    sub.to_csv('public_baseline.csv', index=False, encoding='utf8')"
   ]
  },
  {
   "cell_type": "code",
   "execution_count": null,
   "metadata": {
    "ExecuteTime": {
     "end_time": "2020-11-08T02:25:36.578114Z",
     "start_time": "2020-11-08T02:25:26.011465Z"
    },
    "code_folding": []
   },
   "outputs": [],
   "source": [
    "\n",
    "# attr = pd.read_csv('attr.txt', sep='\\t',\n",
    "#                        names=['link', 'length', 'direction', 'path_class', 'speed_class', 'LaneNum', 'speed_limit',\n",
    "#                               'level', 'width'], header=None)\n",
    "\n",
    "#train = pd.read_csv('train/is_train_2019071.txt')\n",
    "#train = train.merge(attr, on='link', how='left')\n",
    "ver = pd.read_csv('test0702.csv')\n",
    "#ver = ver.merge(attr, on='link', how='left')\n",
    "\n"
   ]
  },
  {
   "cell_type": "markdown",
   "metadata": {},
   "source": [
    "## lightgbm\n"
   ]
  },
  {
   "cell_type": "code",
   "execution_count": null,
   "metadata": {
    "ExecuteTime": {
     "end_time": "2020-11-10T05:16:30.241782Z",
     "start_time": "2020-11-10T05:16:29.627269Z"
    }
   },
   "outputs": [],
   "source": [
    "attr = pd.read_csv('attr.txt', sep='\\t',\n",
    "                       names=['link', 'length', 'direction', 'path_class', 'speed_class', 'LaneNum', 'speed_limit',\n",
    "                              'level', 'width'], header=None)"
   ]
  },
  {
   "cell_type": "code",
   "execution_count": null,
   "metadata": {
    "ExecuteTime": {
     "end_time": "2020-11-10T05:49:13.259375Z",
     "start_time": "2020-11-10T05:48:50.040170Z"
    }
   },
   "outputs": [],
   "source": [
    "train = pd.read_csv('./train/is_train_2019071.txt')\n",
    "ver = pd.read_csv('./train/is_train_2019072.txt')\n",
    "train = train.merge(attr, on='link', how='left')\n",
    "ver = ver.merge(attr, on='link', how='left')"
   ]
  },
  {
   "cell_type": "code",
   "execution_count": null,
   "metadata": {
    "ExecuteTime": {
     "end_time": "2020-11-08T02:27:01.741600Z",
     "start_time": "2020-11-08T02:25:53.079314Z"
    }
   },
   "outputs": [],
   "source": [
    "tr=pd.read_csv('tdata1.csv')\n",
    "\n",
    "tr0=tr.loc[tr['label'].isin(['0'])]\n",
    "\n",
    "tr1=tr.loc[tr['label'].isin(['1'])]\n",
    "\n",
    "tr2=tr.loc[tr['label'].isin(['2'])]\n",
    "\n",
    "tr_0=tr0[0:400000]\n",
    "tr_1=tr1[0:500000]\n",
    "tr_2=tr2[0:600000]\n",
    "\n",
    "train=pd.concat([tr_0,tr_1])\n",
    "train=pd.concat([train,tr_2])"
   ]
  },
  {
   "cell_type": "code",
   "execution_count": null,
   "metadata": {
    "ExecuteTime": {
     "end_time": "2020-11-10T05:49:31.884886Z",
     "start_time": "2020-11-10T05:49:31.667468Z"
    }
   },
   "outputs": [],
   "source": [
    "import gc\n",
    "gc.collect()"
   ]
  },
  {
   "cell_type": "code",
   "execution_count": null,
   "metadata": {
    "ExecuteTime": {
     "end_time": "2020-11-08T02:27:32.024328Z",
     "start_time": "2020-11-08T02:27:22.884790Z"
    }
   },
   "outputs": [],
   "source": [
    "from sklearn.utils import shuffle\n",
    "train = shuffle(train).reset_index(drop=True)"
   ]
  },
  {
   "cell_type": "code",
   "execution_count": null,
   "metadata": {
    "ExecuteTime": {
     "end_time": "2020-11-08T02:28:06.745272Z",
     "start_time": "2020-11-08T02:28:02.137742Z"
    }
   },
   "outputs": [],
   "source": [
    "train"
   ]
  },
  {
   "cell_type": "code",
   "execution_count": null,
   "metadata": {
    "ExecuteTime": {
     "end_time": "2020-11-10T05:52:22.567610Z",
     "start_time": "2020-11-10T05:52:22.562596Z"
    }
   },
   "outputs": [],
   "source": [
    "id_col = 'link'\n",
    "use_cols = [i for i in train.columns if i not in ['link', 'label', 'current_slice_id', 'future_slice_id', 'label_pred']]"
   ]
  },
  {
   "cell_type": "code",
   "execution_count": null,
   "metadata": {
    "ExecuteTime": {
     "end_time": "2020-11-10T05:52:23.549692Z",
     "start_time": "2020-11-10T05:52:23.529714Z"
    }
   },
   "outputs": [],
   "source": [
    "n_class = train['label'].nunique()"
   ]
  },
  {
   "cell_type": "code",
   "execution_count": null,
   "metadata": {
    "ExecuteTime": {
     "end_time": "2020-11-10T05:52:26.537409Z",
     "start_time": "2020-11-10T05:52:24.122223Z"
    }
   },
   "outputs": [],
   "source": [
    "params = {\n",
    "        'learning_rate': 0.05,\n",
    "        'boosting_type': 'gbdt',\n",
    "        'objective': 'multiclass',\n",
    "        'metric': 'None',\n",
    "        'num_leaves': 31,\n",
    "        'num_class': n_class,\n",
    "        'feature_fraction': 0.8,\n",
    "        'bagging_fraction': 0.8,\n",
    "        'bagging_freq': 5,\n",
    "        'seed': 1,\n",
    "        'bagging_seed': 1,\n",
    "        'feature_fraction_seed': 7,\n",
    "        'min_data_in_leaf': 20,\n",
    "        'nthread': -1,\n",
    "        'verbose': -1\n",
    "}\n",
    "X_train= (train.loc[:,use_cols])\n",
    "y_train = (train['label'])\n",
    "X_ver= (ver.loc[:,use_cols])\n",
    "y_ver = (ver['label'])"
   ]
  },
  {
   "cell_type": "code",
   "execution_count": null,
   "metadata": {
    "ExecuteTime": {
     "end_time": "2020-11-10T05:52:39.922961Z",
     "start_time": "2020-11-10T05:52:39.894035Z"
    }
   },
   "outputs": [],
   "source": [
    "dtrain = lgb.Dataset(X_train, label=y_train)\n",
    "dvalid = lgb.Dataset(X_ver, label=y_ver)"
   ]
  },
  {
   "cell_type": "code",
   "execution_count": null,
   "metadata": {
    "ExecuteTime": {
     "end_time": "2020-11-10T05:52:41.833064Z",
     "start_time": "2020-11-10T05:52:41.828078Z"
    }
   },
   "outputs": [],
   "source": [
    "def f1_score_eval(preds, valid_df):\n",
    "    labels = valid_df.get_label()\n",
    "    preds = np.argmax(preds.reshape(3, -1), axis=0)\n",
    "    scores = f1_score(y_true=labels, y_pred=preds, average=None)\n",
    "    scores = scores[0]*0.2+scores[1]*0.2+scores[2]*0.6\n",
    "    return 'f1_score', scores, True"
   ]
  },
  {
   "cell_type": "code",
   "execution_count": null,
   "metadata": {
    "ExecuteTime": {
     "end_time": "2020-11-10T05:57:40.495090Z",
     "start_time": "2020-11-10T05:52:43.104161Z"
    },
    "scrolled": true
   },
   "outputs": [],
   "source": [
    "clf = lgb.train(\n",
    "            params=params,\n",
    "            train_set=dtrain,\n",
    "            num_boost_round=5000,\n",
    "            valid_sets=[dvalid],\n",
    "            early_stopping_rounds=100,\n",
    "                verbose_eval=100,\n",
    "            feval=f1_score_eval\n",
    ")"
   ]
  },
  {
   "cell_type": "code",
   "execution_count": null,
   "metadata": {
    "ExecuteTime": {
     "end_time": "2020-11-10T05:58:15.361699Z",
     "start_time": "2020-11-10T05:58:03.661572Z"
    }
   },
   "outputs": [],
   "source": [
    "ressss = clf.predict(ver[use_cols], num_iteration=clf.best_iteration)"
   ]
  },
  {
   "cell_type": "code",
   "execution_count": null,
   "metadata": {
    "ExecuteTime": {
     "start_time": "2020-11-05T08:28:26.832Z"
    }
   },
   "outputs": [],
   "source": [
    "1"
   ]
  },
  {
   "cell_type": "code",
   "execution_count": null,
   "metadata": {
    "ExecuteTime": {
     "end_time": "2020-11-10T05:58:34.310459Z",
     "start_time": "2020-11-10T05:58:34.300458Z"
    }
   },
   "outputs": [],
   "source": [
    "ressss"
   ]
  },
  {
   "cell_type": "code",
   "execution_count": null,
   "metadata": {
    "ExecuteTime": {
     "end_time": "2020-11-10T05:59:11.559483Z",
     "start_time": "2020-11-10T05:59:11.536533Z"
    }
   },
   "outputs": [],
   "source": [
    "temp = np.argmax(ressss,axis=1)"
   ]
  },
  {
   "cell_type": "code",
   "execution_count": null,
   "metadata": {
    "ExecuteTime": {
     "end_time": "2020-11-10T05:59:16.504905Z",
     "start_time": "2020-11-10T05:59:14.087898Z"
    }
   },
   "outputs": [],
   "source": [
    "report = f1_score(y_ver,temp, average=None)\n",
    "print(classification_report(y_ver,temp, digits=4))\n",
    "print('Score: ', report[0] * 0.2 + report[1] * 0.2 + report[2] * 0.6)"
   ]
  },
  {
   "cell_type": "code",
   "execution_count": null,
   "metadata": {
    "ExecuteTime": {
     "end_time": "2020-11-10T05:33:02.958008Z",
     "start_time": "2020-11-10T05:33:01.559974Z"
    }
   },
   "outputs": [],
   "source": [
    "report = f1_score(y_ver,temp, average=None)\n",
    "print(classification_report(y_ver,temp, digits=4))\n",
    "print('Score: ', report[0] * 0.2 + report[1] * 0.2 + report[2] * 0.6)"
   ]
  },
  {
   "cell_type": "code",
   "execution_count": null,
   "metadata": {
    "ExecuteTime": {
     "end_time": "2020-11-10T05:24:20.743982Z",
     "start_time": "2020-11-10T05:24:19.402360Z"
    }
   },
   "outputs": [],
   "source": [
    "report = f1_score(y_ver,temp, average=None)\n",
    "print(classification_report(y_ver,temp, digits=4))\n",
    "print('Score: ', report[0] * 0.2 + report[1] * 0.2 + report[2] * 0.6)"
   ]
  },
  {
   "cell_type": "code",
   "execution_count": null,
   "metadata": {
    "ExecuteTime": {
     "end_time": "2020-11-05T04:51:22.141823Z",
     "start_time": "2020-11-05T04:51:20.567625Z"
    }
   },
   "outputs": [],
   "source": [
    "report = f1_score(y_ver,temp, average=None)\n",
    "print(classification_report(y_ver,temp, digits=4))\n",
    "print('Score: ', report[0] * 0.2 + report[1] * 0.2 + report[2] * 0.6)"
   ]
  },
  {
   "cell_type": "code",
   "execution_count": null,
   "metadata": {
    "ExecuteTime": {
     "end_time": "2020-11-04T03:56:59.765584Z",
     "start_time": "2020-11-04T03:56:58.778965Z"
    }
   },
   "outputs": [],
   "source": [
    "report = f1_score(y_ver,temp, average=None)\n",
    "print(classification_report(y_ver,temp, digits=4))\n",
    "print('Score: ', report[0] * 0.2 + report[1] * 0.2 + report[2] * 0.6)"
   ]
  },
  {
   "cell_type": "code",
   "execution_count": null,
   "metadata": {
    "ExecuteTime": {
     "end_time": "2020-11-04T03:51:46.386415Z",
     "start_time": "2020-11-04T03:51:45.400053Z"
    }
   },
   "outputs": [],
   "source": [
    "report = f1_score(y_ver,temp, average=None)\n",
    "print(classification_report(y_ver,temp, digits=4))\n",
    "print('Score: ', report[0] * 0.2 + report[1] * 0.2 + report[2] * 0.6)"
   ]
  },
  {
   "cell_type": "code",
   "execution_count": null,
   "metadata": {
    "ExecuteTime": {
     "end_time": "2020-11-03T02:08:51.104934Z",
     "start_time": "2020-11-03T02:08:49.220227Z"
    }
   },
   "outputs": [],
   "source": [
    "report = f1_score(y_ver,temp, average=None)\n",
    "print(classification_report(y_ver,temp, digits=4))\n",
    "print('Score: ', report[0] * 0.2 + report[1] * 0.2 + report[2] * 0.6)"
   ]
  },
  {
   "cell_type": "code",
   "execution_count": null,
   "metadata": {
    "ExecuteTime": {
     "end_time": "2020-11-03T02:00:11.050038Z",
     "start_time": "2020-11-03T02:00:09.217175Z"
    }
   },
   "outputs": [],
   "source": [
    "report = f1_score(y_ver,temp, average=None)\n",
    "print(classification_report(y_ver,temp, digits=4))\n",
    "print('Score: ', report[0] * 0.2 + report[1] * 0.2 + report[2] * 0.6)"
   ]
  },
  {
   "cell_type": "code",
   "execution_count": null,
   "metadata": {},
   "outputs": [],
   "source": [
    "report = f1_score(y_ver,temp, average=None)\n",
    "print(classification_report(y_ver,temp, digits=4))\n",
    "print('Score: ', report[0] * 0.2 + report[1] * 0.2 + report[2] * 0.6)"
   ]
  },
  {
   "cell_type": "markdown",
   "metadata": {},
   "source": [
    "## 更改state为label"
   ]
  },
  {
   "cell_type": "code",
   "execution_count": null,
   "metadata": {},
   "outputs": [],
   "source": []
  }
 ],
 "metadata": {
  "kernelspec": {
   "display_name": "Python 3",
   "language": "python",
   "name": "python3"
  },
  "language_info": {
   "codemirror_mode": {
    "name": "ipython",
    "version": 3
   },
   "file_extension": ".py",
   "mimetype": "text/x-python",
   "name": "python",
   "nbconvert_exporter": "python",
   "pygments_lexer": "ipython3",
   "version": "3.8.3"
  },
  "toc": {
   "base_numbering": 1,
   "nav_menu": {},
   "number_sections": true,
   "sideBar": true,
   "skip_h1_title": false,
   "title_cell": "Table of Contents",
   "title_sidebar": "Contents",
   "toc_cell": false,
   "toc_position": {},
   "toc_section_display": true,
   "toc_window_display": false
  }
 },
 "nbformat": 4,
 "nbformat_minor": 4
}

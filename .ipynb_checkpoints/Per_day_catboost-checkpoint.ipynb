{
 "cells": [
  {
   "cell_type": "code",
   "execution_count": 1,
   "metadata": {},
   "outputs": [],
   "source": [
    "import pandas as pd\n",
    "import numpy as np\n",
    "from tqdm import tqdm\n",
    "from sklearn.model_selection import KFold\n",
    "from sklearn.metrics import classification_report, f1_score\n",
    "from collections import Counter\n",
    "import warnings\n",
    "from pandasgui import show\n",
    "import gc\n",
    "import catboost as cb\n",
    "import os\n",
    "import ipywidgets\n",
    "from sklearn.model_selection import train_test_split\n",
    "warnings.filterwarnings(\"ignore\")"
   ]
  },
  {
   "cell_type": "code",
   "execution_count": 3,
   "metadata": {},
   "outputs": [],
   "source": [
    "def file_name(file_dir):\n",
    "    for root, dirs, files in os.walk(file_dir):\n",
    "        return files"
   ]
  },
  {
   "cell_type": "code",
   "execution_count": 19,
   "metadata": {},
   "outputs": [],
   "source": [
    "file_names = (file_name('per_day'))"
   ]
  },
  {
   "cell_type": "code",
   "execution_count": null,
   "metadata": {
    "scrolled": true
   },
   "outputs": [
    {
     "name": "stdout",
     "output_type": "stream",
     "text": [
      "\n",
      "bestTest = 0.000621321289\n",
      "bestIteration = 497\n",
      "\n",
      "Shrink model to first 498 iterations.\n",
      "Stopped by overfitting detector  (30 iterations wait)\n",
      "\n",
      "bestTest = 0.008508752668\n",
      "bestIteration = 437\n",
      "\n",
      "Shrink model to first 438 iterations.\n"
     ]
    }
   ],
   "source": [
    "for name in file_names[0:5]:\n",
    "    data = pd.read_csv('per_day/'+name,header=None)\n",
    "    X = data.loc[:,2:79]\n",
    "    y = data.loc[:,1]\n",
    "    X_train, X_ver, y_train, y_ver = train_test_split(X, y, test_size=0.2, random_state=2)\n",
    "    categorical_features_indices = np.where(X_train.dtypes != np.float)[0]\n",
    "    w = np.array((y_train+1))\n",
    "    model = cb.CatBoostClassifier(iterations=500, depth=5,cat_features = categorical_features_indices, learning_rate=0.5, loss_function='MultiClass',logging_level='Verbose')\n",
    "    model.fit(X_train,y_train,eval_set=(X_ver,y_ver),sample_weight=w,early_stopping_rounds=30,verbose=False)\n",
    "    save_name = name.replace('r','')\n",
    "    model.save_model('per_day_model/mo'+save_name)"
   ]
  }
 ],
 "metadata": {
  "kernelspec": {
   "display_name": "Python 3",
   "language": "python",
   "name": "python3"
  },
  "language_info": {
   "codemirror_mode": {
    "name": "ipython",
    "version": 3
   },
   "file_extension": ".py",
   "mimetype": "text/x-python",
   "name": "python",
   "nbconvert_exporter": "python",
   "pygments_lexer": "ipython3",
   "version": "3.8.3"
  }
 },
 "nbformat": 4,
 "nbformat_minor": 4
}

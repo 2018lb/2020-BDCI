{
 "cells": [
  {
   "cell_type": "code",
   "execution_count": null,
   "metadata": {},
   "outputs": [],
   "source": [
    "import pandas as pd\n",
    "import numpy as np\n",
    "from tqdm import tqdm\n",
    "from sklearn.model_selection import KFold\n",
    "from sklearn.metrics import classification_report, f1_score\n",
    "from collections import Counter\n",
    "import warnings\n",
    "from pandasgui import show\n",
    "import gc\n",
    "import catboost as cb\n",
    "import os\n",
    "import ipywidgets\n",
    "from sklearn.model_selection import train_test_split\n",
    "warnings.filterwarnings(\"ignore\")"
   ]
  },
  {
   "cell_type": "code",
   "execution_count": null,
   "metadata": {},
   "outputs": [],
   "source": [
    "def file_name(file_dir):\n",
    "    for root, dirs, files in os.walk(file_dir):\n",
    "        return files"
   ]
  },
  {
   "cell_type": "code",
   "execution_count": null,
   "metadata": {},
   "outputs": [],
   "source": [
    "file_names = (file_name('per_day'))"
   ]
  },
  {
   "cell_type": "code",
   "execution_count": null,
   "metadata": {
    "scrolled": true
   },
   "outputs": [],
   "source": [
    "opop = 1\n",
    "for name in (file_names):\n",
    "    print(name)\n",
    "    if name == \"175642r.txt\": \n",
    "        opop = 0\n",
    "    if (opop == 1): \n",
    "        continue\n",
    "    data = pd.read_csv('per_day/'+name,header=None)\n",
    "    if (data.loc[:,1].nunique()==1):\n",
    "        continue\n",
    "    X = data.loc[:,2:83]\n",
    "    y = data.loc[:,1]\n",
    "    op = 1\n",
    "    i = 2\n",
    "    while (op == 1):\n",
    "        X_train, X_ver, y_train, y_ver = train_test_split(X, y, test_size=0.2, random_state=i)\n",
    "        if y_ver.nunique() <= y_train.nunique():\n",
    "            op = 0\n",
    "        i += 2\n",
    "        \n",
    "    #categorical_features_indices = np.where(X_train.dtypes != np.float)[0]\n",
    "    w = np.array((y_train+1))\n",
    "    model = cb.CatBoostClassifier(iterations=500, depth=5, learning_rate=0.8, loss_function='MultiClass',logging_level='Verbose')\n",
    "    model.fit(X_train,y_train,eval_set=(X_ver,y_ver),sample_weight=w,early_stopping_rounds=30,verbose=False)\n",
    "    save_name = name.replace('r','')\n",
    "    model.save_model('per_day_model/mo'+save_name)"
   ]
  },
  {
   "cell_type": "code",
   "execution_count": null,
   "metadata": {},
   "outputs": [],
   "source": []
  }
 ],
 "metadata": {
  "kernelspec": {
   "display_name": "Python 3",
   "language": "python",
   "name": "python3"
  },
  "language_info": {
   "codemirror_mode": {
    "name": "ipython",
    "version": 3
   },
   "file_extension": ".py",
   "mimetype": "text/x-python",
   "name": "python",
   "nbconvert_exporter": "python",
   "pygments_lexer": "ipython3",
   "version": "3.8.3"
  }
 },
 "nbformat": 4,
 "nbformat_minor": 4
}

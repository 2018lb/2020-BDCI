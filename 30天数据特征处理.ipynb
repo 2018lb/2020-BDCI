{
 "cells": [
  {
   "cell_type": "code",
   "execution_count": null,
   "metadata": {},
   "outputs": [],
   "source": [
    "import pandas as pd\n",
    "import numpy as np\n",
    "from tqdm import tqdm\n",
    "from sklearn.model_selection import KFold\n",
    "from sklearn.metrics import classification_report, f1_score,accuracy_score\n",
    "import lightgbm as lgb\n",
    "from collections import Counter\n",
    "import warnings\n",
    "import gc\n",
    "\n",
    "warnings.filterwarnings(\"ignore\")"
   ]
  },
  {
   "cell_type": "code",
   "execution_count": null,
   "metadata": {},
   "outputs": [],
   "source": [
    "def get_base_info(x):\n",
    "    return [i.split(':')[-1] for i in x.split(' ')]\n",
    "\n",
    "def get_speed(x):\n",
    "    return np.array([i.split(',')[0] for i in x], dtype='float16')\n",
    "\n",
    "def get_eta(x):\n",
    "    return np.array([i.split(',')[1] for i in x], dtype='float16')\n",
    "\n",
    "def get_state(x):\n",
    "    return np.array([(i.split(',')[2]) for i in x], dtype='int16')\n",
    "\n",
    "def get_cnt(x):\n",
    "    return np.array([i.split(',')[3] for i in x], dtype='int16')"
   ]
  },
  {
   "cell_type": "code",
   "execution_count": null,
   "metadata": {},
   "outputs": [],
   "source": [
    "def gen_feat(path):\n",
    "    df = pd.read_csv(path, sep=';', header=None)\n",
    "    df['link'] = df[0].apply(lambda x: x.split(' ')[0])\n",
    "    df['label'] = df[0].apply(lambda x: int(x.split(' ')[1]))\n",
    "    df['label'] = df['label'].apply(lambda x: 3 if x > 3 else x)\n",
    "    df['label'] -= 1\n",
    "    df['current_slice_id'] = df[0].apply(lambda x: int(x.split(' ')[2]))\n",
    "    df['future_slice_id'] = df[0].apply(lambda x: int(x.split(' ')[3]))\n",
    "    df['time_diff'] = df['future_slice_id'] - df['current_slice_id']\n",
    "    del df[0]\n",
    "    #df['current_slice_id'] = df['current_slice_id'].apply(lambda x: 1 if x <= 200 else x)\n",
    "    #df['current_slice_id'] = df['current_slice_id'].apply(lambda x: 2 if (200< x <= 230) else x)\n",
    "    #df['current_slice_id'] = df['current_slice_id'].apply(lambda x: 3 if (230< x <= 340) else x)\n",
    "    #df['current_slice_id'] = df['current_slice_id'].apply(lambda x: 4 if (340< x <= 470) else x)\n",
    "    #df['current_slice_id'] = df['current_slice_id'].apply(lambda x: 5 if (470< x <= 520) else x)\n",
    "    #df['current_slice_id'] = df['current_slice_id'].apply(lambda x: 6 if (520< x <= 588) else x)\n",
    "    #df['current_slice_id'] = df['current_slice_id'].apply(lambda x: 7 if (588< x <= 720) else x)\n",
    "    #df['future_slice_id'] = df['future_slice_id'].apply(lambda x: 1 if x <= 200 else x)\n",
    "    #df['future_slice_id'] = df['future_slice_id'].apply(lambda x: 2 if (200< x <= 230) else x)\n",
    "    #df['future_slice_id'] = df['future_slice_id'].apply(lambda x: 3 if (230< x <= 340) else x)\n",
    "    #df['future_slice_id'] = df['future_slice_id'].apply(lambda x: 4 if (340< x <= 470) else x)\n",
    "    #df['future_slice_id'] = df['future_slice_id'].apply(lambda x: 5 if (470< x <= 520) else x)\n",
    "    #df['future_slice_id'] = df['future_slice_id'].apply(lambda x: 6 if (520< x <= 588) else x)\n",
    "    #df['future_slice_id'] = df['future_slice_id'].apply(lambda x: 7 if (588< x <= 720) else x)\n",
    "    for i in tqdm(range(1, 6)):\n",
    "        df['his_info'] = df[i].apply(get_base_info)\n",
    "        if i == 1:\n",
    "            flg = 'current'\n",
    "        else:\n",
    "            flg = f'his_{(6 - i) * 7}'\n",
    "        df['his_speed'] = df['his_info'].apply(get_speed)\n",
    "        df[f'{flg}_speed_min'] = df['his_speed'].apply(lambda x: x.min())\n",
    "        df[f'{flg}_speed_max'] = df['his_speed'].apply(lambda x: x.max())\n",
    "        df[f'{flg}_speed_mean'] = df['his_speed'].apply(lambda x: x.mean())\n",
    "        df[f'{flg}_speed_std'] = df['his_speed'].apply(lambda x: x.std())\n",
    "\n",
    "        df['his_eta'] = df['his_info'].apply(get_eta)\n",
    "        df[f'{flg}_eta_min'] = df['his_eta'].apply(lambda x: x.min())\n",
    "        df[f'{flg}_eta_max'] = df['his_eta'].apply(lambda x: x.max())\n",
    "        df[f'{flg}_eta_mean'] = df['his_eta'].apply(lambda x: x.mean())\n",
    "        df[f'{flg}_eta_std'] = df['his_eta'].apply(lambda x: x.std())\n",
    "\n",
    "        df['his_cnt'] = df['his_info'].apply(get_cnt)\n",
    "        df[f'{flg}_cnt_min'] = df['his_cnt'].apply(lambda x: x.min())\n",
    "        df[f'{flg}_cnt_max'] = df['his_cnt'].apply(lambda x: x.max())\n",
    "        df[f'{flg}_cnt_mean'] = df['his_cnt'].apply(lambda x: x.mean())\n",
    "        df[f'{flg}_cnt_std'] = df['his_cnt'].apply(lambda x: x.std())\n",
    "        \n",
    "        df['his_state'] = df['his_info'].apply(get_state).apply(lambda x:np.where(x<=0,1,x))\n",
    "        df['his_state'] = df['his_state'].apply(lambda x:np.where(x>=4,3,x))\n",
    "        df[f'{flg}__state_min'] = df['his_state'].apply(lambda x: x.min())\n",
    "        df[f'{flg}__state_max'] = df['his_state'].apply(lambda x: x.max())\n",
    "        df[f'{flg}_comstate'] = df['his_state'].apply(lambda x: Counter(x).most_common()[0][0])\n",
    "        df.drop([i, 'his_info', 'his_speed', 'his_eta', 'his_cnt', 'his_state'], axis=1, inplace=True)\n",
    "        #df.drop([i, 'his_info', 'his_speed', 'his_eta', 'his_cnt'], axis=1, inplace=True)\n",
    "        attr = pd.read_csv('attr.txt', sep='\\t',\n",
    "                       names=['link', 'length', 'direction', 'path_class', 'speed_class', 'LaneNum', 'speed_limit',\n",
    "                              'level', 'width'], header=None)\n",
    "        df['link'] = df['link'].apply(int)\n",
    "    return(df.merge(attr, on='link', how='left'))"
   ]
  },
  {
   "cell_type": "code",
   "execution_count": null,
   "metadata": {},
   "outputs": [],
   "source": [
    "ahhh = gen_feat('traffic/20190702.txt')"
   ]
  },
  {
   "cell_type": "code",
   "execution_count": null,
   "metadata": {},
   "outputs": [],
   "source": [
    "ahhh.to_csv('is_tran_data/is_tran_2019070'+str(2)+'.txt', index=False)"
   ]
  },
  {
   "cell_type": "code",
   "execution_count": null,
   "metadata": {
    "scrolled": false
   },
   "outputs": [],
   "source": [
    "for i in tqdm(range(1,10)):\n",
    "    path = 'is_tran_data/is_tran_2019070'+str(i)+'.txt'\n",
    "    extract = pd.read_csv(path)\n",
    "    extract.drop(['0','1','2','3','4','5'], axis=1, inplace=True)\n",
    "    save_path = is_tran_data/is_tran_2019070'+str(i)+'.txt\n",
    "    extract.to_csv(save_path, index=False)"
   ]
  },
  {
   "cell_type": "code",
   "execution_count": null,
   "metadata": {},
   "outputs": [],
   "source": [
    "    path = 'is_tran_data/is_tran_2019070'+str(1)+'.txt'\n",
    "    extract = pd.read_csv(path)\n",
    "    #extract.drop(['0','1','2','3','4','5'], axis=1, inplace=True)"
   ]
  },
  {
   "cell_type": "code",
   "execution_count": null,
   "metadata": {
    "scrolled": false
   },
   "outputs": [],
   "source": [
    " extract = extract[extract.link.isin(['353495'])]\n"
   ]
  },
  {
   "cell_type": "code",
   "execution_count": null,
   "metadata": {},
   "outputs": [],
   "source": [
    "extract = extract.append(extract)\n",
    "extract"
   ]
  },
  {
   "cell_type": "code",
   "execution_count": null,
   "metadata": {},
   "outputs": [],
   "source": [
    "for i in tqdm(range(10,31)):\n",
    "    path = 'is_tran_data/is_tran_201907'+str(i)+'.txt'\n",
    "    extract = pd.read_csv(path)\n",
    "    extract.drop(['0','1','2','3','4','5'], axis=1, inplace=True)\n",
    "    save_path = 'is_tran_data/is_tran_201907'+str(i)+'.txt'\n",
    "    extract.to_csv(save_path, index=False)"
   ]
  },
  {
   "cell_type": "code",
   "execution_count": null,
   "metadata": {},
   "outputs": [],
   "source": [
    "path = 'is_tran_data/is_tran_2019070'+str(i)+'.txt'\n",
    "extract = pd.read_csv(path)\n",
    "extract.drop(['0','1','2','3','4','5'], axis=1, inplace=True)\n",
    "save_path = 'is_tran_data/is_tran_2019070'+str(i)+'.txt'\n",
    "extract.to_csv(save_path, index=False)"
   ]
  },
  {
   "cell_type": "code",
   "execution_count": null,
   "metadata": {},
   "outputs": [],
   "source": [
    "path = 'is_tran_data/is_tran_2019070'+str(1)+'.txt'\n",
    "done = pd.read_csv(path)\n",
    "done = done[done.link.isin(['348288'])]\n",
    "for i in tqdm(range(2,10)):\n",
    "    path = 'is_tran_data/is_tran_2019070'+str(i)+'.txt'\n",
    "    extract = pd.read_csv(path)\n",
    "    extract = extract[extract.link.isin(['348288'])]\n",
    "    done = done.append(extract)"
   ]
  },
  {
   "cell_type": "code",
   "execution_count": null,
   "metadata": {
    "scrolled": true
   },
   "outputs": [],
   "source": [
    "for i in tqdm(range(10,31)):\n",
    "    path = 'is_tran_data/is_tran_201907'+str(i)+'.txt'\n",
    "    extract = pd.read_csv(path)\n",
    "    extract = extract[extract.link.isin(['348288'])]\n",
    "    done = done.append(extract)"
   ]
  },
  {
   "cell_type": "code",
   "execution_count": null,
   "metadata": {},
   "outputs": [],
   "source": []
  },
  {
   "cell_type": "code",
   "execution_count": null,
   "metadata": {},
   "outputs": [],
   "source": [
    "done"
   ]
  },
  {
   "cell_type": "code",
   "execution_count": null,
   "metadata": {},
   "outputs": [],
   "source": [
    "save_path = '348288r.txt'\n",
    "done.to_csv(save_path, index=False)"
   ]
  },
  {
   "cell_type": "code",
   "execution_count": null,
   "metadata": {},
   "outputs": [],
   "source": []
  }
 ],
 "metadata": {
  "kernelspec": {
   "display_name": "Python 3",
   "language": "python",
   "name": "python3"
  },
  "language_info": {
   "codemirror_mode": {
    "name": "ipython",
    "version": 3
   },
   "file_extension": ".py",
   "mimetype": "text/x-python",
   "name": "python",
   "nbconvert_exporter": "python",
   "pygments_lexer": "ipython3",
   "version": "3.8.3"
  }
 },
 "nbformat": 4,
 "nbformat_minor": 4
}

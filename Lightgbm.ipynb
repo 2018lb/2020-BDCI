{
 "cells": [
  {
   "cell_type": "code",
   "execution_count": null,
   "metadata": {},
   "outputs": [],
   "source": [
    "import pandas as pd\n",
    "import numpy as np\n",
    "from tqdm import tqdm\n",
    "from sklearn.model_selection import KFold\n",
    "from sklearn.metrics import classification_report, f1_score\n",
    "import lightgbm as lgb\n",
    "from collections import Counter\n",
    "import warnings\n",
    "import pickle\n",
    "warnings.filterwarnings(\"ignore\")"
   ]
  },
  {
   "cell_type": "code",
   "execution_count": null,
   "metadata": {},
   "outputs": [],
   "source": [
    "def get_base_info(x):\n",
    "    return [i.split(':')[-1] for i in x.split(' ')]\n",
    "\n",
    "def get_speed(x):\n",
    "    return np.array([i.split(',')[0] for i in x], dtype='float16')\n",
    "\n",
    "def get_eta(x):\n",
    "    return np.array([i.split(',')[1] for i in x], dtype='float16')\n",
    "\n",
    "def get_state(x):\n",
    "    return [int(i.split(',')[2]) for i in x]\n",
    "\n",
    "def get_cnt(x):\n",
    "    return np.array([i.split(',')[3] for i in x], dtype='int16')"
   ]
  },
  {
   "cell_type": "code",
   "execution_count": null,
   "metadata": {},
   "outputs": [],
   "source": [
    "def gen_feats(path, mode='is_train'):\n",
    "    df = pd.read_csv(path, sep=';', header=None)\n",
    "    df['link'] = df[0].apply(lambda x: x.split(' ')[0])\n",
    "    if mode == 'is_train':\n",
    "        df['label'] = df[0].apply(lambda x: int(x.split(' ')[1]))\n",
    "        df['label'] = df['label'].apply(lambda x: 3 if x > 3 else x)\n",
    "        df['label'] -= 1\n",
    "        df['current_slice_id'] = df[0].apply(lambda x: int(x.split(' ')[2]))\n",
    "        df['future_slice_id'] = df[0].apply(lambda x: int(x.split(' ')[3]))\n",
    "    else:\n",
    "        df['label'] = -1\n",
    "        df['current_slice_id'] = df[0].apply(lambda x: int(x.split(' ')[2]))\n",
    "        df['future_slice_id'] = df[0].apply(lambda x: int(x.split(' ')[3]))\n",
    "\n",
    "    df['time_diff'] = df['future_slice_id'] - df['current_slice_id']\n",
    "\n",
    "    df['curr_state'] = df[1].apply(lambda x: x.split(' ')[-1].split(':')[-1])\n",
    "    df['curr_speed'] = df['curr_state'].apply(lambda x: x.split(',')[0])\n",
    "    df['curr_eta'] = df['curr_state'].apply(lambda x: x.split(',')[1])\n",
    "    df['curr_cnt'] = df['curr_state'].apply(lambda x: x.split(',')[3])\n",
    "    df['curr_state'] = df['curr_state'].apply(lambda x: x.split(',')[2])\n",
    "    del df[0]\n",
    "\n",
    "    for i in tqdm(range(1, 6)):\n",
    "        df['his_info'] = df[i].apply(get_base_info)\n",
    "        if i == 1:\n",
    "            flg = 'current'\n",
    "        else:\n",
    "            flg = f'his_{(6 - i) * 7}'\n",
    "        df['his_speed'] = df['his_info'].apply(get_speed)\n",
    "        df[f'{flg}_speed_min'] = df['his_speed'].apply(lambda x: x.min())\n",
    "        df[f'{flg}_speed_max'] = df['his_speed'].apply(lambda x: x.max())\n",
    "        df[f'{flg}_speed_mean'] = df['his_speed'].apply(lambda x: x.mean())\n",
    "        df[f'{flg}_speed_std'] = df['his_speed'].apply(lambda x: x.std())\n",
    "\n",
    "        df['his_eta'] = df['his_info'].apply(get_eta)\n",
    "        df[f'{flg}_eta_min'] = df['his_eta'].apply(lambda x: x.min())\n",
    "        df[f'{flg}_eta_max'] = df['his_eta'].apply(lambda x: x.max())\n",
    "        df[f'{flg}_eta_mean'] = df['his_eta'].apply(lambda x: x.mean())\n",
    "        df[f'{flg}_eta_std'] = df['his_eta'].apply(lambda x: x.std())\n",
    "\n",
    "        df['his_cnt'] = df['his_info'].apply(get_cnt)\n",
    "        df[f'{flg}_cnt_min'] = df['his_cnt'].apply(lambda x: x.min())\n",
    "        df[f'{flg}_cnt_max'] = df['his_cnt'].apply(lambda x: x.max())\n",
    "        df[f'{flg}_cnt_mean'] = df['his_cnt'].apply(lambda x: x.mean())\n",
    "        df[f'{flg}_cnt_std'] = df['his_cnt'].apply(lambda x: x.std())\n",
    "\n",
    "        df['his_state'] = df['his_info'].apply(get_state)\n",
    "        df[f'{flg}_state'] = df['his_state'].apply(lambda x: Counter(x).most_common()[0][0])\n",
    "        df.drop([i, 'his_info', 'his_speed', 'his_eta', 'his_cnt', 'his_state'], axis=1, inplace=True)\n",
    "    if mode == 'is_train':\n",
    "        df.to_csv(f\"{mode}_{path.split('/')[-1]}\", index=False)\n",
    "    else:\n",
    "        df.to_csv(f\"is_test.csv\", index=False)"
   ]
  },
  {
   "cell_type": "code",
   "execution_count": null,
   "metadata": {},
   "outputs": [],
   "source": [
    "def f1_score_eval(preds, valid_df):\n",
    "    labels = valid_df.get_label()\n",
    "    preds = np.argmax(preds.reshape(3, -1), axis=0)\n",
    "    scores = f1_score(y_true=labels, y_pred=preds, average=None)\n",
    "    scores = scores[0]*0.2+scores[1]*0.2+scores[2]*0.8\n",
    "    return 'f1_score', scores, True"
   ]
  },
  {
   "cell_type": "code",
   "execution_count": null,
   "metadata": {},
   "outputs": [],
   "source": [
    "def save(model, filename):\n",
    "    with open(filename, \"wb\") as f:\n",
    "        pickle.dump(model, f)"
   ]
  },
  {
   "cell_type": "code",
   "execution_count": null,
   "metadata": {},
   "outputs": [],
   "source": [
    "def load(filename):\n",
    "    with open(filename, \"rb\") as f:\n",
    "        return pickle.load(f)"
   ]
  },
  {
   "cell_type": "code",
   "execution_count": null,
   "metadata": {},
   "outputs": [],
   "source": [
    "def lgb_train(train_: pd.DataFrame, test_: pd.DataFrame, use_train_feats: list, id_col: str, label: str,\n",
    "              n_splits: int, split_rs: int, is_shuffle=True, use_cart=False, cate_cols=None) -> pd.DataFrame:\n",
    "    if not cate_cols:\n",
    "        cate_cols = []\n",
    "    print('data shape:\\ntrain--{}\\ntest--{}'.format(train_.shape, test_.shape))\n",
    "    print('Use {} features ...'.format(len(use_train_feats)))\n",
    "    print('Use lightgbm to train ...')\n",
    "    n_class = train_[label].nunique()\n",
    "    train_[f'{label}_pred'] = 0\n",
    "    test_pred = np.zeros((test_.shape[0], n_class))\n",
    "    fold_importance_df = pd.DataFrame()\n",
    "    fold_importance_df[\"Feature\"] = use_train_feats\n",
    "\n",
    "    folds = KFold(n_splits=n_splits, shuffle=is_shuffle, random_state=split_rs)\n",
    "    train_user_id = train_[id_col].unique()\n",
    "\n",
    "    params = {\n",
    "        'learning_rate': 0.05,\n",
    "        'boosting_type': 'gbdt',\n",
    "        'objective': 'multiclass',\n",
    "        'metric': 'None',\n",
    "        'num_leaves': 31,\n",
    "        'num_class': n_class,\n",
    "        'feature_fraction': 0.8,\n",
    "        'bagging_fraction': 0.8,\n",
    "        'bagging_freq': 5,\n",
    "        'seed': 1,\n",
    "        'bagging_seed': 1,\n",
    "        'feature_fraction_seed': 7,\n",
    "        'min_data_in_leaf': 20,\n",
    "        'nthread': -1,\n",
    "        'verbose': -1\n",
    "    }\n",
    "\n",
    "    for n_fold, (train_idx, valid_idx) in enumerate(folds.split(train_user_id), start=1):\n",
    "        print('the {} training start ...'.format(n_fold))\n",
    "        train_x, train_y = train_.loc[train_[id_col].isin(train_user_id[train_idx]), use_train_feats], train_.loc[\n",
    "            train_[id_col].isin(train_user_id[train_idx]), label]\n",
    "        valid_x, valid_y = train_.loc[train_[id_col].isin(train_user_id[valid_idx]), use_train_feats], train_.loc[\n",
    "            train_[id_col].isin(train_user_id[valid_idx]), label]\n",
    "        print(f'for train user:{len(train_idx)}\\nfor valid user:{len(valid_idx)}')\n",
    "\n",
    "        if use_cart:\n",
    "            dtrain = lgb.Dataset(train_x, label=train_y, categorical_feature=cate_cols)\n",
    "            dvalid = lgb.Dataset(valid_x, label=valid_y, categorical_feature=cate_cols)\n",
    "        else:\n",
    "            dtrain = lgb.Dataset(train_x, label=train_y)\n",
    "            dvalid = lgb.Dataset(valid_x, label=valid_y)\n",
    "\n",
    "        #clf = lgb.train(\n",
    "        #    params=params,\n",
    "        #    train_set=dtrain,\n",
    "        #    num_boost_round=5000,\n",
    "        #    valid_sets=[dvalid],\n",
    "        #    early_stopping_rounds=100,\n",
    "        #    verbose_eval=100,\n",
    "        #    feval=f1_score_eval\n",
    "        #)\n",
    "        clf = load('model/20190730.txt')\n",
    "        fold_importance_df[f'fold_{n_fold}_imp'] = clf.feature_importance(importance_type='gain')\n",
    "        train_.loc[train_[id_col].isin(train_user_id[valid_idx]), f'{label}_pred'] = np.argmax(\n",
    "            clf.predict(valid_x, num_iteration=clf.best_iteration), axis=1)\n",
    "        test_pred += clf.predict(test_[use_train_feats], num_iteration=clf.best_iteration) / folds.n_splits\n",
    "\n",
    "    report = f1_score(train_[label], train_[f'{label}_pred'], average=None)\n",
    "    print(classification_report(train_[label], train_[f'{label}_pred'], digits=4))\n",
    "    print('Score: ', report[0] * 0.2 + report[1] * 0.2 + report[2] * 0.6)\n",
    "    test_[f'{label}_pred'] = np.argmax(test_pred, axis=1)\n",
    "    test_[label] = np.argmax(test_pred, axis=1)+1\n",
    "    five_folds = [f'fold_{f}_imp' for f in range(1, n_splits + 1)]\n",
    "    fold_importance_df['avg_imp'] = fold_importance_df[five_folds].mean(axis=1)\n",
    "    fold_importance_df.sort_values(by='avg_imp', ascending=False, inplace=True)\n",
    "    print(fold_importance_df[['Feature', 'avg_imp']].head(20))\n",
    "    return test_[[id_col, 'current_slice_id', 'future_slice_id', label]],clf"
   ]
  },
  {
   "cell_type": "code",
   "execution_count": null,
   "metadata": {},
   "outputs": [],
   "source": [
    "sub.to_csv('public_baseline1.csv', index=False, encoding='utf8')"
   ]
  },
  {
   "cell_type": "code",
   "execution_count": null,
   "metadata": {},
   "outputs": [],
   "source": [
    "sub,clf = lgb_train(train, test, use_cols, 'link', 'label', 5, 2020)\n",
    "#save(clf,'model/20190730.txt')"
   ]
  },
  {
   "cell_type": "code",
   "execution_count": null,
   "metadata": {},
   "outputs": [],
   "source": [
    "if __name__ == \"__main__\":\n",
    "    # train_path = './traffic/20190730.txt'\n",
    "    test_path = 'test.txt'\n",
    "    #gen_feats(train_path, mode='is_train')\n",
    "    #gen_feats(test_path, mode='is_test')\n",
    "    #attr = pd.read_csv('attr.txt', sep='\\t',\n",
    "                       names=['link', 'length', 'direction', 'path_class', 'speed_class', 'LaneNum', 'speed_limit',\n",
    "                              'level', 'width'], header=None)\n",
    "\n",
    "    #train = pd.read_csv('is_train_20190730.txt')\n",
    "    test = pd.read_csv('is_test.csv')\n",
    "    train = train.merge(attr, on='link', how='left')\n",
    "    test = test.merge(attr, on='link', how='left')\n",
    "\n",
    "    use_cols = [i for i in train.columns if i not in ['link', 'label', 'current_slice_id', 'future_slice_id', 'label_pred']]\n",
    "\n",
    "    sub,clf = lgb_train(train, test, use_cols, 'link', 'label', 5, 2020)\n",
    "    save(clf,'model/20190730.txt')\n",
    "\n",
    "    sub.to_csv('public_baseline.csv', index=False, encoding='utf8')"
   ]
  },
  {
   "cell_type": "code",
   "execution_count": null,
   "metadata": {},
   "outputs": [],
   "source": [
    "train = pd.read_csv('is_train/is_train_20190717.txt')"
   ]
  },
  {
   "cell_type": "code",
   "execution_count": null,
   "metadata": {},
   "outputs": [],
   "source": [
    "train"
   ]
  },
  {
   "cell_type": "code",
   "execution_count": null,
   "metadata": {
    "scrolled": true
   },
   "outputs": [],
   "source": [
    "train.info()"
   ]
  },
  {
   "cell_type": "code",
   "execution_count": null,
   "metadata": {},
   "outputs": [],
   "source": [
    "attr = pd.read_table('attr.txt')"
   ]
  },
  {
   "cell_type": "code",
   "execution_count": null,
   "metadata": {},
   "outputs": [],
   "source": [
    "attr[0:1]"
   ]
  },
  {
   "cell_type": "code",
   "execution_count": null,
   "metadata": {},
   "outputs": [],
   "source": [
    "from sklearn.model_selection import train_test_split\n",
    "X_train, X_validation, y_train, y_validation = train_test_split(train.loc[:,'current_slice_id':'his_7_state'],train.loc[:,'label':'label'],test_size=0.3 , random_state=1234)"
   ]
  },
  {
   "cell_type": "code",
   "execution_count": null,
   "metadata": {},
   "outputs": [],
   "source": [
    "from pandasgui import show"
   ]
  },
  {
   "cell_type": "code",
   "execution_count": null,
   "metadata": {},
   "outputs": [],
   "source": [
    "show(train)"
   ]
  },
  {
   "cell_type": "code",
   "execution_count": null,
   "metadata": {},
   "outputs": [],
   "source": [
    "train"
   ]
  },
  {
   "cell_type": "code",
   "execution_count": null,
   "metadata": {
    "scrolled": true
   },
   "outputs": [],
   "source": [
    "n = 0\n",
    "op = 0\n",
    "error_his = 0\n",
    "error_all = 0\n",
    "all_same = 0\n",
    "error_3 = 0\n",
    "error_2 = 0\n",
    "for i in tqdm(range(522081)):\n",
    "    if (train['label'][i]+1 == 3) & (train['his_7_state'][i] != train['label'][i]+1):\n",
    "        error_3 += 1\n",
    "    if (train['label'][i]+1 == 2) & (train['his_7_state'][i] != train['label'][i]+1):\n",
    "        error_2 += 1\n",
    "    if train['his_7_state'][i] == train['label'][i]+1:\n",
    "        op += 1\n",
    "    if  (train['his_7_state'][i] == train['his_14_state'][i]) & (train['his_21_state'][i] == train['his_7_state'][i]): \n",
    "        n += 1\n",
    "        if (train['his_7_state'][i] != train['label'][i]+1):\n",
    "            error_his += 1\n",
    "        if train['his_7_state'][i] == train['curr_state'][i]:\n",
    "            all_same += 1\n",
    "            if (train['his_7_state'][i] != train['label'][i]+1): \n",
    "                error_all += 1\n",
    "print(op, n, error_his, all_same, error_all, error_3, error_2)"
   ]
  },
  {
   "cell_type": "code",
   "execution_count": null,
   "metadata": {},
   "outputs": [],
   "source": []
  },
  {
   "cell_type": "code",
   "execution_count": null,
   "metadata": {},
   "outputs": [],
   "source": [
    "type(test)"
   ]
  },
  {
   "cell_type": "code",
   "execution_count": null,
   "metadata": {
    "scrolled": true
   },
   "outputs": [],
   "source": [
    "ans = pd.read_csv('2020_10_26_23.csv')"
   ]
  },
  {
   "cell_type": "code",
   "execution_count": null,
   "metadata": {},
   "outputs": [],
   "source": [
    "ans"
   ]
  },
  {
   "cell_type": "code",
   "execution_count": null,
   "metadata": {},
   "outputs": [],
   "source": [
    "test['his_7_state'][504888]"
   ]
  },
  {
   "cell_type": "code",
   "execution_count": null,
   "metadata": {
    "scrolled": true
   },
   "outputs": [],
   "source": [
    "n = 0\n",
    "error_his = 0\n",
    "error_all = 0\n",
    "for i in tqdm(range(504891)):\n",
    "    if  (test['his_7_state'][i] == test['his_14_state'][i]) & (test['his_21_state'][i] == test['his_7_state'][i]): \n",
    "        n += 1\n",
    "        if (test['his_7_state'][i] != 0) & (test['his_7_state'][i] != ans['label'][i]):\n",
    "            error_his += 1\n",
    "        if test['his_7_state'][i] == test['curr_state'][i]:\n",
    "            if (test['his_7_state'][i] != 0) & (test['his_7_state'][i] != ans['label'][i]): \n",
    "                error_all += 1\n",
    "print(n, error_his, error_all)"
   ]
  },
  {
   "cell_type": "code",
   "execution_count": null,
   "metadata": {},
   "outputs": [],
   "source": [
    "n = 0\n",
    "num_1 = 0\n",
    "num_2 = 0\n",
    "num_3 = 0\n",
    "for i in tqdm(range(504891)):\n",
    "    if  (test['his_7_state'][i] == test['his_14_state'][i]) & (test['his_21_state'][i] == test['his_7_state'][i]): \n",
    "        n += 1\n",
    "        if (test['his_7_state'][i] == 1) :\n",
    "            num_1+=1\n",
    "        if (test['his_7_state'][i] == 2) :\n",
    "            num_2+=1\n",
    "        if (test['his_7_state'][i] == 3) :\n",
    "            num_3+=1\n",
    "print(n, num_1, num_2, num_3)"
   ]
  },
  {
   "cell_type": "code",
   "execution_count": null,
   "metadata": {},
   "outputs": [],
   "source": [
    "n = 0\n",
    "error_his = 0\n",
    "error_all = 0\n",
    "for i in tqdm(range(504891)):\n",
    "    if  (test['his_7_state'][i] == test['his_14_state'][i]) & (test['his_21_state'][i] == test['his_7_state'][i]): \n",
    "        n += 1\n",
    "        if (test['his_7_state'][i] != 0) & (test['his_7_state'][i] != ans['label'][i]):\n",
    "            ans['label'][i] = test['his_7_state'][i]\n",
    "        if test['his_7_state'][i] == test['curr_state'][i]:\n",
    "            if (test['his_7_state'][i] != 0) & (test['his_7_state'][i] != ans['label'][i]): \n",
    "                error_all += 1\n",
    "print(n, error_his, error_all)"
   ]
  },
  {
   "cell_type": "code",
   "execution_count": null,
   "metadata": {
    "scrolled": true
   },
   "outputs": [],
   "source": [
    "train = test[['link','current_slice_id','future_slice_id','his_7_state']]"
   ]
  },
  {
   "cell_type": "code",
   "execution_count": null,
   "metadata": {},
   "outputs": [],
   "source": [
    "train['label'] = train['his_7_state']\n"
   ]
  },
  {
   "cell_type": "code",
   "execution_count": null,
   "metadata": {},
   "outputs": [],
   "source": [
    "del train['his_7_state']"
   ]
  },
  {
   "cell_type": "code",
   "execution_count": null,
   "metadata": {},
   "outputs": [],
   "source": [
    "train"
   ]
  },
  {
   "cell_type": "code",
   "execution_count": null,
   "metadata": {},
   "outputs": [],
   "source": [
    "n = 0\n",
    "for i in tqdm(range(504891)):\n",
    "    if  (train['label'][i] == 0): \n",
    "        n += 1\n",
    "n"
   ]
  },
  {
   "cell_type": "code",
   "execution_count": null,
   "metadata": {},
   "outputs": [],
   "source": [
    "ans.to_csv('2020_10_28.csv', index=False, encoding='utf8')"
   ]
  },
  {
   "cell_type": "code",
   "execution_count": null,
   "metadata": {},
   "outputs": [],
   "source": [
    "df = pd.read_csv(path, sep=';', header=None)"
   ]
  }
 ],
 "metadata": {
  "kernelspec": {
   "display_name": "Python 3",
   "language": "python",
   "name": "python3"
  },
  "language_info": {
   "codemirror_mode": {
    "name": "ipython",
    "version": 3
   },
   "file_extension": ".py",
   "mimetype": "text/x-python",
   "name": "python",
   "nbconvert_exporter": "python",
   "pygments_lexer": "ipython3",
   "version": "3.8.3"
  }
 },
 "nbformat": 4,
 "nbformat_minor": 4
}

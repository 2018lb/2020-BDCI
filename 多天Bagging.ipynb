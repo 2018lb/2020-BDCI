{
 "cells": [
  {
   "cell_type": "code",
   "execution_count": null,
   "metadata": {},
   "outputs": [],
   "source": [
    "import pandas as pd\n",
    "import numpy as np\n",
    "from tqdm import tqdm\n",
    "from sklearn.model_selection import KFold\n",
    "from sklearn.metrics import classification_report, f1_score,accuracy_score\n",
    "from collections import Counter\n",
    "import warnings\n",
    "from pandasgui import show\n",
    "import gc\n",
    "import catboost as cb\n",
    "import ipywidgets\n",
    "from sklearn.ensemble import BaggingClassifier\n",
    "from collections import Counter\n",
    "from scipy import stats\n",
    "warnings.filterwarnings(\"ignore\")"
   ]
  },
  {
   "cell_type": "code",
   "execution_count": null,
   "metadata": {},
   "outputs": [],
   "source": [
    "attr = pd.read_csv('attr.txt', sep='\\t',\n",
    "                       names=['link', 'length', 'direction', 'path_class', 'speed_class', 'LaneNum', 'speed_limit',\n",
    "                              'level', 'width'], header=None)"
   ]
  },
  {
   "cell_type": "code",
   "execution_count": null,
   "metadata": {},
   "outputs": [],
   "source": [
    "pro = pd.read_csv('per_road_pro.txt')"
   ]
  },
  {
   "cell_type": "code",
   "execution_count": null,
   "metadata": {},
   "outputs": [],
   "source": [
    "ver = pd.read_csv('train/is_train_20190730.txt')\n",
    "#ver['is_night'] = ver['future_slice_id'].apply(lambda x: 0 if (0< x <= 172) | (x>=690) else 1)\n",
    "ver = ver.merge(attr, on='link', how='left')\n",
    "ver = ver.merge(pro, on='link', how='left')"
   ]
  },
  {
   "cell_type": "code",
   "execution_count": null,
   "metadata": {},
   "outputs": [],
   "source": [
    "use_cols = [i for i in ver.columns if i not in ['link', 'label', 'label_pred']]\n",
    "X_ver = (ver.loc[:,use_cols])\n",
    "y_ver = (ver['label'])"
   ]
  },
  {
   "cell_type": "code",
   "execution_count": null,
   "metadata": {},
   "outputs": [],
   "source": [
    "class_ = []"
   ]
  },
  {
   "cell_type": "code",
   "execution_count": null,
   "metadata": {},
   "outputs": [],
   "source": [
    "test = pd.read_csv('testgai.txt')\n",
    "\n",
    "test = test.merge(pro, on='link', how='left')\n",
    "X_test= (test.loc[:,use_cols])\n",
    "y_test = (test['label'])"
   ]
  },
  {
   "cell_type": "markdown",
   "metadata": {},
   "source": [
    "## 多个单天bagging"
   ]
  },
  {
   "cell_type": "code",
   "execution_count": null,
   "metadata": {
    "scrolled": true
   },
   "outputs": [],
   "source": [
    "from sklearn.ensemble import BaggingClassifier\n",
    "for i in tqdm(range(20,30)):\n",
    "    path = 'train/is_train_201907'+str(i)+'.txt'\n",
    "    data = pd.read_csv(path)\n",
    "    #data['is_night'] = data['future_slice_id'].apply(lambda x: 0 if (0< x <= 172) | (x>=690) else 1)\n",
    "    data = data.merge(attr, on='link', how='left')\n",
    "    data = data.merge(pro, on='link', how='left')\n",
    "    X_train= (data.loc[:,use_cols])\n",
    "    y_train = (data['label'])\n",
    "    tree = cb.CatBoostClassifier(iterations=100,depth=5,l2_leaf_reg=8,learning_rate=0.5,random_strength=1,losns_function='MultiClassOneVsAll',logging_level='Verbose')\n",
    "    bag = BaggingClassifier(base_estimator=tree,n_estimators=6,max_samples=1.0,max_features=1.0,bootstrap=True,\n",
    "                            bootstrap_features=False,n_jobs=1,random_state=1)\n",
    "    w = np.array((y_train+1))\n",
    "    bag = bag.fit(X_train,y_train,sample_weight=w)\n",
    "    class_.append(bag)\n",
    "    y_train_pred = bag.predict(X_train)\n",
    "    y_test_pred = bag.predict(X_ver)\n",
    "    test_pred = bag.predict(X_test)\n",
    "    if (i==20):\n",
    "        sum_ = y_test_pred\n",
    "        sum_test = test_pred\n",
    "        i = 0\n",
    "    else:\n",
    "        sum_ = np.vstack((sum_,y_test_pred))\n",
    "        sum_test = np.vstack((sum_test,test_pred))\n",
    "    print('sum_:',sum_.shape)\n",
    "    bag_train = accuracy_score(y_train,y_train_pred)\n",
    "    bag_test = accuracy_score(y_ver,y_test_pred)\n",
    "    print('Bagging train/test accuracies %.3f/%.3f' % (bag_train,bag_test))"
   ]
  },
  {
   "cell_type": "code",
   "execution_count": null,
   "metadata": {},
   "outputs": [],
   "source": [
    "from joblib import dump\n",
    "dump(class_, \"class_.txt\")  "
   ]
  },
  {
   "cell_type": "code",
   "execution_count": null,
   "metadata": {},
   "outputs": [],
   "source": [
    "temp = stats.mode(sum_,axis=0)"
   ]
  },
  {
   "cell_type": "code",
   "execution_count": null,
   "metadata": {},
   "outputs": [],
   "source": [
    "fin_res = temp.mode.reshape(-1)"
   ]
  },
  {
   "cell_type": "code",
   "execution_count": null,
   "metadata": {},
   "outputs": [],
   "source": [
    "sub_res = stats.mode(sum_test,axis=0)\n",
    "fin_res = sub_res.mode.reshape(-1)"
   ]
  },
  {
   "cell_type": "code",
   "execution_count": null,
   "metadata": {},
   "outputs": [],
   "source": [
    "print(len(np.where(fin_res==0)[0]),len(np.where(fin_res==1)[0]),len(np.where(fin_res==2)[0]))"
   ]
  },
  {
   "cell_type": "code",
   "execution_count": null,
   "metadata": {},
   "outputs": [],
   "source": [
    "i = 0\n",
    "for cla in tqdm(class_):\n",
    "    temp_res = cla.predict_proba(X_test)\n",
    "    if (i==0):\n",
    "        fin = temp_res\n",
    "        i=2\n",
    "    else:\n",
    "        #fin = np.vstack((fin,temp_res))\n",
    "        fin = fin+temp_res"
   ]
  },
  {
   "cell_type": "code",
   "execution_count": null,
   "metadata": {},
   "outputs": [],
   "source": [
    "ah = fin.copy()"
   ]
  },
  {
   "cell_type": "code",
   "execution_count": null,
   "metadata": {},
   "outputs": [],
   "source": [
    "fin = ah.copy()\n",
    "fin = fin/fin.sum(axis=1).reshape(-1,1)"
   ]
  },
  {
   "cell_type": "code",
   "execution_count": null,
   "metadata": {},
   "outputs": [],
   "source": [
    "len(np.where(fin[:,0]>0.62)[0])"
   ]
  },
  {
   "cell_type": "code",
   "execution_count": null,
   "metadata": {
    "scrolled": true
   },
   "outputs": [],
   "source": [
    "len(np.where(fin[:,1]>0.34)[0])"
   ]
  },
  {
   "cell_type": "code",
   "execution_count": null,
   "metadata": {},
   "outputs": [],
   "source": [
    "len(np.where(fin[:,2]>0.3)[0])"
   ]
  },
  {
   "cell_type": "code",
   "execution_count": null,
   "metadata": {},
   "outputs": [],
   "source": [
    "a = (np.zeros((176057,1))-1)"
   ]
  },
  {
   "cell_type": "code",
   "execution_count": null,
   "metadata": {},
   "outputs": [],
   "source": [
    "#len(np.where(fin[:,2]>0.33)[0])\n",
    "a[np.where(fin[:,2]>0.3)[0]]=3\n",
    "fin[np.where(fin[:,2]<=0.3)[0],2]=0"
   ]
  },
  {
   "cell_type": "code",
   "execution_count": null,
   "metadata": {},
   "outputs": [],
   "source": [
    "a[np.where(fin[:,0]>0.62)[0]]=1\n",
    "fin[np.where(fin[:,0]<=0.62)[0],0]=0"
   ]
  },
  {
   "cell_type": "code",
   "execution_count": null,
   "metadata": {},
   "outputs": [],
   "source": [
    "fin"
   ]
  },
  {
   "cell_type": "code",
   "execution_count": null,
   "metadata": {},
   "outputs": [],
   "source": [
    "a = np.where(a==-1,2,a)"
   ]
  },
  {
   "cell_type": "code",
   "execution_count": null,
   "metadata": {},
   "outputs": [],
   "source": [
    "len(np.where(a==1)[0])"
   ]
  },
  {
   "cell_type": "code",
   "execution_count": null,
   "metadata": {},
   "outputs": [],
   "source": [
    "len(np.where(a==2)[0])"
   ]
  },
  {
   "cell_type": "code",
   "execution_count": null,
   "metadata": {},
   "outputs": [],
   "source": [
    "len(np.where(a==3)[0])"
   ]
  },
  {
   "cell_type": "code",
   "execution_count": null,
   "metadata": {},
   "outputs": [],
   "source": [
    "lgb = test[['link', 'current_slice_id', 'future_slice_id', 'label']]"
   ]
  },
  {
   "cell_type": "code",
   "execution_count": null,
   "metadata": {},
   "outputs": [],
   "source": [
    "lgb['label'] = a"
   ]
  },
  {
   "cell_type": "code",
   "execution_count": null,
   "metadata": {},
   "outputs": [],
   "source": [
    "lgb.to_csv('2020_11_22_1.csv', index=False, encoding='utf8')"
   ]
  },
  {
   "cell_type": "code",
   "execution_count": null,
   "metadata": {},
   "outputs": [],
   "source": [
    "test1 = pd.read_csv('time_slice/one_day.txt')\n",
    "test2 = pd.read_csv('time_slice/two_day.txt')\n",
    "test = pd.concat((test1,test2))"
   ]
  },
  {
   "cell_type": "code",
   "execution_count": null,
   "metadata": {},
   "outputs": [],
   "source": [
    "#test['is_night'] = test['future_slice_id'].apply(lambda x: 0 if (0< x <= 172) | (x>=690) else 1)\n",
    "test = test.merge(attr, on='link', how='left')\n",
    "test = test.merge(pro, on='link', how='left')"
   ]
  },
  {
   "cell_type": "code",
   "execution_count": null,
   "metadata": {},
   "outputs": [],
   "source": [
    "X_test = (test.loc[:,use_cols])\n",
    "y_test = (test['label'])"
   ]
  },
  {
   "cell_type": "code",
   "execution_count": null,
   "metadata": {},
   "outputs": [],
   "source": [
    "i = 0\n",
    "for cla in tqdm(class_):\n",
    "    temp_res = cla.predict(X_test)\n",
    "    if (i==0):\n",
    "        fin = temp_res\n",
    "        i=2\n",
    "    else:\n",
    "        fin = np.vstack((fin,temp_res))"
   ]
  },
  {
   "cell_type": "code",
   "execution_count": null,
   "metadata": {},
   "outputs": [],
   "source": [
    "temp = stats.mode(fin,axis=0)"
   ]
  },
  {
   "cell_type": "code",
   "execution_count": null,
   "metadata": {},
   "outputs": [],
   "source": [
    "fin_res = temp.mode.reshape(-1)"
   ]
  },
  {
   "cell_type": "code",
   "execution_count": null,
   "metadata": {},
   "outputs": [],
   "source": [
    "print(classification_report(y_test,fin_res,digits=4))\n",
    "report = f1_score(y_test,fin_res, average=None)\n",
    "print('Score: ', report[0] * 0.2 + report[1] * 0.2 + report[2] * 0.6)"
   ]
  },
  {
   "cell_type": "code",
   "execution_count": null,
   "metadata": {},
   "outputs": [],
   "source": [
    "lgb = test[['link', 'current_slice_id', 'future_slice_id', 'label']]"
   ]
  },
  {
   "cell_type": "code",
   "execution_count": null,
   "metadata": {},
   "outputs": [],
   "source": [
    "lgb['label']=fin_res+1"
   ]
  },
  {
   "cell_type": "code",
   "execution_count": null,
   "metadata": {},
   "outputs": [],
   "source": [
    "lgb.to_csv('2020_11_17.csv', index=False, encoding='utf8')"
   ]
  },
  {
   "cell_type": "markdown",
   "metadata": {},
   "source": [
    "## 34万bagging"
   ]
  },
  {
   "cell_type": "code",
   "execution_count": null,
   "metadata": {},
   "outputs": [],
   "source": []
  }
 ],
 "metadata": {
  "kernelspec": {
   "display_name": "Python 3",
   "language": "python",
   "name": "python3"
  },
  "language_info": {
   "codemirror_mode": {
    "name": "ipython",
    "version": 3
   },
   "file_extension": ".py",
   "mimetype": "text/x-python",
   "name": "python",
   "nbconvert_exporter": "python",
   "pygments_lexer": "ipython3",
   "version": "3.8.3"
  }
 },
 "nbformat": 4,
 "nbformat_minor": 4
}

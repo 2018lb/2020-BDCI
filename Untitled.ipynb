{
 "cells": [
  {
   "cell_type": "code",
   "execution_count": null,
   "metadata": {},
   "outputs": [],
   "source": [
    "import pandas as pd\n",
    "import numpy as np\n",
    "from tqdm import tqdm\n",
    "from sklearn.model_selection import KFold\n",
    "from sklearn.metrics import classification_report, f1_score\n",
    "import lightgbm as lgb\n",
    "from collections import Counter\n",
    "import warnings\n",
    "import pickle\n",
    "from catboost import CatBoostClassifier\n",
    "warnings.filterwarnings(\"ignore\")\n",
    "from sklearn.model_selection import train_test_split\n",
    "import lightgbm as lgb"
   ]
  },
  {
   "cell_type": "code",
   "execution_count": null,
   "metadata": {},
   "outputs": [],
   "source": [
    "train = pd.read_csv('train/is_train_20190702.txt')"
   ]
  },
  {
   "cell_type": "code",
   "execution_count": null,
   "metadata": {},
   "outputs": [],
   "source": [
    "pro = pd.read_csv('per_road_pro.txt')\n",
    "train = pd.merge(train, pro, how='left')"
   ]
  },
  {
   "cell_type": "code",
   "execution_count": null,
   "metadata": {},
   "outputs": [],
   "source": [
    "y = train.label\n",
    "train = train.drop('label',1)"
   ]
  },
  {
   "cell_type": "code",
   "execution_count": null,
   "metadata": {},
   "outputs": [],
   "source": [
    "train_1 = pd.read_csv('train//is_train_20190730.txt')\n",
    "y_5 = train_1.label\n",
    "train_1 = pd.merge(train_1, pro, how='left')\n",
    "train_1 = train_1.drop('label',1)"
   ]
  },
  {
   "cell_type": "code",
   "execution_count": null,
   "metadata": {},
   "outputs": [],
   "source": [
    "s = train.columns.values"
   ]
  },
  {
   "cell_type": "code",
   "execution_count": null,
   "metadata": {},
   "outputs": [],
   "source": [
    "max_s = 0.59923198606491"
   ]
  },
  {
   "cell_type": "code",
   "execution_count": null,
   "metadata": {},
   "outputs": [],
   "source": [
    "del_item = []\n",
    "item_Score = []\n",
    "y_train = y\n",
    "y_validation = y_5"
   ]
  },
  {
   "cell_type": "code",
   "execution_count": null,
   "metadata": {},
   "outputs": [],
   "source": [
    "train = train.drop(labels = kkk[0], axis = 1)\n",
    "train_1 = train_1.drop(labels = kkk[0], axis = 1)"
   ]
  },
  {
   "cell_type": "code",
   "execution_count": null,
   "metadata": {},
   "outputs": [],
   "source": [
    "max_s = 0.6050596422983368"
   ]
  },
  {
   "cell_type": "code",
   "execution_count": null,
   "metadata": {
    "scrolled": true
   },
   "outputs": [],
   "source": [
    "for i in range(80):\n",
    "    s = train.columns.values\n",
    "    ll = -1\n",
    "    for i in tqdm(range(s.size)):\n",
    "\n",
    "        X_train = train.drop(labels = s[i], axis = 1)\n",
    "        X_validation = train_1.drop(labels = s[i], axis = 1)\n",
    "\n",
    "        w = np.array((y_train+1))\n",
    "        model = CatBoostClassifier(iterations=200,depth=6,l2_leaf_reg=8,learning_rate=0.5,random_strength=1,\n",
    "                                      loss_function='MultiClassOneVsAll',logging_level='Verbose')\n",
    "\n",
    "        model.fit(X_train,y_train,eval_set=(X_validation,y_validation),sample_weight=w,early_stopping_rounds=20,verbose=False)\n",
    "\n",
    "        report = f1_score(y_5, model.predict(X_validation), average=None)\n",
    "        Score = report[0] * 0.2 + report[1] * 0.2 + report[2] * 0.6\n",
    "        print('Score: ', report[0] * 0.2 + report[1] * 0.2 + report[2] * 0.6)\n",
    "        if (max_s < Score):\n",
    "            max_s = Score\n",
    "            ll = i\n",
    "    if (ll != -1):\n",
    "        del_item.append(s[ll])\n",
    "        item_Score.append(Score)\n",
    "        X_train = train.drop(labels = s[i], axis = 1)\n",
    "        X_validation = train_1.drop(labels = s[i], axis = 1)\n",
    "    else:\n",
    "        break"
   ]
  },
  {
   "cell_type": "code",
   "execution_count": null,
   "metadata": {},
   "outputs": [],
   "source": [
    "s = train.columns.values"
   ]
  },
  {
   "cell_type": "code",
   "execution_count": null,
   "metadata": {},
   "outputs": [],
   "source": [
    "max_s"
   ]
  },
  {
   "cell_type": "code",
   "execution_count": null,
   "metadata": {},
   "outputs": [],
   "source": [
    "pd.set_option('display.max_rows',100)"
   ]
  },
  {
   "cell_type": "code",
   "execution_count": null,
   "metadata": {},
   "outputs": [],
   "source": [
    "op = pd.DataFrame([item_Score,del_item]).transpose()"
   ]
  },
  {
   "cell_type": "code",
   "execution_count": null,
   "metadata": {
    "scrolled": true
   },
   "outputs": [],
   "source": [
    "op.sort_values(by = 0)"
   ]
  },
  {
   "cell_type": "code",
   "execution_count": null,
   "metadata": {},
   "outputs": [],
   "source": [
    "kkk = ['his_14_speed_min', 'current_cnt_min', 'his_21_speed_std', 'his_21_speed_mean', 'his_7_speed_mean', 'his_14_speed_max', 'current_eta_max', 'current_eta_mean', 'his_14_eta_min', 'his_14_eta_mean', 'his_28_speed_min']"
   ]
  },
  {
   "cell_type": "code",
   "execution_count": null,
   "metadata": {},
   "outputs": [],
   "source": [
    "kkk = op[1]"
   ]
  },
  {
   "cell_type": "code",
   "execution_count": null,
   "metadata": {},
   "outputs": [],
   "source": [
    "len(kkk)"
   ]
  },
  {
   "cell_type": "code",
   "execution_count": null,
   "metadata": {},
   "outputs": [],
   "source": [
    "X_train = train\n",
    "X_validation = train_1\n",
    "y_train = y\n",
    "y_validation = y_5"
   ]
  },
  {
   "cell_type": "code",
   "execution_count": null,
   "metadata": {},
   "outputs": [],
   "source": [
    "\n",
    "w = np.array((y_train+1))\n",
    "model = CatBoostClassifier(iterations=200,depth=6,l2_leaf_reg=8,learning_rate=0.5,random_strength=1,\n",
    "                                      loss_function='MultiClassOneVsAll',logging_level='Verbose')\n",
    "\n",
    "model.fit(X_train,y_train,eval_set=(X_validation,y_validation),sample_weight=w,early_stopping_rounds=20,verbose=False)\n",
    "\n",
    "report = f1_score(y_5, model.predict(X_validation), average=None)\n",
    "Score = report[0] * 0.2 + report[1] * 0.2 + report[2] * 0.6\n",
    "print('Score: ', report[0] * 0.2 + report[1] * 0.2 + report[2] * 0.6)\n",
    "print(classification_report(y_5, model.predict(X_validation), digits=4))"
   ]
  },
  {
   "cell_type": "code",
   "execution_count": null,
   "metadata": {},
   "outputs": [],
   "source": [
    "report = f1_score(y_5, model.predict(train_1), average=None)\n",
    "Score = report[0] * 0.2 + report[1] * 0.2 + report[2] * 0.6\n",
    "print('Score: ', report[0] * 0.2 + report[1] * 0.2 + report[2] * 0.6)"
   ]
  },
  {
   "cell_type": "code",
   "execution_count": null,
   "metadata": {},
   "outputs": [],
   "source": [
    "\n",
    "for i in tqdm(range(1,10)):\n",
    "    path = 'train/is_train_2019070'+str(i)+'.txt'\n",
    "    print(path)\n",
    "    data = pd.read_csv(path)\n",
    "    data.loc[data['current_speed_max']==0,['current_speed_max','current_speed_mean','current_eta_max', 'current_eta_mean']]=30\n",
    "    data.loc[data['now_speed']==0,['now_speed','now_eta']]=30\n",
    "    data.loc[data['his_28_speed_max']==0,['his_28_speed_max','his_28_speed_mean','his_28_eta_max', 'his_28_eta_mean']]=30\n",
    "    data.loc[data['his_21_speed_max']==0,['his_21_speed_max','his_21_speed_mean','his_21_eta_max', 'his_21_eta_mean']]=30\n",
    "    data.loc[data['his_14_speed_max']==0,['his_14_speed_max','his_14_speed_mean','his_14_eta_max', 'his_14_eta_mean']]=30\n",
    "    data.loc[data['his_7_speed_max']==0,['his_7_speed_max','his_7_speed_mean','his_7_eta_max', 'his_7_eta_mean']]=30\n",
    "    data.to_csv(path,index=False)\n",
    "\n",
    "for i in tqdm(range(10,31)):\n",
    "    path = 'train/is_train_201907'+str(i)+'.txt'\n",
    "    print(path)\n",
    "    data = pd.read_csv(path)\n",
    "    data.loc[data['current_speed_max']==0,['current_speed_max','current_speed_mean','current_eta_max', 'current_eta_mean']]=30\n",
    "    data.loc[data['now_speed']==0,['now_speed','now_eta']]=30\n",
    "    data.loc[data['his_28_speed_max']==0,['his_28_speed_max','his_28_speed_mean','his_28_eta_max', 'his_28_eta_mean']]=30\n",
    "    data.loc[data['his_21_speed_max']==0,['his_21_speed_max','his_21_speed_mean','his_21_eta_max', 'his_21_eta_mean']]=30\n",
    "    data.loc[data['his_14_speed_max']==0,['his_14_speed_max','his_14_speed_mean','his_14_eta_max', 'his_14_eta_mean']]=30\n",
    "    data.loc[data['his_7_speed_max']==0,['his_7_speed_max','his_7_speed_mean','his_7_eta_max', 'his_7_eta_mean']]=30\n",
    "    data.to_csv(path,index=False)\n",
    "\n"
   ]
  },
  {
   "cell_type": "code",
   "execution_count": null,
   "metadata": {},
   "outputs": [],
   "source": []
  },
  {
   "cell_type": "code",
   "execution_count": null,
   "metadata": {},
   "outputs": [],
   "source": []
  },
  {
   "cell_type": "code",
   "execution_count": null,
   "metadata": {},
   "outputs": [],
   "source": []
  }
 ],
 "metadata": {
  "kernelspec": {
   "display_name": "Python 3",
   "language": "python",
   "name": "python3"
  },
  "language_info": {
   "codemirror_mode": {
    "name": "ipython",
    "version": 3
   },
   "file_extension": ".py",
   "mimetype": "text/x-python",
   "name": "python",
   "nbconvert_exporter": "python",
   "pygments_lexer": "ipython3",
   "version": "3.8.3"
  }
 },
 "nbformat": 4,
 "nbformat_minor": 4
}
